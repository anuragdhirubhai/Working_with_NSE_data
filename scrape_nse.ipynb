{
 "cells": [
  {
   "cell_type": "code",
   "execution_count": null,
   "metadata": {},
   "outputs": [],
   "source": [
    "pip install requests\n"
   ]
  },
  {
   "cell_type": "code",
   "execution_count": null,
   "metadata": {},
   "outputs": [],
   "source": [
    "pip install yfinance"
   ]
  },
  {
   "cell_type": "code",
   "execution_count": 3,
   "metadata": {},
   "outputs": [],
   "source": [
    "import os"
   ]
  },
  {
   "cell_type": "code",
   "execution_count": null,
   "metadata": {},
   "outputs": [],
   "source": [
    "pip install openpyxl"
   ]
  },
  {
   "cell_type": "code",
   "execution_count": null,
   "metadata": {},
   "outputs": [],
   "source": [
    "pip install beautifulsoup4"
   ]
  },
  {
   "cell_type": "code",
   "execution_count": 6,
   "metadata": {},
   "outputs": [],
   "source": [
    "import requests\n",
    "from bs4 import BeautifulSoup\n",
    "import openpyxl"
   ]
  },
  {
   "cell_type": "code",
   "execution_count": 7,
   "metadata": {},
   "outputs": [],
   "source": [
    "import matplotlib as plt\n",
    "import seaborn as sns"
   ]
  },
  {
   "cell_type": "code",
   "execution_count": 8,
   "metadata": {},
   "outputs": [],
   "source": [
    "#importing libraries\n",
    "import pandas as pd\n",
    "\n",
    "import yfinance as yf\n",
    "import requests\n",
    "from bs4 import BeautifulSoup\n",
    "\n",
    "import plotly.graph_objects as go\n",
    "from plotly.subplots import make_subplots"
   ]
  },
  {
   "cell_type": "code",
   "execution_count": 9,
   "metadata": {},
   "outputs": [],
   "source": [
    "import pandas as pd\n",
    "import numpy as np"
   ]
  },
  {
   "cell_type": "code",
   "execution_count": 10,
   "metadata": {},
   "outputs": [
    {
     "name": "stdout",
     "output_type": "stream",
     "text": [
      "         Date  series    OPEN    HIGH     LOW   PREV. CLOSE     ltp   close   \\\n",
      "0  28-Aug-2023      BE  213.35  222.25  207.55        214.50  210.10  211.15   \n",
      "1  25-Aug-2023      BE  202.80  224.10  202.80        213.45  221.60  214.50   \n",
      "2  24-Aug-2023      BE  213.45  213.45  213.45        224.65  213.45  213.45   \n",
      "3  23-Aug-2023      BE  224.65  224.65  224.65        236.45  224.65  224.65   \n",
      "4  22-Aug-2023      BE  236.45  236.45  236.45        248.90  236.45  236.45   \n",
      "5  21-Aug-2023      BE  262.00  262.05  248.90        261.85  248.90  248.90   \n",
      "\n",
      "    vwap   52W H   52W L       VOLUME              VALUE  No of trades   \n",
      "0  216.13  262.05  202.80   87,522,126  18,916,412,848.50       614,341  \n",
      "1  208.11  262.05  202.80  281,040,185  58,486,553,466.05       668,251  \n",
      "2  213.45  262.05  213.45   27,673,356   5,906,877,838.20        85,618  \n",
      "3  224.65  262.05  224.65    4,289,046     963,534,183.90        70,571  \n",
      "4  236.45  262.05  236.45    7,281,398   1,721,686,557.10        88,607  \n",
      "5  253.78  262.05  248.90   74,715,306  18,961,288,026.65       347,015  \n"
     ]
    }
   ],
   "source": [
    "data = \"jiofin_hist_290823.csv\"\n",
    "\n",
    "share_data = pd.read_csv(data, sep=',', quotechar='\"')\n",
    "\n",
    "print(share_data)"
   ]
  },
  {
   "cell_type": "code",
   "execution_count": 11,
   "metadata": {},
   "outputs": [
    {
     "data": {
      "text/html": [
       "<div>\n",
       "<style scoped>\n",
       "    .dataframe tbody tr th:only-of-type {\n",
       "        vertical-align: middle;\n",
       "    }\n",
       "\n",
       "    .dataframe tbody tr th {\n",
       "        vertical-align: top;\n",
       "    }\n",
       "\n",
       "    .dataframe thead th {\n",
       "        text-align: right;\n",
       "    }\n",
       "</style>\n",
       "<table border=\"1\" class=\"dataframe\">\n",
       "  <thead>\n",
       "    <tr style=\"text-align: right;\">\n",
       "      <th></th>\n",
       "      <th>Date</th>\n",
       "      <th>series</th>\n",
       "      <th>OPEN</th>\n",
       "      <th>HIGH</th>\n",
       "      <th>LOW</th>\n",
       "      <th>PREV. CLOSE</th>\n",
       "      <th>ltp</th>\n",
       "      <th>close</th>\n",
       "      <th>vwap</th>\n",
       "      <th>52W H</th>\n",
       "      <th>52W L</th>\n",
       "      <th>VOLUME</th>\n",
       "      <th>VALUE</th>\n",
       "      <th>No of trades</th>\n",
       "    </tr>\n",
       "  </thead>\n",
       "  <tbody>\n",
       "    <tr>\n",
       "      <th>0</th>\n",
       "      <td>28-Aug-2023</td>\n",
       "      <td>BE</td>\n",
       "      <td>213.35</td>\n",
       "      <td>222.25</td>\n",
       "      <td>207.55</td>\n",
       "      <td>214.50</td>\n",
       "      <td>210.10</td>\n",
       "      <td>211.15</td>\n",
       "      <td>216.13</td>\n",
       "      <td>262.05</td>\n",
       "      <td>202.80</td>\n",
       "      <td>87,522,126</td>\n",
       "      <td>18,916,412,848.50</td>\n",
       "      <td>614,341</td>\n",
       "    </tr>\n",
       "    <tr>\n",
       "      <th>1</th>\n",
       "      <td>25-Aug-2023</td>\n",
       "      <td>BE</td>\n",
       "      <td>202.80</td>\n",
       "      <td>224.10</td>\n",
       "      <td>202.80</td>\n",
       "      <td>213.45</td>\n",
       "      <td>221.60</td>\n",
       "      <td>214.50</td>\n",
       "      <td>208.11</td>\n",
       "      <td>262.05</td>\n",
       "      <td>202.80</td>\n",
       "      <td>281,040,185</td>\n",
       "      <td>58,486,553,466.05</td>\n",
       "      <td>668,251</td>\n",
       "    </tr>\n",
       "    <tr>\n",
       "      <th>2</th>\n",
       "      <td>24-Aug-2023</td>\n",
       "      <td>BE</td>\n",
       "      <td>213.45</td>\n",
       "      <td>213.45</td>\n",
       "      <td>213.45</td>\n",
       "      <td>224.65</td>\n",
       "      <td>213.45</td>\n",
       "      <td>213.45</td>\n",
       "      <td>213.45</td>\n",
       "      <td>262.05</td>\n",
       "      <td>213.45</td>\n",
       "      <td>27,673,356</td>\n",
       "      <td>5,906,877,838.20</td>\n",
       "      <td>85,618</td>\n",
       "    </tr>\n",
       "    <tr>\n",
       "      <th>3</th>\n",
       "      <td>23-Aug-2023</td>\n",
       "      <td>BE</td>\n",
       "      <td>224.65</td>\n",
       "      <td>224.65</td>\n",
       "      <td>224.65</td>\n",
       "      <td>236.45</td>\n",
       "      <td>224.65</td>\n",
       "      <td>224.65</td>\n",
       "      <td>224.65</td>\n",
       "      <td>262.05</td>\n",
       "      <td>224.65</td>\n",
       "      <td>4,289,046</td>\n",
       "      <td>963,534,183.90</td>\n",
       "      <td>70,571</td>\n",
       "    </tr>\n",
       "    <tr>\n",
       "      <th>4</th>\n",
       "      <td>22-Aug-2023</td>\n",
       "      <td>BE</td>\n",
       "      <td>236.45</td>\n",
       "      <td>236.45</td>\n",
       "      <td>236.45</td>\n",
       "      <td>248.90</td>\n",
       "      <td>236.45</td>\n",
       "      <td>236.45</td>\n",
       "      <td>236.45</td>\n",
       "      <td>262.05</td>\n",
       "      <td>236.45</td>\n",
       "      <td>7,281,398</td>\n",
       "      <td>1,721,686,557.10</td>\n",
       "      <td>88,607</td>\n",
       "    </tr>\n",
       "  </tbody>\n",
       "</table>\n",
       "</div>"
      ],
      "text/plain": [
       "         Date  series    OPEN    HIGH     LOW   PREV. CLOSE     ltp   close   \\\n",
       "0  28-Aug-2023      BE  213.35  222.25  207.55        214.50  210.10  211.15   \n",
       "1  25-Aug-2023      BE  202.80  224.10  202.80        213.45  221.60  214.50   \n",
       "2  24-Aug-2023      BE  213.45  213.45  213.45        224.65  213.45  213.45   \n",
       "3  23-Aug-2023      BE  224.65  224.65  224.65        236.45  224.65  224.65   \n",
       "4  22-Aug-2023      BE  236.45  236.45  236.45        248.90  236.45  236.45   \n",
       "\n",
       "    vwap   52W H   52W L       VOLUME              VALUE  No of trades   \n",
       "0  216.13  262.05  202.80   87,522,126  18,916,412,848.50       614,341  \n",
       "1  208.11  262.05  202.80  281,040,185  58,486,553,466.05       668,251  \n",
       "2  213.45  262.05  213.45   27,673,356   5,906,877,838.20        85,618  \n",
       "3  224.65  262.05  224.65    4,289,046     963,534,183.90        70,571  \n",
       "4  236.45  262.05  236.45    7,281,398   1,721,686,557.10        88,607  "
      ]
     },
     "execution_count": 11,
     "metadata": {},
     "output_type": "execute_result"
    }
   ],
   "source": [
    "share_data.head()"
   ]
  },
  {
   "cell_type": "code",
   "execution_count": 12,
   "metadata": {},
   "outputs": [
    {
     "data": {
      "text/html": [
       "<div>\n",
       "<style scoped>\n",
       "    .dataframe tbody tr th:only-of-type {\n",
       "        vertical-align: middle;\n",
       "    }\n",
       "\n",
       "    .dataframe tbody tr th {\n",
       "        vertical-align: top;\n",
       "    }\n",
       "\n",
       "    .dataframe thead th {\n",
       "        text-align: right;\n",
       "    }\n",
       "</style>\n",
       "<table border=\"1\" class=\"dataframe\">\n",
       "  <thead>\n",
       "    <tr style=\"text-align: right;\">\n",
       "      <th></th>\n",
       "      <th>Date</th>\n",
       "      <th>series</th>\n",
       "      <th>OPEN</th>\n",
       "      <th>HIGH</th>\n",
       "      <th>LOW</th>\n",
       "      <th>PREV. CLOSE</th>\n",
       "      <th>ltp</th>\n",
       "      <th>close</th>\n",
       "      <th>vwap</th>\n",
       "      <th>52W H</th>\n",
       "      <th>52W L</th>\n",
       "      <th>VOLUME</th>\n",
       "      <th>VALUE</th>\n",
       "      <th>No of trades</th>\n",
       "    </tr>\n",
       "  </thead>\n",
       "  <tbody>\n",
       "    <tr>\n",
       "      <th>1</th>\n",
       "      <td>25-Aug-2023</td>\n",
       "      <td>BE</td>\n",
       "      <td>202.80</td>\n",
       "      <td>224.10</td>\n",
       "      <td>202.80</td>\n",
       "      <td>213.45</td>\n",
       "      <td>221.60</td>\n",
       "      <td>214.50</td>\n",
       "      <td>208.11</td>\n",
       "      <td>262.05</td>\n",
       "      <td>202.80</td>\n",
       "      <td>281,040,185</td>\n",
       "      <td>58,486,553,466.05</td>\n",
       "      <td>668,251</td>\n",
       "    </tr>\n",
       "    <tr>\n",
       "      <th>2</th>\n",
       "      <td>24-Aug-2023</td>\n",
       "      <td>BE</td>\n",
       "      <td>213.45</td>\n",
       "      <td>213.45</td>\n",
       "      <td>213.45</td>\n",
       "      <td>224.65</td>\n",
       "      <td>213.45</td>\n",
       "      <td>213.45</td>\n",
       "      <td>213.45</td>\n",
       "      <td>262.05</td>\n",
       "      <td>213.45</td>\n",
       "      <td>27,673,356</td>\n",
       "      <td>5,906,877,838.20</td>\n",
       "      <td>85,618</td>\n",
       "    </tr>\n",
       "    <tr>\n",
       "      <th>3</th>\n",
       "      <td>23-Aug-2023</td>\n",
       "      <td>BE</td>\n",
       "      <td>224.65</td>\n",
       "      <td>224.65</td>\n",
       "      <td>224.65</td>\n",
       "      <td>236.45</td>\n",
       "      <td>224.65</td>\n",
       "      <td>224.65</td>\n",
       "      <td>224.65</td>\n",
       "      <td>262.05</td>\n",
       "      <td>224.65</td>\n",
       "      <td>4,289,046</td>\n",
       "      <td>963,534,183.90</td>\n",
       "      <td>70,571</td>\n",
       "    </tr>\n",
       "    <tr>\n",
       "      <th>4</th>\n",
       "      <td>22-Aug-2023</td>\n",
       "      <td>BE</td>\n",
       "      <td>236.45</td>\n",
       "      <td>236.45</td>\n",
       "      <td>236.45</td>\n",
       "      <td>248.90</td>\n",
       "      <td>236.45</td>\n",
       "      <td>236.45</td>\n",
       "      <td>236.45</td>\n",
       "      <td>262.05</td>\n",
       "      <td>236.45</td>\n",
       "      <td>7,281,398</td>\n",
       "      <td>1,721,686,557.10</td>\n",
       "      <td>88,607</td>\n",
       "    </tr>\n",
       "    <tr>\n",
       "      <th>5</th>\n",
       "      <td>21-Aug-2023</td>\n",
       "      <td>BE</td>\n",
       "      <td>262.00</td>\n",
       "      <td>262.05</td>\n",
       "      <td>248.90</td>\n",
       "      <td>261.85</td>\n",
       "      <td>248.90</td>\n",
       "      <td>248.90</td>\n",
       "      <td>253.78</td>\n",
       "      <td>262.05</td>\n",
       "      <td>248.90</td>\n",
       "      <td>74,715,306</td>\n",
       "      <td>18,961,288,026.65</td>\n",
       "      <td>347,015</td>\n",
       "    </tr>\n",
       "  </tbody>\n",
       "</table>\n",
       "</div>"
      ],
      "text/plain": [
       "         Date  series    OPEN    HIGH     LOW   PREV. CLOSE     ltp   close   \\\n",
       "1  25-Aug-2023      BE  202.80  224.10  202.80        213.45  221.60  214.50   \n",
       "2  24-Aug-2023      BE  213.45  213.45  213.45        224.65  213.45  213.45   \n",
       "3  23-Aug-2023      BE  224.65  224.65  224.65        236.45  224.65  224.65   \n",
       "4  22-Aug-2023      BE  236.45  236.45  236.45        248.90  236.45  236.45   \n",
       "5  21-Aug-2023      BE  262.00  262.05  248.90        261.85  248.90  248.90   \n",
       "\n",
       "    vwap   52W H   52W L       VOLUME              VALUE  No of trades   \n",
       "1  208.11  262.05  202.80  281,040,185  58,486,553,466.05       668,251  \n",
       "2  213.45  262.05  213.45   27,673,356   5,906,877,838.20        85,618  \n",
       "3  224.65  262.05  224.65    4,289,046     963,534,183.90        70,571  \n",
       "4  236.45  262.05  236.45    7,281,398   1,721,686,557.10        88,607  \n",
       "5  253.78  262.05  248.90   74,715,306  18,961,288,026.65       347,015  "
      ]
     },
     "execution_count": 12,
     "metadata": {},
     "output_type": "execute_result"
    }
   ],
   "source": [
    "share_data.tail()"
   ]
  },
  {
   "cell_type": "code",
   "execution_count": 13,
   "metadata": {},
   "outputs": [
    {
     "data": {
      "text/html": [
       "<div>\n",
       "<style scoped>\n",
       "    .dataframe tbody tr th:only-of-type {\n",
       "        vertical-align: middle;\n",
       "    }\n",
       "\n",
       "    .dataframe tbody tr th {\n",
       "        vertical-align: top;\n",
       "    }\n",
       "\n",
       "    .dataframe thead th {\n",
       "        text-align: right;\n",
       "    }\n",
       "</style>\n",
       "<table border=\"1\" class=\"dataframe\">\n",
       "  <thead>\n",
       "    <tr style=\"text-align: right;\">\n",
       "      <th></th>\n",
       "      <th>OPEN</th>\n",
       "      <th>HIGH</th>\n",
       "      <th>LOW</th>\n",
       "      <th>PREV. CLOSE</th>\n",
       "      <th>ltp</th>\n",
       "      <th>close</th>\n",
       "      <th>vwap</th>\n",
       "      <th>52W H</th>\n",
       "      <th>52W L</th>\n",
       "    </tr>\n",
       "  </thead>\n",
       "  <tbody>\n",
       "    <tr>\n",
       "      <th>count</th>\n",
       "      <td>6.000000</td>\n",
       "      <td>6.000000</td>\n",
       "      <td>6.000000</td>\n",
       "      <td>6.000000</td>\n",
       "      <td>6.000000</td>\n",
       "      <td>6.000000</td>\n",
       "      <td>6.000000</td>\n",
       "      <td>6.00</td>\n",
       "      <td>6.000000</td>\n",
       "    </tr>\n",
       "    <tr>\n",
       "      <th>mean</th>\n",
       "      <td>225.450000</td>\n",
       "      <td>230.491667</td>\n",
       "      <td>222.300000</td>\n",
       "      <td>233.300000</td>\n",
       "      <td>225.858333</td>\n",
       "      <td>224.850000</td>\n",
       "      <td>225.428333</td>\n",
       "      <td>262.05</td>\n",
       "      <td>221.508333</td>\n",
       "    </tr>\n",
       "    <tr>\n",
       "      <th>std</th>\n",
       "      <td>21.264877</td>\n",
       "      <td>17.115794</td>\n",
       "      <td>17.829414</td>\n",
       "      <td>19.445668</td>\n",
       "      <td>14.594431</td>\n",
       "      <td>15.084926</td>\n",
       "      <td>17.063201</td>\n",
       "      <td>0.00</td>\n",
       "      <td>18.699557</td>\n",
       "    </tr>\n",
       "    <tr>\n",
       "      <th>min</th>\n",
       "      <td>202.800000</td>\n",
       "      <td>213.450000</td>\n",
       "      <td>202.800000</td>\n",
       "      <td>213.450000</td>\n",
       "      <td>210.100000</td>\n",
       "      <td>211.150000</td>\n",
       "      <td>208.110000</td>\n",
       "      <td>262.05</td>\n",
       "      <td>202.800000</td>\n",
       "    </tr>\n",
       "    <tr>\n",
       "      <th>25%</th>\n",
       "      <td>213.375000</td>\n",
       "      <td>222.712500</td>\n",
       "      <td>209.025000</td>\n",
       "      <td>217.037500</td>\n",
       "      <td>215.487500</td>\n",
       "      <td>213.712500</td>\n",
       "      <td>214.120000</td>\n",
       "      <td>262.05</td>\n",
       "      <td>205.462500</td>\n",
       "    </tr>\n",
       "    <tr>\n",
       "      <th>50%</th>\n",
       "      <td>219.050000</td>\n",
       "      <td>224.375000</td>\n",
       "      <td>219.050000</td>\n",
       "      <td>230.550000</td>\n",
       "      <td>223.125000</td>\n",
       "      <td>219.575000</td>\n",
       "      <td>220.390000</td>\n",
       "      <td>262.05</td>\n",
       "      <td>219.050000</td>\n",
       "    </tr>\n",
       "    <tr>\n",
       "      <th>75%</th>\n",
       "      <td>233.500000</td>\n",
       "      <td>233.500000</td>\n",
       "      <td>233.500000</td>\n",
       "      <td>245.787500</td>\n",
       "      <td>233.500000</td>\n",
       "      <td>233.500000</td>\n",
       "      <td>233.500000</td>\n",
       "      <td>262.05</td>\n",
       "      <td>233.500000</td>\n",
       "    </tr>\n",
       "    <tr>\n",
       "      <th>max</th>\n",
       "      <td>262.000000</td>\n",
       "      <td>262.050000</td>\n",
       "      <td>248.900000</td>\n",
       "      <td>261.850000</td>\n",
       "      <td>248.900000</td>\n",
       "      <td>248.900000</td>\n",
       "      <td>253.780000</td>\n",
       "      <td>262.05</td>\n",
       "      <td>248.900000</td>\n",
       "    </tr>\n",
       "  </tbody>\n",
       "</table>\n",
       "</div>"
      ],
      "text/plain": [
       "            OPEN        HIGH         LOW   PREV. CLOSE         ltp   \\\n",
       "count    6.000000    6.000000    6.000000      6.000000    6.000000   \n",
       "mean   225.450000  230.491667  222.300000    233.300000  225.858333   \n",
       "std     21.264877   17.115794   17.829414     19.445668   14.594431   \n",
       "min    202.800000  213.450000  202.800000    213.450000  210.100000   \n",
       "25%    213.375000  222.712500  209.025000    217.037500  215.487500   \n",
       "50%    219.050000  224.375000  219.050000    230.550000  223.125000   \n",
       "75%    233.500000  233.500000  233.500000    245.787500  233.500000   \n",
       "max    262.000000  262.050000  248.900000    261.850000  248.900000   \n",
       "\n",
       "           close        vwap   52W H       52W L   \n",
       "count    6.000000    6.000000    6.00    6.000000  \n",
       "mean   224.850000  225.428333  262.05  221.508333  \n",
       "std     15.084926   17.063201    0.00   18.699557  \n",
       "min    211.150000  208.110000  262.05  202.800000  \n",
       "25%    213.712500  214.120000  262.05  205.462500  \n",
       "50%    219.575000  220.390000  262.05  219.050000  \n",
       "75%    233.500000  233.500000  262.05  233.500000  \n",
       "max    248.900000  253.780000  262.05  248.900000  "
      ]
     },
     "execution_count": 13,
     "metadata": {},
     "output_type": "execute_result"
    }
   ],
   "source": [
    "share_data.describe()"
   ]
  },
  {
   "cell_type": "code",
   "execution_count": 14,
   "metadata": {},
   "outputs": [
    {
     "name": "stdout",
     "output_type": "stream",
     "text": [
      "<class 'pandas.core.frame.DataFrame'>\n",
      "RangeIndex: 6 entries, 0 to 5\n",
      "Data columns (total 14 columns):\n",
      " #   Column         Non-Null Count  Dtype  \n",
      "---  ------         --------------  -----  \n",
      " 0   Date           6 non-null      object \n",
      " 1   series         6 non-null      object \n",
      " 2   OPEN           6 non-null      float64\n",
      " 3   HIGH           6 non-null      float64\n",
      " 4   LOW            6 non-null      float64\n",
      " 5   PREV. CLOSE    6 non-null      float64\n",
      " 6   ltp            6 non-null      float64\n",
      " 7   close          6 non-null      float64\n",
      " 8   vwap           6 non-null      float64\n",
      " 9   52W H          6 non-null      float64\n",
      " 10  52W L          6 non-null      float64\n",
      " 11  VOLUME         6 non-null      object \n",
      " 12  VALUE          6 non-null      object \n",
      " 13  No of trades   6 non-null      object \n",
      "dtypes: float64(9), object(5)\n",
      "memory usage: 800.0+ bytes\n"
     ]
    }
   ],
   "source": [
    "share_data.info()"
   ]
  },
  {
   "cell_type": "code",
   "execution_count": 15,
   "metadata": {},
   "outputs": [
    {
     "data": {
      "text/plain": [
       "Date             0\n",
       "series           0\n",
       "OPEN             0\n",
       "HIGH             0\n",
       "LOW              0\n",
       "PREV. CLOSE      0\n",
       "ltp              0\n",
       "close            0\n",
       "vwap             0\n",
       "52W H            0\n",
       "52W L            0\n",
       "VOLUME           0\n",
       "VALUE            0\n",
       "No of trades     0\n",
       "dtype: int64"
      ]
     },
     "execution_count": 15,
     "metadata": {},
     "output_type": "execute_result"
    }
   ],
   "source": [
    "share_data.isnull().sum()"
   ]
  },
  {
   "cell_type": "code",
   "execution_count": 16,
   "metadata": {},
   "outputs": [
    {
     "data": {
      "text/html": [
       "<div>\n",
       "<style scoped>\n",
       "    .dataframe tbody tr th:only-of-type {\n",
       "        vertical-align: middle;\n",
       "    }\n",
       "\n",
       "    .dataframe tbody tr th {\n",
       "        vertical-align: top;\n",
       "    }\n",
       "\n",
       "    .dataframe thead th {\n",
       "        text-align: right;\n",
       "    }\n",
       "</style>\n",
       "<table border=\"1\" class=\"dataframe\">\n",
       "  <thead>\n",
       "    <tr style=\"text-align: right;\">\n",
       "      <th></th>\n",
       "      <th>Date</th>\n",
       "      <th>series</th>\n",
       "      <th>OPEN</th>\n",
       "      <th>HIGH</th>\n",
       "      <th>LOW</th>\n",
       "      <th>PREV. CLOSE</th>\n",
       "      <th>ltp</th>\n",
       "      <th>close</th>\n",
       "      <th>vwap</th>\n",
       "      <th>52W H</th>\n",
       "      <th>52W L</th>\n",
       "      <th>VOLUME</th>\n",
       "      <th>VALUE</th>\n",
       "      <th>No of trades</th>\n",
       "    </tr>\n",
       "  </thead>\n",
       "  <tbody>\n",
       "    <tr>\n",
       "      <th>0</th>\n",
       "      <td>28-Aug-2023</td>\n",
       "      <td>BE</td>\n",
       "      <td>213.35</td>\n",
       "      <td>222.25</td>\n",
       "      <td>207.55</td>\n",
       "      <td>214.50</td>\n",
       "      <td>210.10</td>\n",
       "      <td>211.15</td>\n",
       "      <td>216.13</td>\n",
       "      <td>262.05</td>\n",
       "      <td>202.80</td>\n",
       "      <td>87,522,126</td>\n",
       "      <td>18,916,412,848.50</td>\n",
       "      <td>614,341</td>\n",
       "    </tr>\n",
       "    <tr>\n",
       "      <th>1</th>\n",
       "      <td>25-Aug-2023</td>\n",
       "      <td>BE</td>\n",
       "      <td>202.80</td>\n",
       "      <td>224.10</td>\n",
       "      <td>202.80</td>\n",
       "      <td>213.45</td>\n",
       "      <td>221.60</td>\n",
       "      <td>214.50</td>\n",
       "      <td>208.11</td>\n",
       "      <td>262.05</td>\n",
       "      <td>202.80</td>\n",
       "      <td>281,040,185</td>\n",
       "      <td>58,486,553,466.05</td>\n",
       "      <td>668,251</td>\n",
       "    </tr>\n",
       "    <tr>\n",
       "      <th>2</th>\n",
       "      <td>24-Aug-2023</td>\n",
       "      <td>BE</td>\n",
       "      <td>213.45</td>\n",
       "      <td>213.45</td>\n",
       "      <td>213.45</td>\n",
       "      <td>224.65</td>\n",
       "      <td>213.45</td>\n",
       "      <td>213.45</td>\n",
       "      <td>213.45</td>\n",
       "      <td>262.05</td>\n",
       "      <td>213.45</td>\n",
       "      <td>27,673,356</td>\n",
       "      <td>5,906,877,838.20</td>\n",
       "      <td>85,618</td>\n",
       "    </tr>\n",
       "    <tr>\n",
       "      <th>3</th>\n",
       "      <td>23-Aug-2023</td>\n",
       "      <td>BE</td>\n",
       "      <td>224.65</td>\n",
       "      <td>224.65</td>\n",
       "      <td>224.65</td>\n",
       "      <td>236.45</td>\n",
       "      <td>224.65</td>\n",
       "      <td>224.65</td>\n",
       "      <td>224.65</td>\n",
       "      <td>262.05</td>\n",
       "      <td>224.65</td>\n",
       "      <td>4,289,046</td>\n",
       "      <td>963,534,183.90</td>\n",
       "      <td>70,571</td>\n",
       "    </tr>\n",
       "    <tr>\n",
       "      <th>4</th>\n",
       "      <td>22-Aug-2023</td>\n",
       "      <td>BE</td>\n",
       "      <td>236.45</td>\n",
       "      <td>236.45</td>\n",
       "      <td>236.45</td>\n",
       "      <td>248.90</td>\n",
       "      <td>236.45</td>\n",
       "      <td>236.45</td>\n",
       "      <td>236.45</td>\n",
       "      <td>262.05</td>\n",
       "      <td>236.45</td>\n",
       "      <td>7,281,398</td>\n",
       "      <td>1,721,686,557.10</td>\n",
       "      <td>88,607</td>\n",
       "    </tr>\n",
       "  </tbody>\n",
       "</table>\n",
       "</div>"
      ],
      "text/plain": [
       "          Date series    OPEN    HIGH     LOW   PREV. CLOSE     ltp   close   \\\n",
       "0  28-Aug-2023      BE  213.35  222.25  207.55        214.50  210.10  211.15   \n",
       "1  25-Aug-2023      BE  202.80  224.10  202.80        213.45  221.60  214.50   \n",
       "2  24-Aug-2023      BE  213.45  213.45  213.45        224.65  213.45  213.45   \n",
       "3  23-Aug-2023      BE  224.65  224.65  224.65        236.45  224.65  224.65   \n",
       "4  22-Aug-2023      BE  236.45  236.45  236.45        248.90  236.45  236.45   \n",
       "\n",
       "    vwap   52W H   52W L       VOLUME              VALUE  No of trades   \n",
       "0  216.13  262.05  202.80   87,522,126  18,916,412,848.50       614,341  \n",
       "1  208.11  262.05  202.80  281,040,185  58,486,553,466.05       668,251  \n",
       "2  213.45  262.05  213.45   27,673,356   5,906,877,838.20        85,618  \n",
       "3  224.65  262.05  224.65    4,289,046     963,534,183.90        70,571  \n",
       "4  236.45  262.05  236.45    7,281,398   1,721,686,557.10        88,607  "
      ]
     },
     "execution_count": 16,
     "metadata": {},
     "output_type": "execute_result"
    }
   ],
   "source": [
    "share_data.rename(columns={'Date ': 'Date'}, inplace=True)\n",
    "\n",
    "share_data.head()"
   ]
  },
  {
   "cell_type": "code",
   "execution_count": 17,
   "metadata": {},
   "outputs": [
    {
     "name": "stdout",
     "output_type": "stream",
     "text": [
      "['Date', 'series ', 'OPEN ', 'HIGH ', 'LOW ', 'PREV. CLOSE ', 'ltp ', 'close ', 'vwap ', '52W H ', '52W L ', 'VOLUME ', 'VALUE ', 'No of trades ']\n"
     ]
    }
   ],
   "source": [
    "print(share_data.columns.tolist())"
   ]
  },
  {
   "cell_type": "code",
   "execution_count": 18,
   "metadata": {},
   "outputs": [],
   "source": [
    "share_data = share_data.rename(columns=lambda x: x.strip())\n"
   ]
  },
  {
   "cell_type": "code",
   "execution_count": 19,
   "metadata": {},
   "outputs": [
    {
     "name": "stdout",
     "output_type": "stream",
     "text": [
      "['Date', 'series', 'OPEN', 'HIGH', 'LOW', 'PREV. CLOSE', 'ltp', 'close', 'vwap', '52W H', '52W L', 'VOLUME', 'VALUE', 'No of trades']\n"
     ]
    }
   ],
   "source": [
    "print(share_data.columns.tolist())"
   ]
  },
  {
   "cell_type": "code",
   "execution_count": 20,
   "metadata": {},
   "outputs": [],
   "source": [
    "share_data['Date'] = pd.to_datetime(share_data['Date'])"
   ]
  },
  {
   "cell_type": "code",
   "execution_count": 21,
   "metadata": {},
   "outputs": [
    {
     "name": "stdout",
     "output_type": "stream",
     "text": [
      "<class 'pandas.core.frame.DataFrame'>\n",
      "RangeIndex: 6 entries, 0 to 5\n",
      "Data columns (total 14 columns):\n",
      " #   Column        Non-Null Count  Dtype         \n",
      "---  ------        --------------  -----         \n",
      " 0   Date          6 non-null      datetime64[ns]\n",
      " 1   series        6 non-null      object        \n",
      " 2   OPEN          6 non-null      float64       \n",
      " 3   HIGH          6 non-null      float64       \n",
      " 4   LOW           6 non-null      float64       \n",
      " 5   PREV. CLOSE   6 non-null      float64       \n",
      " 6   ltp           6 non-null      float64       \n",
      " 7   close         6 non-null      float64       \n",
      " 8   vwap          6 non-null      float64       \n",
      " 9   52W H         6 non-null      float64       \n",
      " 10  52W L         6 non-null      float64       \n",
      " 11  VOLUME        6 non-null      object        \n",
      " 12  VALUE         6 non-null      object        \n",
      " 13  No of trades  6 non-null      object        \n",
      "dtypes: datetime64[ns](1), float64(9), object(4)\n",
      "memory usage: 800.0+ bytes\n"
     ]
    }
   ],
   "source": [
    "share_data.info()"
   ]
  },
  {
   "cell_type": "code",
   "execution_count": 22,
   "metadata": {},
   "outputs": [],
   "source": [
    "# Remove commas from the 'Volume' column and convert to float\n",
    "share_data['VOLUME'] = share_data['VOLUME'].str.replace(',', '').astype(float)"
   ]
  },
  {
   "cell_type": "code",
   "execution_count": 23,
   "metadata": {},
   "outputs": [],
   "source": [
    "#same for value\n",
    "\n",
    "share_data['VALUE'] = share_data['VALUE'].str.replace(',', '').astype(float)"
   ]
  },
  {
   "cell_type": "code",
   "execution_count": 24,
   "metadata": {},
   "outputs": [],
   "source": [
    "#AGAIN FOR O. OF TRADES\n",
    "\n",
    "share_data['No of trades'] = share_data['No of trades'].str.replace(',', '').astype(float)"
   ]
  },
  {
   "cell_type": "code",
   "execution_count": 25,
   "metadata": {},
   "outputs": [
    {
     "name": "stdout",
     "output_type": "stream",
     "text": [
      "<class 'pandas.core.frame.DataFrame'>\n",
      "RangeIndex: 6 entries, 0 to 5\n",
      "Data columns (total 14 columns):\n",
      " #   Column        Non-Null Count  Dtype         \n",
      "---  ------        --------------  -----         \n",
      " 0   Date          6 non-null      datetime64[ns]\n",
      " 1   series        6 non-null      object        \n",
      " 2   OPEN          6 non-null      float64       \n",
      " 3   HIGH          6 non-null      float64       \n",
      " 4   LOW           6 non-null      float64       \n",
      " 5   PREV. CLOSE   6 non-null      float64       \n",
      " 6   ltp           6 non-null      float64       \n",
      " 7   close         6 non-null      float64       \n",
      " 8   vwap          6 non-null      float64       \n",
      " 9   52W H         6 non-null      float64       \n",
      " 10  52W L         6 non-null      float64       \n",
      " 11  VOLUME        6 non-null      float64       \n",
      " 12  VALUE         6 non-null      float64       \n",
      " 13  No of trades  6 non-null      float64       \n",
      "dtypes: datetime64[ns](1), float64(12), object(1)\n",
      "memory usage: 800.0+ bytes\n"
     ]
    }
   ],
   "source": [
    "share_data.info()"
   ]
  },
  {
   "cell_type": "code",
   "execution_count": 26,
   "metadata": {},
   "outputs": [
    {
     "name": "stdout",
     "output_type": "stream",
     "text": [
      "['Date', 'series', 'OPEN', 'HIGH', 'LOW', 'PREV. CLOSE', 'ltp', 'close', 'vwap', '52W H', '52W L', 'VOLUME', 'VALUE', 'No of trades']\n"
     ]
    }
   ],
   "source": [
    "print(share_data.columns.tolist())"
   ]
  },
  {
   "cell_type": "code",
   "execution_count": 27,
   "metadata": {},
   "outputs": [],
   "source": [
    "# Create a dictionary to map old column names to new column names\n",
    "column_name_mapping = {\n",
    "    'Date': 'date',\n",
    "    'series': 'series',\n",
    "    'OPEN': 'open',\n",
    "    'HIGH': 'high',\n",
    "    'LOW': 'low',\n",
    "    'PREV. CLOSE': 'prev_close',\n",
    "    'ltp ': 'ltp',\n",
    "    'close': 'close',\n",
    "    'vwap': 'vwap',\n",
    "    '52W H': '52w_high',\n",
    "    '52W L': '52w_low',\n",
    "    'VOLUME': 'volume',\n",
    "    'VALUE': 'value',\n",
    "    'No of trades': 'num_trades'\n",
    "}\n",
    "\n",
    "# Rename columns using the dictionary\n",
    "share_data.rename(columns=column_name_mapping, inplace=True)\n",
    "\n",
    "# Now all the columns are renamed as per the mapping"
   ]
  },
  {
   "cell_type": "code",
   "execution_count": 28,
   "metadata": {},
   "outputs": [
    {
     "name": "stdout",
     "output_type": "stream",
     "text": [
      "['date', 'series', 'open', 'high', 'low', 'prev_close', 'ltp', 'close', 'vwap', '52w_high', '52w_low', 'volume', 'value', 'num_trades']\n"
     ]
    }
   ],
   "source": [
    "print(share_data.columns.tolist())"
   ]
  },
  {
   "cell_type": "code",
   "execution_count": 29,
   "metadata": {},
   "outputs": [
    {
     "data": {
      "text/html": [
       "<div>\n",
       "<style scoped>\n",
       "    .dataframe tbody tr th:only-of-type {\n",
       "        vertical-align: middle;\n",
       "    }\n",
       "\n",
       "    .dataframe tbody tr th {\n",
       "        vertical-align: top;\n",
       "    }\n",
       "\n",
       "    .dataframe thead th {\n",
       "        text-align: right;\n",
       "    }\n",
       "</style>\n",
       "<table border=\"1\" class=\"dataframe\">\n",
       "  <thead>\n",
       "    <tr style=\"text-align: right;\">\n",
       "      <th></th>\n",
       "      <th>date</th>\n",
       "      <th>series</th>\n",
       "      <th>open</th>\n",
       "      <th>high</th>\n",
       "      <th>low</th>\n",
       "      <th>prev_close</th>\n",
       "      <th>ltp</th>\n",
       "      <th>close</th>\n",
       "      <th>vwap</th>\n",
       "      <th>52w_high</th>\n",
       "      <th>52w_low</th>\n",
       "      <th>volume</th>\n",
       "      <th>value</th>\n",
       "      <th>num_trades</th>\n",
       "    </tr>\n",
       "  </thead>\n",
       "  <tbody>\n",
       "    <tr>\n",
       "      <th>0</th>\n",
       "      <td>2023-08-28</td>\n",
       "      <td>BE</td>\n",
       "      <td>213.35</td>\n",
       "      <td>222.25</td>\n",
       "      <td>207.55</td>\n",
       "      <td>214.50</td>\n",
       "      <td>210.10</td>\n",
       "      <td>211.15</td>\n",
       "      <td>216.13</td>\n",
       "      <td>262.05</td>\n",
       "      <td>202.80</td>\n",
       "      <td>87522126.0</td>\n",
       "      <td>1.891641e+10</td>\n",
       "      <td>614341.0</td>\n",
       "    </tr>\n",
       "    <tr>\n",
       "      <th>1</th>\n",
       "      <td>2023-08-25</td>\n",
       "      <td>BE</td>\n",
       "      <td>202.80</td>\n",
       "      <td>224.10</td>\n",
       "      <td>202.80</td>\n",
       "      <td>213.45</td>\n",
       "      <td>221.60</td>\n",
       "      <td>214.50</td>\n",
       "      <td>208.11</td>\n",
       "      <td>262.05</td>\n",
       "      <td>202.80</td>\n",
       "      <td>281040185.0</td>\n",
       "      <td>5.848655e+10</td>\n",
       "      <td>668251.0</td>\n",
       "    </tr>\n",
       "    <tr>\n",
       "      <th>2</th>\n",
       "      <td>2023-08-24</td>\n",
       "      <td>BE</td>\n",
       "      <td>213.45</td>\n",
       "      <td>213.45</td>\n",
       "      <td>213.45</td>\n",
       "      <td>224.65</td>\n",
       "      <td>213.45</td>\n",
       "      <td>213.45</td>\n",
       "      <td>213.45</td>\n",
       "      <td>262.05</td>\n",
       "      <td>213.45</td>\n",
       "      <td>27673356.0</td>\n",
       "      <td>5.906878e+09</td>\n",
       "      <td>85618.0</td>\n",
       "    </tr>\n",
       "    <tr>\n",
       "      <th>3</th>\n",
       "      <td>2023-08-23</td>\n",
       "      <td>BE</td>\n",
       "      <td>224.65</td>\n",
       "      <td>224.65</td>\n",
       "      <td>224.65</td>\n",
       "      <td>236.45</td>\n",
       "      <td>224.65</td>\n",
       "      <td>224.65</td>\n",
       "      <td>224.65</td>\n",
       "      <td>262.05</td>\n",
       "      <td>224.65</td>\n",
       "      <td>4289046.0</td>\n",
       "      <td>9.635342e+08</td>\n",
       "      <td>70571.0</td>\n",
       "    </tr>\n",
       "    <tr>\n",
       "      <th>4</th>\n",
       "      <td>2023-08-22</td>\n",
       "      <td>BE</td>\n",
       "      <td>236.45</td>\n",
       "      <td>236.45</td>\n",
       "      <td>236.45</td>\n",
       "      <td>248.90</td>\n",
       "      <td>236.45</td>\n",
       "      <td>236.45</td>\n",
       "      <td>236.45</td>\n",
       "      <td>262.05</td>\n",
       "      <td>236.45</td>\n",
       "      <td>7281398.0</td>\n",
       "      <td>1.721687e+09</td>\n",
       "      <td>88607.0</td>\n",
       "    </tr>\n",
       "    <tr>\n",
       "      <th>5</th>\n",
       "      <td>2023-08-21</td>\n",
       "      <td>BE</td>\n",
       "      <td>262.00</td>\n",
       "      <td>262.05</td>\n",
       "      <td>248.90</td>\n",
       "      <td>261.85</td>\n",
       "      <td>248.90</td>\n",
       "      <td>248.90</td>\n",
       "      <td>253.78</td>\n",
       "      <td>262.05</td>\n",
       "      <td>248.90</td>\n",
       "      <td>74715306.0</td>\n",
       "      <td>1.896129e+10</td>\n",
       "      <td>347015.0</td>\n",
       "    </tr>\n",
       "  </tbody>\n",
       "</table>\n",
       "</div>"
      ],
      "text/plain": [
       "        date series    open    high     low  prev_close     ltp   close  \\\n",
       "0 2023-08-28     BE  213.35  222.25  207.55      214.50  210.10  211.15   \n",
       "1 2023-08-25     BE  202.80  224.10  202.80      213.45  221.60  214.50   \n",
       "2 2023-08-24     BE  213.45  213.45  213.45      224.65  213.45  213.45   \n",
       "3 2023-08-23     BE  224.65  224.65  224.65      236.45  224.65  224.65   \n",
       "4 2023-08-22     BE  236.45  236.45  236.45      248.90  236.45  236.45   \n",
       "5 2023-08-21     BE  262.00  262.05  248.90      261.85  248.90  248.90   \n",
       "\n",
       "     vwap  52w_high  52w_low       volume         value  num_trades  \n",
       "0  216.13    262.05   202.80   87522126.0  1.891641e+10    614341.0  \n",
       "1  208.11    262.05   202.80  281040185.0  5.848655e+10    668251.0  \n",
       "2  213.45    262.05   213.45   27673356.0  5.906878e+09     85618.0  \n",
       "3  224.65    262.05   224.65    4289046.0  9.635342e+08     70571.0  \n",
       "4  236.45    262.05   236.45    7281398.0  1.721687e+09     88607.0  \n",
       "5  253.78    262.05   248.90   74715306.0  1.896129e+10    347015.0  "
      ]
     },
     "execution_count": 29,
     "metadata": {},
     "output_type": "execute_result"
    }
   ],
   "source": [
    "share_data.head(10)"
   ]
  },
  {
   "cell_type": "code",
   "execution_count": 30,
   "metadata": {},
   "outputs": [
    {
     "name": "stdout",
     "output_type": "stream",
     "text": [
      "Requirement already satisfied: plotly in /Users/anurag13.pandey/anaconda3/lib/python3.10/site-packages (5.9.0)\n",
      "Requirement already satisfied: tenacity>=6.2.0 in /Users/anurag13.pandey/anaconda3/lib/python3.10/site-packages (from plotly) (8.0.1)\n",
      "\n",
      "\u001b[1m[\u001b[0m\u001b[34;49mnotice\u001b[0m\u001b[1;39;49m]\u001b[0m\u001b[39;49m A new release of pip is available: \u001b[0m\u001b[31;49m23.2\u001b[0m\u001b[39;49m -> \u001b[0m\u001b[32;49m23.2.1\u001b[0m\n",
      "\u001b[1m[\u001b[0m\u001b[34;49mnotice\u001b[0m\u001b[1;39;49m]\u001b[0m\u001b[39;49m To update, run: \u001b[0m\u001b[32;49mpip install --upgrade pip\u001b[0m\n",
      "Note: you may need to restart the kernel to use updated packages.\n"
     ]
    }
   ],
   "source": [
    "pip install plotly"
   ]
  },
  {
   "cell_type": "code",
   "execution_count": 31,
   "metadata": {},
   "outputs": [
    {
     "data": {
      "application/vnd.plotly.v1+json": {
       "config": {
        "plotlyServerURL": "https://plot.ly"
       },
       "data": [
        {
         "mode": "lines",
         "name": "open",
         "showlegend": false,
         "type": "scatter",
         "x": [
          "2023-08-28T00:00:00",
          "2023-08-25T00:00:00",
          "2023-08-24T00:00:00",
          "2023-08-23T00:00:00",
          "2023-08-22T00:00:00",
          "2023-08-21T00:00:00"
         ],
         "y": [
          213.35,
          202.8,
          213.45,
          224.65,
          236.45,
          262
         ]
        },
        {
         "mode": "lines",
         "name": "high",
         "showlegend": false,
         "type": "scatter",
         "x": [
          "2023-08-28T00:00:00",
          "2023-08-25T00:00:00",
          "2023-08-24T00:00:00",
          "2023-08-23T00:00:00",
          "2023-08-22T00:00:00",
          "2023-08-21T00:00:00"
         ],
         "y": [
          222.25,
          224.1,
          213.45,
          224.65,
          236.45,
          262.05
         ]
        },
        {
         "mode": "lines",
         "name": "low",
         "showlegend": false,
         "type": "scatter",
         "x": [
          "2023-08-28T00:00:00",
          "2023-08-25T00:00:00",
          "2023-08-24T00:00:00",
          "2023-08-23T00:00:00",
          "2023-08-22T00:00:00",
          "2023-08-21T00:00:00"
         ],
         "y": [
          207.55,
          202.8,
          213.45,
          224.65,
          236.45,
          248.9
         ]
        },
        {
         "mode": "lines",
         "name": "prev_close",
         "showlegend": false,
         "type": "scatter",
         "x": [
          "2023-08-28T00:00:00",
          "2023-08-25T00:00:00",
          "2023-08-24T00:00:00",
          "2023-08-23T00:00:00",
          "2023-08-22T00:00:00",
          "2023-08-21T00:00:00"
         ],
         "y": [
          214.5,
          213.45,
          224.65,
          236.45,
          248.9,
          261.85
         ]
        },
        {
         "mode": "lines",
         "name": "ltp",
         "showlegend": false,
         "type": "scatter",
         "x": [
          "2023-08-28T00:00:00",
          "2023-08-25T00:00:00",
          "2023-08-24T00:00:00",
          "2023-08-23T00:00:00",
          "2023-08-22T00:00:00",
          "2023-08-21T00:00:00"
         ],
         "y": [
          210.1,
          221.6,
          213.45,
          224.65,
          236.45,
          248.9
         ]
        },
        {
         "mode": "lines",
         "name": "close",
         "showlegend": false,
         "type": "scatter",
         "x": [
          "2023-08-28T00:00:00",
          "2023-08-25T00:00:00",
          "2023-08-24T00:00:00",
          "2023-08-23T00:00:00",
          "2023-08-22T00:00:00",
          "2023-08-21T00:00:00"
         ],
         "y": [
          211.15,
          214.5,
          213.45,
          224.65,
          236.45,
          248.9
         ]
        },
        {
         "mode": "lines",
         "name": "vwap",
         "showlegend": false,
         "type": "scatter",
         "x": [
          "2023-08-28T00:00:00",
          "2023-08-25T00:00:00",
          "2023-08-24T00:00:00",
          "2023-08-23T00:00:00",
          "2023-08-22T00:00:00",
          "2023-08-21T00:00:00"
         ],
         "y": [
          216.13,
          208.11,
          213.45,
          224.65,
          236.45,
          253.78
         ]
        },
        {
         "mode": "lines",
         "name": "52w_high",
         "showlegend": false,
         "type": "scatter",
         "x": [
          "2023-08-28T00:00:00",
          "2023-08-25T00:00:00",
          "2023-08-24T00:00:00",
          "2023-08-23T00:00:00",
          "2023-08-22T00:00:00",
          "2023-08-21T00:00:00"
         ],
         "y": [
          262.05,
          262.05,
          262.05,
          262.05,
          262.05,
          262.05
         ]
        },
        {
         "mode": "lines",
         "name": "52w_low",
         "showlegend": false,
         "type": "scatter",
         "x": [
          "2023-08-28T00:00:00",
          "2023-08-25T00:00:00",
          "2023-08-24T00:00:00",
          "2023-08-23T00:00:00",
          "2023-08-22T00:00:00",
          "2023-08-21T00:00:00"
         ],
         "y": [
          202.8,
          202.8,
          213.45,
          224.65,
          236.45,
          248.9
         ]
        },
        {
         "mode": "lines",
         "name": "volume",
         "showlegend": false,
         "type": "scatter",
         "x": [
          "2023-08-28T00:00:00",
          "2023-08-25T00:00:00",
          "2023-08-24T00:00:00",
          "2023-08-23T00:00:00",
          "2023-08-22T00:00:00",
          "2023-08-21T00:00:00"
         ],
         "y": [
          87522126,
          281040185,
          27673356,
          4289046,
          7281398,
          74715306
         ]
        },
        {
         "mode": "lines",
         "name": "value",
         "showlegend": false,
         "type": "scatter",
         "x": [
          "2023-08-28T00:00:00",
          "2023-08-25T00:00:00",
          "2023-08-24T00:00:00",
          "2023-08-23T00:00:00",
          "2023-08-22T00:00:00",
          "2023-08-21T00:00:00"
         ],
         "y": [
          18916412848.5,
          58486553466.05,
          5906877838.2,
          963534183.9,
          1721686557.1,
          18961288026.65
         ]
        },
        {
         "mode": "lines",
         "name": "num_trades",
         "showlegend": false,
         "type": "scatter",
         "x": [
          "2023-08-28T00:00:00",
          "2023-08-25T00:00:00",
          "2023-08-24T00:00:00",
          "2023-08-23T00:00:00",
          "2023-08-22T00:00:00",
          "2023-08-21T00:00:00"
         ],
         "y": [
          614341,
          668251,
          85618,
          70571,
          88607,
          347015
         ]
        }
       ],
       "layout": {
        "template": {
         "data": {
          "bar": [
           {
            "error_x": {
             "color": "#2a3f5f"
            },
            "error_y": {
             "color": "#2a3f5f"
            },
            "marker": {
             "line": {
              "color": "#E5ECF6",
              "width": 0.5
             },
             "pattern": {
              "fillmode": "overlay",
              "size": 10,
              "solidity": 0.2
             }
            },
            "type": "bar"
           }
          ],
          "barpolar": [
           {
            "marker": {
             "line": {
              "color": "#E5ECF6",
              "width": 0.5
             },
             "pattern": {
              "fillmode": "overlay",
              "size": 10,
              "solidity": 0.2
             }
            },
            "type": "barpolar"
           }
          ],
          "carpet": [
           {
            "aaxis": {
             "endlinecolor": "#2a3f5f",
             "gridcolor": "white",
             "linecolor": "white",
             "minorgridcolor": "white",
             "startlinecolor": "#2a3f5f"
            },
            "baxis": {
             "endlinecolor": "#2a3f5f",
             "gridcolor": "white",
             "linecolor": "white",
             "minorgridcolor": "white",
             "startlinecolor": "#2a3f5f"
            },
            "type": "carpet"
           }
          ],
          "choropleth": [
           {
            "colorbar": {
             "outlinewidth": 0,
             "ticks": ""
            },
            "type": "choropleth"
           }
          ],
          "contour": [
           {
            "colorbar": {
             "outlinewidth": 0,
             "ticks": ""
            },
            "colorscale": [
             [
              0,
              "#0d0887"
             ],
             [
              0.1111111111111111,
              "#46039f"
             ],
             [
              0.2222222222222222,
              "#7201a8"
             ],
             [
              0.3333333333333333,
              "#9c179e"
             ],
             [
              0.4444444444444444,
              "#bd3786"
             ],
             [
              0.5555555555555556,
              "#d8576b"
             ],
             [
              0.6666666666666666,
              "#ed7953"
             ],
             [
              0.7777777777777778,
              "#fb9f3a"
             ],
             [
              0.8888888888888888,
              "#fdca26"
             ],
             [
              1,
              "#f0f921"
             ]
            ],
            "type": "contour"
           }
          ],
          "contourcarpet": [
           {
            "colorbar": {
             "outlinewidth": 0,
             "ticks": ""
            },
            "type": "contourcarpet"
           }
          ],
          "heatmap": [
           {
            "colorbar": {
             "outlinewidth": 0,
             "ticks": ""
            },
            "colorscale": [
             [
              0,
              "#0d0887"
             ],
             [
              0.1111111111111111,
              "#46039f"
             ],
             [
              0.2222222222222222,
              "#7201a8"
             ],
             [
              0.3333333333333333,
              "#9c179e"
             ],
             [
              0.4444444444444444,
              "#bd3786"
             ],
             [
              0.5555555555555556,
              "#d8576b"
             ],
             [
              0.6666666666666666,
              "#ed7953"
             ],
             [
              0.7777777777777778,
              "#fb9f3a"
             ],
             [
              0.8888888888888888,
              "#fdca26"
             ],
             [
              1,
              "#f0f921"
             ]
            ],
            "type": "heatmap"
           }
          ],
          "heatmapgl": [
           {
            "colorbar": {
             "outlinewidth": 0,
             "ticks": ""
            },
            "colorscale": [
             [
              0,
              "#0d0887"
             ],
             [
              0.1111111111111111,
              "#46039f"
             ],
             [
              0.2222222222222222,
              "#7201a8"
             ],
             [
              0.3333333333333333,
              "#9c179e"
             ],
             [
              0.4444444444444444,
              "#bd3786"
             ],
             [
              0.5555555555555556,
              "#d8576b"
             ],
             [
              0.6666666666666666,
              "#ed7953"
             ],
             [
              0.7777777777777778,
              "#fb9f3a"
             ],
             [
              0.8888888888888888,
              "#fdca26"
             ],
             [
              1,
              "#f0f921"
             ]
            ],
            "type": "heatmapgl"
           }
          ],
          "histogram": [
           {
            "marker": {
             "pattern": {
              "fillmode": "overlay",
              "size": 10,
              "solidity": 0.2
             }
            },
            "type": "histogram"
           }
          ],
          "histogram2d": [
           {
            "colorbar": {
             "outlinewidth": 0,
             "ticks": ""
            },
            "colorscale": [
             [
              0,
              "#0d0887"
             ],
             [
              0.1111111111111111,
              "#46039f"
             ],
             [
              0.2222222222222222,
              "#7201a8"
             ],
             [
              0.3333333333333333,
              "#9c179e"
             ],
             [
              0.4444444444444444,
              "#bd3786"
             ],
             [
              0.5555555555555556,
              "#d8576b"
             ],
             [
              0.6666666666666666,
              "#ed7953"
             ],
             [
              0.7777777777777778,
              "#fb9f3a"
             ],
             [
              0.8888888888888888,
              "#fdca26"
             ],
             [
              1,
              "#f0f921"
             ]
            ],
            "type": "histogram2d"
           }
          ],
          "histogram2dcontour": [
           {
            "colorbar": {
             "outlinewidth": 0,
             "ticks": ""
            },
            "colorscale": [
             [
              0,
              "#0d0887"
             ],
             [
              0.1111111111111111,
              "#46039f"
             ],
             [
              0.2222222222222222,
              "#7201a8"
             ],
             [
              0.3333333333333333,
              "#9c179e"
             ],
             [
              0.4444444444444444,
              "#bd3786"
             ],
             [
              0.5555555555555556,
              "#d8576b"
             ],
             [
              0.6666666666666666,
              "#ed7953"
             ],
             [
              0.7777777777777778,
              "#fb9f3a"
             ],
             [
              0.8888888888888888,
              "#fdca26"
             ],
             [
              1,
              "#f0f921"
             ]
            ],
            "type": "histogram2dcontour"
           }
          ],
          "mesh3d": [
           {
            "colorbar": {
             "outlinewidth": 0,
             "ticks": ""
            },
            "type": "mesh3d"
           }
          ],
          "parcoords": [
           {
            "line": {
             "colorbar": {
              "outlinewidth": 0,
              "ticks": ""
             }
            },
            "type": "parcoords"
           }
          ],
          "pie": [
           {
            "automargin": true,
            "type": "pie"
           }
          ],
          "scatter": [
           {
            "fillpattern": {
             "fillmode": "overlay",
             "size": 10,
             "solidity": 0.2
            },
            "type": "scatter"
           }
          ],
          "scatter3d": [
           {
            "line": {
             "colorbar": {
              "outlinewidth": 0,
              "ticks": ""
             }
            },
            "marker": {
             "colorbar": {
              "outlinewidth": 0,
              "ticks": ""
             }
            },
            "type": "scatter3d"
           }
          ],
          "scattercarpet": [
           {
            "marker": {
             "colorbar": {
              "outlinewidth": 0,
              "ticks": ""
             }
            },
            "type": "scattercarpet"
           }
          ],
          "scattergeo": [
           {
            "marker": {
             "colorbar": {
              "outlinewidth": 0,
              "ticks": ""
             }
            },
            "type": "scattergeo"
           }
          ],
          "scattergl": [
           {
            "marker": {
             "colorbar": {
              "outlinewidth": 0,
              "ticks": ""
             }
            },
            "type": "scattergl"
           }
          ],
          "scattermapbox": [
           {
            "marker": {
             "colorbar": {
              "outlinewidth": 0,
              "ticks": ""
             }
            },
            "type": "scattermapbox"
           }
          ],
          "scatterpolar": [
           {
            "marker": {
             "colorbar": {
              "outlinewidth": 0,
              "ticks": ""
             }
            },
            "type": "scatterpolar"
           }
          ],
          "scatterpolargl": [
           {
            "marker": {
             "colorbar": {
              "outlinewidth": 0,
              "ticks": ""
             }
            },
            "type": "scatterpolargl"
           }
          ],
          "scatterternary": [
           {
            "marker": {
             "colorbar": {
              "outlinewidth": 0,
              "ticks": ""
             }
            },
            "type": "scatterternary"
           }
          ],
          "surface": [
           {
            "colorbar": {
             "outlinewidth": 0,
             "ticks": ""
            },
            "colorscale": [
             [
              0,
              "#0d0887"
             ],
             [
              0.1111111111111111,
              "#46039f"
             ],
             [
              0.2222222222222222,
              "#7201a8"
             ],
             [
              0.3333333333333333,
              "#9c179e"
             ],
             [
              0.4444444444444444,
              "#bd3786"
             ],
             [
              0.5555555555555556,
              "#d8576b"
             ],
             [
              0.6666666666666666,
              "#ed7953"
             ],
             [
              0.7777777777777778,
              "#fb9f3a"
             ],
             [
              0.8888888888888888,
              "#fdca26"
             ],
             [
              1,
              "#f0f921"
             ]
            ],
            "type": "surface"
           }
          ],
          "table": [
           {
            "cells": {
             "fill": {
              "color": "#EBF0F8"
             },
             "line": {
              "color": "white"
             }
            },
            "header": {
             "fill": {
              "color": "#C8D4E3"
             },
             "line": {
              "color": "white"
             }
            },
            "type": "table"
           }
          ]
         },
         "layout": {
          "annotationdefaults": {
           "arrowcolor": "#2a3f5f",
           "arrowhead": 0,
           "arrowwidth": 1
          },
          "autotypenumbers": "strict",
          "coloraxis": {
           "colorbar": {
            "outlinewidth": 0,
            "ticks": ""
           }
          },
          "colorscale": {
           "diverging": [
            [
             0,
             "#8e0152"
            ],
            [
             0.1,
             "#c51b7d"
            ],
            [
             0.2,
             "#de77ae"
            ],
            [
             0.3,
             "#f1b6da"
            ],
            [
             0.4,
             "#fde0ef"
            ],
            [
             0.5,
             "#f7f7f7"
            ],
            [
             0.6,
             "#e6f5d0"
            ],
            [
             0.7,
             "#b8e186"
            ],
            [
             0.8,
             "#7fbc41"
            ],
            [
             0.9,
             "#4d9221"
            ],
            [
             1,
             "#276419"
            ]
           ],
           "sequential": [
            [
             0,
             "#0d0887"
            ],
            [
             0.1111111111111111,
             "#46039f"
            ],
            [
             0.2222222222222222,
             "#7201a8"
            ],
            [
             0.3333333333333333,
             "#9c179e"
            ],
            [
             0.4444444444444444,
             "#bd3786"
            ],
            [
             0.5555555555555556,
             "#d8576b"
            ],
            [
             0.6666666666666666,
             "#ed7953"
            ],
            [
             0.7777777777777778,
             "#fb9f3a"
            ],
            [
             0.8888888888888888,
             "#fdca26"
            ],
            [
             1,
             "#f0f921"
            ]
           ],
           "sequentialminus": [
            [
             0,
             "#0d0887"
            ],
            [
             0.1111111111111111,
             "#46039f"
            ],
            [
             0.2222222222222222,
             "#7201a8"
            ],
            [
             0.3333333333333333,
             "#9c179e"
            ],
            [
             0.4444444444444444,
             "#bd3786"
            ],
            [
             0.5555555555555556,
             "#d8576b"
            ],
            [
             0.6666666666666666,
             "#ed7953"
            ],
            [
             0.7777777777777778,
             "#fb9f3a"
            ],
            [
             0.8888888888888888,
             "#fdca26"
            ],
            [
             1,
             "#f0f921"
            ]
           ]
          },
          "colorway": [
           "#636efa",
           "#EF553B",
           "#00cc96",
           "#ab63fa",
           "#FFA15A",
           "#19d3f3",
           "#FF6692",
           "#B6E880",
           "#FF97FF",
           "#FECB52"
          ],
          "font": {
           "color": "#2a3f5f"
          },
          "geo": {
           "bgcolor": "white",
           "lakecolor": "white",
           "landcolor": "#E5ECF6",
           "showlakes": true,
           "showland": true,
           "subunitcolor": "white"
          },
          "hoverlabel": {
           "align": "left"
          },
          "hovermode": "closest",
          "mapbox": {
           "style": "light"
          },
          "paper_bgcolor": "white",
          "plot_bgcolor": "#E5ECF6",
          "polar": {
           "angularaxis": {
            "gridcolor": "white",
            "linecolor": "white",
            "ticks": ""
           },
           "bgcolor": "#E5ECF6",
           "radialaxis": {
            "gridcolor": "white",
            "linecolor": "white",
            "ticks": ""
           }
          },
          "scene": {
           "xaxis": {
            "backgroundcolor": "#E5ECF6",
            "gridcolor": "white",
            "gridwidth": 2,
            "linecolor": "white",
            "showbackground": true,
            "ticks": "",
            "zerolinecolor": "white"
           },
           "yaxis": {
            "backgroundcolor": "#E5ECF6",
            "gridcolor": "white",
            "gridwidth": 2,
            "linecolor": "white",
            "showbackground": true,
            "ticks": "",
            "zerolinecolor": "white"
           },
           "zaxis": {
            "backgroundcolor": "#E5ECF6",
            "gridcolor": "white",
            "gridwidth": 2,
            "linecolor": "white",
            "showbackground": true,
            "ticks": "",
            "zerolinecolor": "white"
           }
          },
          "shapedefaults": {
           "line": {
            "color": "#2a3f5f"
           }
          },
          "ternary": {
           "aaxis": {
            "gridcolor": "white",
            "linecolor": "white",
            "ticks": ""
           },
           "baxis": {
            "gridcolor": "white",
            "linecolor": "white",
            "ticks": ""
           },
           "bgcolor": "#E5ECF6",
           "caxis": {
            "gridcolor": "white",
            "linecolor": "white",
            "ticks": ""
           }
          },
          "title": {
           "x": 0.05
          },
          "xaxis": {
           "automargin": true,
           "gridcolor": "white",
           "linecolor": "white",
           "ticks": "",
           "title": {
            "standoff": 15
           },
           "zerolinecolor": "white",
           "zerolinewidth": 2
          },
          "yaxis": {
           "automargin": true,
           "gridcolor": "white",
           "linecolor": "white",
           "ticks": "",
           "title": {
            "standoff": 15
           },
           "zerolinecolor": "white",
           "zerolinewidth": 2
          }
         }
        },
        "title": {
         "text": "Stock Attributes Over Time"
        },
        "updatemenus": [
         {
          "buttons": [
           {
            "args": [
             {
              "name": "open",
              "y": [
               [
                213.35,
                202.8,
                213.45,
                224.65,
                236.45,
                262
               ]
              ]
             }
            ],
            "label": "open",
            "method": "update"
           },
           {
            "args": [
             {
              "name": "high",
              "y": [
               [
                222.25,
                224.1,
                213.45,
                224.65,
                236.45,
                262.05
               ]
              ]
             }
            ],
            "label": "high",
            "method": "update"
           },
           {
            "args": [
             {
              "name": "low",
              "y": [
               [
                207.55,
                202.8,
                213.45,
                224.65,
                236.45,
                248.9
               ]
              ]
             }
            ],
            "label": "low",
            "method": "update"
           },
           {
            "args": [
             {
              "name": "prev_close",
              "y": [
               [
                214.5,
                213.45,
                224.65,
                236.45,
                248.9,
                261.85
               ]
              ]
             }
            ],
            "label": "prev_close",
            "method": "update"
           },
           {
            "args": [
             {
              "name": "ltp",
              "y": [
               [
                210.1,
                221.6,
                213.45,
                224.65,
                236.45,
                248.9
               ]
              ]
             }
            ],
            "label": "ltp",
            "method": "update"
           },
           {
            "args": [
             {
              "name": "close",
              "y": [
               [
                211.15,
                214.5,
                213.45,
                224.65,
                236.45,
                248.9
               ]
              ]
             }
            ],
            "label": "close",
            "method": "update"
           },
           {
            "args": [
             {
              "name": "vwap",
              "y": [
               [
                216.13,
                208.11,
                213.45,
                224.65,
                236.45,
                253.78
               ]
              ]
             }
            ],
            "label": "vwap",
            "method": "update"
           },
           {
            "args": [
             {
              "name": "52w_high",
              "y": [
               [
                262.05,
                262.05,
                262.05,
                262.05,
                262.05,
                262.05
               ]
              ]
             }
            ],
            "label": "52w_high",
            "method": "update"
           },
           {
            "args": [
             {
              "name": "52w_low",
              "y": [
               [
                202.8,
                202.8,
                213.45,
                224.65,
                236.45,
                248.9
               ]
              ]
             }
            ],
            "label": "52w_low",
            "method": "update"
           },
           {
            "args": [
             {
              "name": "volume",
              "y": [
               [
                87522126,
                281040185,
                27673356,
                4289046,
                7281398,
                74715306
               ]
              ]
             }
            ],
            "label": "volume",
            "method": "update"
           },
           {
            "args": [
             {
              "name": "value",
              "y": [
               [
                18916412848.5,
                58486553466.05,
                5906877838.2,
                963534183.9,
                1721686557.1,
                18961288026.65
               ]
              ]
             }
            ],
            "label": "value",
            "method": "update"
           },
           {
            "args": [
             {
              "name": "num_trades",
              "y": [
               [
                614341,
                668251,
                85618,
                70571,
                88607,
                347015
               ]
              ]
             }
            ],
            "label": "num_trades",
            "method": "update"
           }
          ],
          "direction": "down",
          "showactive": true,
          "x": 0.15,
          "xanchor": "left",
          "y": 1.15,
          "yanchor": "top"
         }
        ],
        "xaxis": {
         "title": {
          "text": "Date"
         }
        },
        "yaxis": {
         "title": {
          "text": "Value"
         }
        }
       }
      }
     },
     "metadata": {},
     "output_type": "display_data"
    }
   ],
   "source": [
    "# Create layout with dropdown menu\n",
    "layout = go.Layout(\n",
    "    title='Stock Attributes Over Time',\n",
    "    xaxis=dict(title='Date'),\n",
    "    yaxis=dict(title='Value'),\n",
    "    updatemenus=[\n",
    "        {\n",
    "            'buttons': [\n",
    "                {'method': 'update', 'label': col, 'args': [{'y': [share_data[col]], 'name': col}]}\n",
    "                for col in share_data.columns[2:]\n",
    "            ],\n",
    "            'direction': 'down',\n",
    "            'showactive': True,\n",
    "            'x': 0.15,\n",
    "            'xanchor': 'left',\n",
    "            'y': 1.15,\n",
    "            'yanchor': 'top'\n",
    "        }\n",
    "    ]\n",
    ")\n",
    "\n",
    "# Create figure with Plotly graph objects\n",
    "fig = go.Figure(layout=layout)\n",
    "\n",
    "# Add initial plot data using 'high' values\n",
    "for col in share_data.columns[2:]:\n",
    "    fig.add_trace(go.Scatter(x=share_data['date'], y=share_data[col], mode='lines', name=col, showlegend=False ))\n",
    "\n",
    "# Show the interactive plot\n",
    "fig.show()"
   ]
  },
  {
   "cell_type": "code",
   "execution_count": 32,
   "metadata": {},
   "outputs": [
    {
     "data": {
      "application/vnd.plotly.v1+json": {
       "config": {
        "plotlyServerURL": "https://plot.ly"
       },
       "data": [
        {
         "mode": "lines",
         "showlegend": false,
         "type": "scatter",
         "x": [
          "2023-08-28T00:00:00",
          "2023-08-25T00:00:00",
          "2023-08-24T00:00:00",
          "2023-08-23T00:00:00",
          "2023-08-22T00:00:00",
          "2023-08-21T00:00:00"
         ],
         "y": [
          213.35,
          202.8,
          213.45,
          224.65,
          236.45,
          262
         ]
        },
        {
         "mode": "lines",
         "showlegend": false,
         "type": "scatter",
         "x": [
          "2023-08-28T00:00:00",
          "2023-08-25T00:00:00",
          "2023-08-24T00:00:00",
          "2023-08-23T00:00:00",
          "2023-08-22T00:00:00",
          "2023-08-21T00:00:00"
         ],
         "y": [
          213.35,
          202.8,
          213.45,
          224.65,
          236.45,
          262
         ]
        },
        {
         "mode": "lines",
         "showlegend": false,
         "type": "scatter",
         "x": [
          "2023-08-28T00:00:00",
          "2023-08-25T00:00:00",
          "2023-08-24T00:00:00",
          "2023-08-23T00:00:00",
          "2023-08-22T00:00:00",
          "2023-08-21T00:00:00"
         ],
         "y": [
          213.35,
          202.8,
          213.45,
          224.65,
          236.45,
          262
         ]
        },
        {
         "mode": "lines",
         "showlegend": false,
         "type": "scatter",
         "x": [
          "2023-08-28T00:00:00",
          "2023-08-25T00:00:00",
          "2023-08-24T00:00:00",
          "2023-08-23T00:00:00",
          "2023-08-22T00:00:00",
          "2023-08-21T00:00:00"
         ],
         "y": [
          213.35,
          202.8,
          213.45,
          224.65,
          236.45,
          262
         ]
        },
        {
         "mode": "lines",
         "showlegend": false,
         "type": "scatter",
         "x": [
          "2023-08-28T00:00:00",
          "2023-08-25T00:00:00",
          "2023-08-24T00:00:00",
          "2023-08-23T00:00:00",
          "2023-08-22T00:00:00",
          "2023-08-21T00:00:00"
         ],
         "y": [
          213.35,
          202.8,
          213.45,
          224.65,
          236.45,
          262
         ]
        },
        {
         "mode": "lines",
         "showlegend": false,
         "type": "scatter",
         "x": [
          "2023-08-28T00:00:00",
          "2023-08-25T00:00:00",
          "2023-08-24T00:00:00",
          "2023-08-23T00:00:00",
          "2023-08-22T00:00:00",
          "2023-08-21T00:00:00"
         ],
         "y": [
          213.35,
          202.8,
          213.45,
          224.65,
          236.45,
          262
         ]
        },
        {
         "mode": "lines",
         "showlegend": false,
         "type": "scatter",
         "x": [
          "2023-08-28T00:00:00",
          "2023-08-25T00:00:00",
          "2023-08-24T00:00:00",
          "2023-08-23T00:00:00",
          "2023-08-22T00:00:00",
          "2023-08-21T00:00:00"
         ],
         "y": [
          213.35,
          202.8,
          213.45,
          224.65,
          236.45,
          262
         ]
        },
        {
         "mode": "lines",
         "showlegend": false,
         "type": "scatter",
         "x": [
          "2023-08-28T00:00:00",
          "2023-08-25T00:00:00",
          "2023-08-24T00:00:00",
          "2023-08-23T00:00:00",
          "2023-08-22T00:00:00",
          "2023-08-21T00:00:00"
         ],
         "y": [
          213.35,
          202.8,
          213.45,
          224.65,
          236.45,
          262
         ]
        },
        {
         "mode": "lines",
         "showlegend": false,
         "type": "scatter",
         "x": [
          "2023-08-28T00:00:00",
          "2023-08-25T00:00:00",
          "2023-08-24T00:00:00",
          "2023-08-23T00:00:00",
          "2023-08-22T00:00:00",
          "2023-08-21T00:00:00"
         ],
         "y": [
          213.35,
          202.8,
          213.45,
          224.65,
          236.45,
          262
         ]
        },
        {
         "mode": "lines",
         "showlegend": false,
         "type": "scatter",
         "x": [
          "2023-08-28T00:00:00",
          "2023-08-25T00:00:00",
          "2023-08-24T00:00:00",
          "2023-08-23T00:00:00",
          "2023-08-22T00:00:00",
          "2023-08-21T00:00:00"
         ],
         "y": [
          213.35,
          202.8,
          213.45,
          224.65,
          236.45,
          262
         ]
        },
        {
         "mode": "lines",
         "showlegend": false,
         "type": "scatter",
         "x": [
          "2023-08-28T00:00:00",
          "2023-08-25T00:00:00",
          "2023-08-24T00:00:00",
          "2023-08-23T00:00:00",
          "2023-08-22T00:00:00",
          "2023-08-21T00:00:00"
         ],
         "y": [
          213.35,
          202.8,
          213.45,
          224.65,
          236.45,
          262
         ]
        },
        {
         "mode": "lines",
         "showlegend": false,
         "type": "scatter",
         "x": [
          "2023-08-28T00:00:00",
          "2023-08-25T00:00:00",
          "2023-08-24T00:00:00",
          "2023-08-23T00:00:00",
          "2023-08-22T00:00:00",
          "2023-08-21T00:00:00"
         ],
         "y": [
          222.25,
          224.1,
          213.45,
          224.65,
          236.45,
          262.05
         ]
        },
        {
         "mode": "lines",
         "showlegend": false,
         "type": "scatter",
         "x": [
          "2023-08-28T00:00:00",
          "2023-08-25T00:00:00",
          "2023-08-24T00:00:00",
          "2023-08-23T00:00:00",
          "2023-08-22T00:00:00",
          "2023-08-21T00:00:00"
         ],
         "y": [
          222.25,
          224.1,
          213.45,
          224.65,
          236.45,
          262.05
         ]
        },
        {
         "mode": "lines",
         "showlegend": false,
         "type": "scatter",
         "x": [
          "2023-08-28T00:00:00",
          "2023-08-25T00:00:00",
          "2023-08-24T00:00:00",
          "2023-08-23T00:00:00",
          "2023-08-22T00:00:00",
          "2023-08-21T00:00:00"
         ],
         "y": [
          222.25,
          224.1,
          213.45,
          224.65,
          236.45,
          262.05
         ]
        },
        {
         "mode": "lines",
         "showlegend": false,
         "type": "scatter",
         "x": [
          "2023-08-28T00:00:00",
          "2023-08-25T00:00:00",
          "2023-08-24T00:00:00",
          "2023-08-23T00:00:00",
          "2023-08-22T00:00:00",
          "2023-08-21T00:00:00"
         ],
         "y": [
          222.25,
          224.1,
          213.45,
          224.65,
          236.45,
          262.05
         ]
        },
        {
         "mode": "lines",
         "showlegend": false,
         "type": "scatter",
         "x": [
          "2023-08-28T00:00:00",
          "2023-08-25T00:00:00",
          "2023-08-24T00:00:00",
          "2023-08-23T00:00:00",
          "2023-08-22T00:00:00",
          "2023-08-21T00:00:00"
         ],
         "y": [
          222.25,
          224.1,
          213.45,
          224.65,
          236.45,
          262.05
         ]
        },
        {
         "mode": "lines",
         "showlegend": false,
         "type": "scatter",
         "x": [
          "2023-08-28T00:00:00",
          "2023-08-25T00:00:00",
          "2023-08-24T00:00:00",
          "2023-08-23T00:00:00",
          "2023-08-22T00:00:00",
          "2023-08-21T00:00:00"
         ],
         "y": [
          222.25,
          224.1,
          213.45,
          224.65,
          236.45,
          262.05
         ]
        },
        {
         "mode": "lines",
         "showlegend": false,
         "type": "scatter",
         "x": [
          "2023-08-28T00:00:00",
          "2023-08-25T00:00:00",
          "2023-08-24T00:00:00",
          "2023-08-23T00:00:00",
          "2023-08-22T00:00:00",
          "2023-08-21T00:00:00"
         ],
         "y": [
          222.25,
          224.1,
          213.45,
          224.65,
          236.45,
          262.05
         ]
        },
        {
         "mode": "lines",
         "showlegend": false,
         "type": "scatter",
         "x": [
          "2023-08-28T00:00:00",
          "2023-08-25T00:00:00",
          "2023-08-24T00:00:00",
          "2023-08-23T00:00:00",
          "2023-08-22T00:00:00",
          "2023-08-21T00:00:00"
         ],
         "y": [
          222.25,
          224.1,
          213.45,
          224.65,
          236.45,
          262.05
         ]
        },
        {
         "mode": "lines",
         "showlegend": false,
         "type": "scatter",
         "x": [
          "2023-08-28T00:00:00",
          "2023-08-25T00:00:00",
          "2023-08-24T00:00:00",
          "2023-08-23T00:00:00",
          "2023-08-22T00:00:00",
          "2023-08-21T00:00:00"
         ],
         "y": [
          222.25,
          224.1,
          213.45,
          224.65,
          236.45,
          262.05
         ]
        },
        {
         "mode": "lines",
         "showlegend": false,
         "type": "scatter",
         "x": [
          "2023-08-28T00:00:00",
          "2023-08-25T00:00:00",
          "2023-08-24T00:00:00",
          "2023-08-23T00:00:00",
          "2023-08-22T00:00:00",
          "2023-08-21T00:00:00"
         ],
         "y": [
          222.25,
          224.1,
          213.45,
          224.65,
          236.45,
          262.05
         ]
        },
        {
         "mode": "lines",
         "showlegend": false,
         "type": "scatter",
         "x": [
          "2023-08-28T00:00:00",
          "2023-08-25T00:00:00",
          "2023-08-24T00:00:00",
          "2023-08-23T00:00:00",
          "2023-08-22T00:00:00",
          "2023-08-21T00:00:00"
         ],
         "y": [
          222.25,
          224.1,
          213.45,
          224.65,
          236.45,
          262.05
         ]
        },
        {
         "mode": "lines",
         "showlegend": false,
         "type": "scatter",
         "x": [
          "2023-08-28T00:00:00",
          "2023-08-25T00:00:00",
          "2023-08-24T00:00:00",
          "2023-08-23T00:00:00",
          "2023-08-22T00:00:00",
          "2023-08-21T00:00:00"
         ],
         "y": [
          207.55,
          202.8,
          213.45,
          224.65,
          236.45,
          248.9
         ]
        },
        {
         "mode": "lines",
         "showlegend": false,
         "type": "scatter",
         "x": [
          "2023-08-28T00:00:00",
          "2023-08-25T00:00:00",
          "2023-08-24T00:00:00",
          "2023-08-23T00:00:00",
          "2023-08-22T00:00:00",
          "2023-08-21T00:00:00"
         ],
         "y": [
          207.55,
          202.8,
          213.45,
          224.65,
          236.45,
          248.9
         ]
        },
        {
         "mode": "lines",
         "showlegend": false,
         "type": "scatter",
         "x": [
          "2023-08-28T00:00:00",
          "2023-08-25T00:00:00",
          "2023-08-24T00:00:00",
          "2023-08-23T00:00:00",
          "2023-08-22T00:00:00",
          "2023-08-21T00:00:00"
         ],
         "y": [
          207.55,
          202.8,
          213.45,
          224.65,
          236.45,
          248.9
         ]
        },
        {
         "mode": "lines",
         "showlegend": false,
         "type": "scatter",
         "x": [
          "2023-08-28T00:00:00",
          "2023-08-25T00:00:00",
          "2023-08-24T00:00:00",
          "2023-08-23T00:00:00",
          "2023-08-22T00:00:00",
          "2023-08-21T00:00:00"
         ],
         "y": [
          207.55,
          202.8,
          213.45,
          224.65,
          236.45,
          248.9
         ]
        },
        {
         "mode": "lines",
         "showlegend": false,
         "type": "scatter",
         "x": [
          "2023-08-28T00:00:00",
          "2023-08-25T00:00:00",
          "2023-08-24T00:00:00",
          "2023-08-23T00:00:00",
          "2023-08-22T00:00:00",
          "2023-08-21T00:00:00"
         ],
         "y": [
          207.55,
          202.8,
          213.45,
          224.65,
          236.45,
          248.9
         ]
        },
        {
         "mode": "lines",
         "showlegend": false,
         "type": "scatter",
         "x": [
          "2023-08-28T00:00:00",
          "2023-08-25T00:00:00",
          "2023-08-24T00:00:00",
          "2023-08-23T00:00:00",
          "2023-08-22T00:00:00",
          "2023-08-21T00:00:00"
         ],
         "y": [
          207.55,
          202.8,
          213.45,
          224.65,
          236.45,
          248.9
         ]
        },
        {
         "mode": "lines",
         "showlegend": false,
         "type": "scatter",
         "x": [
          "2023-08-28T00:00:00",
          "2023-08-25T00:00:00",
          "2023-08-24T00:00:00",
          "2023-08-23T00:00:00",
          "2023-08-22T00:00:00",
          "2023-08-21T00:00:00"
         ],
         "y": [
          207.55,
          202.8,
          213.45,
          224.65,
          236.45,
          248.9
         ]
        },
        {
         "mode": "lines",
         "showlegend": false,
         "type": "scatter",
         "x": [
          "2023-08-28T00:00:00",
          "2023-08-25T00:00:00",
          "2023-08-24T00:00:00",
          "2023-08-23T00:00:00",
          "2023-08-22T00:00:00",
          "2023-08-21T00:00:00"
         ],
         "y": [
          207.55,
          202.8,
          213.45,
          224.65,
          236.45,
          248.9
         ]
        },
        {
         "mode": "lines",
         "showlegend": false,
         "type": "scatter",
         "x": [
          "2023-08-28T00:00:00",
          "2023-08-25T00:00:00",
          "2023-08-24T00:00:00",
          "2023-08-23T00:00:00",
          "2023-08-22T00:00:00",
          "2023-08-21T00:00:00"
         ],
         "y": [
          207.55,
          202.8,
          213.45,
          224.65,
          236.45,
          248.9
         ]
        },
        {
         "mode": "lines",
         "showlegend": false,
         "type": "scatter",
         "x": [
          "2023-08-28T00:00:00",
          "2023-08-25T00:00:00",
          "2023-08-24T00:00:00",
          "2023-08-23T00:00:00",
          "2023-08-22T00:00:00",
          "2023-08-21T00:00:00"
         ],
         "y": [
          207.55,
          202.8,
          213.45,
          224.65,
          236.45,
          248.9
         ]
        },
        {
         "mode": "lines",
         "showlegend": false,
         "type": "scatter",
         "x": [
          "2023-08-28T00:00:00",
          "2023-08-25T00:00:00",
          "2023-08-24T00:00:00",
          "2023-08-23T00:00:00",
          "2023-08-22T00:00:00",
          "2023-08-21T00:00:00"
         ],
         "y": [
          207.55,
          202.8,
          213.45,
          224.65,
          236.45,
          248.9
         ]
        },
        {
         "mode": "lines",
         "showlegend": false,
         "type": "scatter",
         "x": [
          "2023-08-28T00:00:00",
          "2023-08-25T00:00:00",
          "2023-08-24T00:00:00",
          "2023-08-23T00:00:00",
          "2023-08-22T00:00:00",
          "2023-08-21T00:00:00"
         ],
         "y": [
          214.5,
          213.45,
          224.65,
          236.45,
          248.9,
          261.85
         ]
        },
        {
         "mode": "lines",
         "showlegend": false,
         "type": "scatter",
         "x": [
          "2023-08-28T00:00:00",
          "2023-08-25T00:00:00",
          "2023-08-24T00:00:00",
          "2023-08-23T00:00:00",
          "2023-08-22T00:00:00",
          "2023-08-21T00:00:00"
         ],
         "y": [
          214.5,
          213.45,
          224.65,
          236.45,
          248.9,
          261.85
         ]
        },
        {
         "mode": "lines",
         "showlegend": false,
         "type": "scatter",
         "x": [
          "2023-08-28T00:00:00",
          "2023-08-25T00:00:00",
          "2023-08-24T00:00:00",
          "2023-08-23T00:00:00",
          "2023-08-22T00:00:00",
          "2023-08-21T00:00:00"
         ],
         "y": [
          214.5,
          213.45,
          224.65,
          236.45,
          248.9,
          261.85
         ]
        },
        {
         "mode": "lines",
         "showlegend": false,
         "type": "scatter",
         "x": [
          "2023-08-28T00:00:00",
          "2023-08-25T00:00:00",
          "2023-08-24T00:00:00",
          "2023-08-23T00:00:00",
          "2023-08-22T00:00:00",
          "2023-08-21T00:00:00"
         ],
         "y": [
          214.5,
          213.45,
          224.65,
          236.45,
          248.9,
          261.85
         ]
        },
        {
         "mode": "lines",
         "showlegend": false,
         "type": "scatter",
         "x": [
          "2023-08-28T00:00:00",
          "2023-08-25T00:00:00",
          "2023-08-24T00:00:00",
          "2023-08-23T00:00:00",
          "2023-08-22T00:00:00",
          "2023-08-21T00:00:00"
         ],
         "y": [
          214.5,
          213.45,
          224.65,
          236.45,
          248.9,
          261.85
         ]
        },
        {
         "mode": "lines",
         "showlegend": false,
         "type": "scatter",
         "x": [
          "2023-08-28T00:00:00",
          "2023-08-25T00:00:00",
          "2023-08-24T00:00:00",
          "2023-08-23T00:00:00",
          "2023-08-22T00:00:00",
          "2023-08-21T00:00:00"
         ],
         "y": [
          214.5,
          213.45,
          224.65,
          236.45,
          248.9,
          261.85
         ]
        },
        {
         "mode": "lines",
         "showlegend": false,
         "type": "scatter",
         "x": [
          "2023-08-28T00:00:00",
          "2023-08-25T00:00:00",
          "2023-08-24T00:00:00",
          "2023-08-23T00:00:00",
          "2023-08-22T00:00:00",
          "2023-08-21T00:00:00"
         ],
         "y": [
          214.5,
          213.45,
          224.65,
          236.45,
          248.9,
          261.85
         ]
        },
        {
         "mode": "lines",
         "showlegend": false,
         "type": "scatter",
         "x": [
          "2023-08-28T00:00:00",
          "2023-08-25T00:00:00",
          "2023-08-24T00:00:00",
          "2023-08-23T00:00:00",
          "2023-08-22T00:00:00",
          "2023-08-21T00:00:00"
         ],
         "y": [
          214.5,
          213.45,
          224.65,
          236.45,
          248.9,
          261.85
         ]
        },
        {
         "mode": "lines",
         "showlegend": false,
         "type": "scatter",
         "x": [
          "2023-08-28T00:00:00",
          "2023-08-25T00:00:00",
          "2023-08-24T00:00:00",
          "2023-08-23T00:00:00",
          "2023-08-22T00:00:00",
          "2023-08-21T00:00:00"
         ],
         "y": [
          214.5,
          213.45,
          224.65,
          236.45,
          248.9,
          261.85
         ]
        },
        {
         "mode": "lines",
         "showlegend": false,
         "type": "scatter",
         "x": [
          "2023-08-28T00:00:00",
          "2023-08-25T00:00:00",
          "2023-08-24T00:00:00",
          "2023-08-23T00:00:00",
          "2023-08-22T00:00:00",
          "2023-08-21T00:00:00"
         ],
         "y": [
          214.5,
          213.45,
          224.65,
          236.45,
          248.9,
          261.85
         ]
        },
        {
         "mode": "lines",
         "showlegend": false,
         "type": "scatter",
         "x": [
          "2023-08-28T00:00:00",
          "2023-08-25T00:00:00",
          "2023-08-24T00:00:00",
          "2023-08-23T00:00:00",
          "2023-08-22T00:00:00",
          "2023-08-21T00:00:00"
         ],
         "y": [
          214.5,
          213.45,
          224.65,
          236.45,
          248.9,
          261.85
         ]
        },
        {
         "mode": "lines",
         "showlegend": false,
         "type": "scatter",
         "x": [
          "2023-08-28T00:00:00",
          "2023-08-25T00:00:00",
          "2023-08-24T00:00:00",
          "2023-08-23T00:00:00",
          "2023-08-22T00:00:00",
          "2023-08-21T00:00:00"
         ],
         "y": [
          210.1,
          221.6,
          213.45,
          224.65,
          236.45,
          248.9
         ]
        },
        {
         "mode": "lines",
         "showlegend": false,
         "type": "scatter",
         "x": [
          "2023-08-28T00:00:00",
          "2023-08-25T00:00:00",
          "2023-08-24T00:00:00",
          "2023-08-23T00:00:00",
          "2023-08-22T00:00:00",
          "2023-08-21T00:00:00"
         ],
         "y": [
          210.1,
          221.6,
          213.45,
          224.65,
          236.45,
          248.9
         ]
        },
        {
         "mode": "lines",
         "showlegend": false,
         "type": "scatter",
         "x": [
          "2023-08-28T00:00:00",
          "2023-08-25T00:00:00",
          "2023-08-24T00:00:00",
          "2023-08-23T00:00:00",
          "2023-08-22T00:00:00",
          "2023-08-21T00:00:00"
         ],
         "y": [
          210.1,
          221.6,
          213.45,
          224.65,
          236.45,
          248.9
         ]
        },
        {
         "mode": "lines",
         "showlegend": false,
         "type": "scatter",
         "x": [
          "2023-08-28T00:00:00",
          "2023-08-25T00:00:00",
          "2023-08-24T00:00:00",
          "2023-08-23T00:00:00",
          "2023-08-22T00:00:00",
          "2023-08-21T00:00:00"
         ],
         "y": [
          210.1,
          221.6,
          213.45,
          224.65,
          236.45,
          248.9
         ]
        },
        {
         "mode": "lines",
         "showlegend": false,
         "type": "scatter",
         "x": [
          "2023-08-28T00:00:00",
          "2023-08-25T00:00:00",
          "2023-08-24T00:00:00",
          "2023-08-23T00:00:00",
          "2023-08-22T00:00:00",
          "2023-08-21T00:00:00"
         ],
         "y": [
          210.1,
          221.6,
          213.45,
          224.65,
          236.45,
          248.9
         ]
        },
        {
         "mode": "lines",
         "showlegend": false,
         "type": "scatter",
         "x": [
          "2023-08-28T00:00:00",
          "2023-08-25T00:00:00",
          "2023-08-24T00:00:00",
          "2023-08-23T00:00:00",
          "2023-08-22T00:00:00",
          "2023-08-21T00:00:00"
         ],
         "y": [
          210.1,
          221.6,
          213.45,
          224.65,
          236.45,
          248.9
         ]
        },
        {
         "mode": "lines",
         "showlegend": false,
         "type": "scatter",
         "x": [
          "2023-08-28T00:00:00",
          "2023-08-25T00:00:00",
          "2023-08-24T00:00:00",
          "2023-08-23T00:00:00",
          "2023-08-22T00:00:00",
          "2023-08-21T00:00:00"
         ],
         "y": [
          210.1,
          221.6,
          213.45,
          224.65,
          236.45,
          248.9
         ]
        },
        {
         "mode": "lines",
         "showlegend": false,
         "type": "scatter",
         "x": [
          "2023-08-28T00:00:00",
          "2023-08-25T00:00:00",
          "2023-08-24T00:00:00",
          "2023-08-23T00:00:00",
          "2023-08-22T00:00:00",
          "2023-08-21T00:00:00"
         ],
         "y": [
          210.1,
          221.6,
          213.45,
          224.65,
          236.45,
          248.9
         ]
        },
        {
         "mode": "lines",
         "showlegend": false,
         "type": "scatter",
         "x": [
          "2023-08-28T00:00:00",
          "2023-08-25T00:00:00",
          "2023-08-24T00:00:00",
          "2023-08-23T00:00:00",
          "2023-08-22T00:00:00",
          "2023-08-21T00:00:00"
         ],
         "y": [
          210.1,
          221.6,
          213.45,
          224.65,
          236.45,
          248.9
         ]
        },
        {
         "mode": "lines",
         "showlegend": false,
         "type": "scatter",
         "x": [
          "2023-08-28T00:00:00",
          "2023-08-25T00:00:00",
          "2023-08-24T00:00:00",
          "2023-08-23T00:00:00",
          "2023-08-22T00:00:00",
          "2023-08-21T00:00:00"
         ],
         "y": [
          210.1,
          221.6,
          213.45,
          224.65,
          236.45,
          248.9
         ]
        },
        {
         "mode": "lines",
         "showlegend": false,
         "type": "scatter",
         "x": [
          "2023-08-28T00:00:00",
          "2023-08-25T00:00:00",
          "2023-08-24T00:00:00",
          "2023-08-23T00:00:00",
          "2023-08-22T00:00:00",
          "2023-08-21T00:00:00"
         ],
         "y": [
          210.1,
          221.6,
          213.45,
          224.65,
          236.45,
          248.9
         ]
        },
        {
         "mode": "lines",
         "showlegend": false,
         "type": "scatter",
         "x": [
          "2023-08-28T00:00:00",
          "2023-08-25T00:00:00",
          "2023-08-24T00:00:00",
          "2023-08-23T00:00:00",
          "2023-08-22T00:00:00",
          "2023-08-21T00:00:00"
         ],
         "y": [
          211.15,
          214.5,
          213.45,
          224.65,
          236.45,
          248.9
         ]
        },
        {
         "mode": "lines",
         "showlegend": false,
         "type": "scatter",
         "x": [
          "2023-08-28T00:00:00",
          "2023-08-25T00:00:00",
          "2023-08-24T00:00:00",
          "2023-08-23T00:00:00",
          "2023-08-22T00:00:00",
          "2023-08-21T00:00:00"
         ],
         "y": [
          211.15,
          214.5,
          213.45,
          224.65,
          236.45,
          248.9
         ]
        },
        {
         "mode": "lines",
         "showlegend": false,
         "type": "scatter",
         "x": [
          "2023-08-28T00:00:00",
          "2023-08-25T00:00:00",
          "2023-08-24T00:00:00",
          "2023-08-23T00:00:00",
          "2023-08-22T00:00:00",
          "2023-08-21T00:00:00"
         ],
         "y": [
          211.15,
          214.5,
          213.45,
          224.65,
          236.45,
          248.9
         ]
        },
        {
         "mode": "lines",
         "showlegend": false,
         "type": "scatter",
         "x": [
          "2023-08-28T00:00:00",
          "2023-08-25T00:00:00",
          "2023-08-24T00:00:00",
          "2023-08-23T00:00:00",
          "2023-08-22T00:00:00",
          "2023-08-21T00:00:00"
         ],
         "y": [
          211.15,
          214.5,
          213.45,
          224.65,
          236.45,
          248.9
         ]
        },
        {
         "mode": "lines",
         "showlegend": false,
         "type": "scatter",
         "x": [
          "2023-08-28T00:00:00",
          "2023-08-25T00:00:00",
          "2023-08-24T00:00:00",
          "2023-08-23T00:00:00",
          "2023-08-22T00:00:00",
          "2023-08-21T00:00:00"
         ],
         "y": [
          211.15,
          214.5,
          213.45,
          224.65,
          236.45,
          248.9
         ]
        },
        {
         "mode": "lines",
         "showlegend": false,
         "type": "scatter",
         "x": [
          "2023-08-28T00:00:00",
          "2023-08-25T00:00:00",
          "2023-08-24T00:00:00",
          "2023-08-23T00:00:00",
          "2023-08-22T00:00:00",
          "2023-08-21T00:00:00"
         ],
         "y": [
          211.15,
          214.5,
          213.45,
          224.65,
          236.45,
          248.9
         ]
        },
        {
         "mode": "lines",
         "showlegend": false,
         "type": "scatter",
         "x": [
          "2023-08-28T00:00:00",
          "2023-08-25T00:00:00",
          "2023-08-24T00:00:00",
          "2023-08-23T00:00:00",
          "2023-08-22T00:00:00",
          "2023-08-21T00:00:00"
         ],
         "y": [
          211.15,
          214.5,
          213.45,
          224.65,
          236.45,
          248.9
         ]
        },
        {
         "mode": "lines",
         "showlegend": false,
         "type": "scatter",
         "x": [
          "2023-08-28T00:00:00",
          "2023-08-25T00:00:00",
          "2023-08-24T00:00:00",
          "2023-08-23T00:00:00",
          "2023-08-22T00:00:00",
          "2023-08-21T00:00:00"
         ],
         "y": [
          211.15,
          214.5,
          213.45,
          224.65,
          236.45,
          248.9
         ]
        },
        {
         "mode": "lines",
         "showlegend": false,
         "type": "scatter",
         "x": [
          "2023-08-28T00:00:00",
          "2023-08-25T00:00:00",
          "2023-08-24T00:00:00",
          "2023-08-23T00:00:00",
          "2023-08-22T00:00:00",
          "2023-08-21T00:00:00"
         ],
         "y": [
          211.15,
          214.5,
          213.45,
          224.65,
          236.45,
          248.9
         ]
        },
        {
         "mode": "lines",
         "showlegend": false,
         "type": "scatter",
         "x": [
          "2023-08-28T00:00:00",
          "2023-08-25T00:00:00",
          "2023-08-24T00:00:00",
          "2023-08-23T00:00:00",
          "2023-08-22T00:00:00",
          "2023-08-21T00:00:00"
         ],
         "y": [
          211.15,
          214.5,
          213.45,
          224.65,
          236.45,
          248.9
         ]
        },
        {
         "mode": "lines",
         "showlegend": false,
         "type": "scatter",
         "x": [
          "2023-08-28T00:00:00",
          "2023-08-25T00:00:00",
          "2023-08-24T00:00:00",
          "2023-08-23T00:00:00",
          "2023-08-22T00:00:00",
          "2023-08-21T00:00:00"
         ],
         "y": [
          211.15,
          214.5,
          213.45,
          224.65,
          236.45,
          248.9
         ]
        },
        {
         "mode": "lines",
         "showlegend": false,
         "type": "scatter",
         "x": [
          "2023-08-28T00:00:00",
          "2023-08-25T00:00:00",
          "2023-08-24T00:00:00",
          "2023-08-23T00:00:00",
          "2023-08-22T00:00:00",
          "2023-08-21T00:00:00"
         ],
         "y": [
          216.13,
          208.11,
          213.45,
          224.65,
          236.45,
          253.78
         ]
        },
        {
         "mode": "lines",
         "showlegend": false,
         "type": "scatter",
         "x": [
          "2023-08-28T00:00:00",
          "2023-08-25T00:00:00",
          "2023-08-24T00:00:00",
          "2023-08-23T00:00:00",
          "2023-08-22T00:00:00",
          "2023-08-21T00:00:00"
         ],
         "y": [
          216.13,
          208.11,
          213.45,
          224.65,
          236.45,
          253.78
         ]
        },
        {
         "mode": "lines",
         "showlegend": false,
         "type": "scatter",
         "x": [
          "2023-08-28T00:00:00",
          "2023-08-25T00:00:00",
          "2023-08-24T00:00:00",
          "2023-08-23T00:00:00",
          "2023-08-22T00:00:00",
          "2023-08-21T00:00:00"
         ],
         "y": [
          216.13,
          208.11,
          213.45,
          224.65,
          236.45,
          253.78
         ]
        },
        {
         "mode": "lines",
         "showlegend": false,
         "type": "scatter",
         "x": [
          "2023-08-28T00:00:00",
          "2023-08-25T00:00:00",
          "2023-08-24T00:00:00",
          "2023-08-23T00:00:00",
          "2023-08-22T00:00:00",
          "2023-08-21T00:00:00"
         ],
         "y": [
          216.13,
          208.11,
          213.45,
          224.65,
          236.45,
          253.78
         ]
        },
        {
         "mode": "lines",
         "showlegend": false,
         "type": "scatter",
         "x": [
          "2023-08-28T00:00:00",
          "2023-08-25T00:00:00",
          "2023-08-24T00:00:00",
          "2023-08-23T00:00:00",
          "2023-08-22T00:00:00",
          "2023-08-21T00:00:00"
         ],
         "y": [
          216.13,
          208.11,
          213.45,
          224.65,
          236.45,
          253.78
         ]
        },
        {
         "mode": "lines",
         "showlegend": false,
         "type": "scatter",
         "x": [
          "2023-08-28T00:00:00",
          "2023-08-25T00:00:00",
          "2023-08-24T00:00:00",
          "2023-08-23T00:00:00",
          "2023-08-22T00:00:00",
          "2023-08-21T00:00:00"
         ],
         "y": [
          216.13,
          208.11,
          213.45,
          224.65,
          236.45,
          253.78
         ]
        },
        {
         "mode": "lines",
         "showlegend": false,
         "type": "scatter",
         "x": [
          "2023-08-28T00:00:00",
          "2023-08-25T00:00:00",
          "2023-08-24T00:00:00",
          "2023-08-23T00:00:00",
          "2023-08-22T00:00:00",
          "2023-08-21T00:00:00"
         ],
         "y": [
          216.13,
          208.11,
          213.45,
          224.65,
          236.45,
          253.78
         ]
        },
        {
         "mode": "lines",
         "showlegend": false,
         "type": "scatter",
         "x": [
          "2023-08-28T00:00:00",
          "2023-08-25T00:00:00",
          "2023-08-24T00:00:00",
          "2023-08-23T00:00:00",
          "2023-08-22T00:00:00",
          "2023-08-21T00:00:00"
         ],
         "y": [
          216.13,
          208.11,
          213.45,
          224.65,
          236.45,
          253.78
         ]
        },
        {
         "mode": "lines",
         "showlegend": false,
         "type": "scatter",
         "x": [
          "2023-08-28T00:00:00",
          "2023-08-25T00:00:00",
          "2023-08-24T00:00:00",
          "2023-08-23T00:00:00",
          "2023-08-22T00:00:00",
          "2023-08-21T00:00:00"
         ],
         "y": [
          216.13,
          208.11,
          213.45,
          224.65,
          236.45,
          253.78
         ]
        },
        {
         "mode": "lines",
         "showlegend": false,
         "type": "scatter",
         "x": [
          "2023-08-28T00:00:00",
          "2023-08-25T00:00:00",
          "2023-08-24T00:00:00",
          "2023-08-23T00:00:00",
          "2023-08-22T00:00:00",
          "2023-08-21T00:00:00"
         ],
         "y": [
          216.13,
          208.11,
          213.45,
          224.65,
          236.45,
          253.78
         ]
        },
        {
         "mode": "lines",
         "showlegend": false,
         "type": "scatter",
         "x": [
          "2023-08-28T00:00:00",
          "2023-08-25T00:00:00",
          "2023-08-24T00:00:00",
          "2023-08-23T00:00:00",
          "2023-08-22T00:00:00",
          "2023-08-21T00:00:00"
         ],
         "y": [
          216.13,
          208.11,
          213.45,
          224.65,
          236.45,
          253.78
         ]
        },
        {
         "mode": "lines",
         "showlegend": false,
         "type": "scatter",
         "x": [
          "2023-08-28T00:00:00",
          "2023-08-25T00:00:00",
          "2023-08-24T00:00:00",
          "2023-08-23T00:00:00",
          "2023-08-22T00:00:00",
          "2023-08-21T00:00:00"
         ],
         "y": [
          262.05,
          262.05,
          262.05,
          262.05,
          262.05,
          262.05
         ]
        },
        {
         "mode": "lines",
         "showlegend": false,
         "type": "scatter",
         "x": [
          "2023-08-28T00:00:00",
          "2023-08-25T00:00:00",
          "2023-08-24T00:00:00",
          "2023-08-23T00:00:00",
          "2023-08-22T00:00:00",
          "2023-08-21T00:00:00"
         ],
         "y": [
          262.05,
          262.05,
          262.05,
          262.05,
          262.05,
          262.05
         ]
        },
        {
         "mode": "lines",
         "showlegend": false,
         "type": "scatter",
         "x": [
          "2023-08-28T00:00:00",
          "2023-08-25T00:00:00",
          "2023-08-24T00:00:00",
          "2023-08-23T00:00:00",
          "2023-08-22T00:00:00",
          "2023-08-21T00:00:00"
         ],
         "y": [
          262.05,
          262.05,
          262.05,
          262.05,
          262.05,
          262.05
         ]
        },
        {
         "mode": "lines",
         "showlegend": false,
         "type": "scatter",
         "x": [
          "2023-08-28T00:00:00",
          "2023-08-25T00:00:00",
          "2023-08-24T00:00:00",
          "2023-08-23T00:00:00",
          "2023-08-22T00:00:00",
          "2023-08-21T00:00:00"
         ],
         "y": [
          262.05,
          262.05,
          262.05,
          262.05,
          262.05,
          262.05
         ]
        },
        {
         "mode": "lines",
         "showlegend": false,
         "type": "scatter",
         "x": [
          "2023-08-28T00:00:00",
          "2023-08-25T00:00:00",
          "2023-08-24T00:00:00",
          "2023-08-23T00:00:00",
          "2023-08-22T00:00:00",
          "2023-08-21T00:00:00"
         ],
         "y": [
          262.05,
          262.05,
          262.05,
          262.05,
          262.05,
          262.05
         ]
        },
        {
         "mode": "lines",
         "showlegend": false,
         "type": "scatter",
         "x": [
          "2023-08-28T00:00:00",
          "2023-08-25T00:00:00",
          "2023-08-24T00:00:00",
          "2023-08-23T00:00:00",
          "2023-08-22T00:00:00",
          "2023-08-21T00:00:00"
         ],
         "y": [
          262.05,
          262.05,
          262.05,
          262.05,
          262.05,
          262.05
         ]
        },
        {
         "mode": "lines",
         "showlegend": false,
         "type": "scatter",
         "x": [
          "2023-08-28T00:00:00",
          "2023-08-25T00:00:00",
          "2023-08-24T00:00:00",
          "2023-08-23T00:00:00",
          "2023-08-22T00:00:00",
          "2023-08-21T00:00:00"
         ],
         "y": [
          262.05,
          262.05,
          262.05,
          262.05,
          262.05,
          262.05
         ]
        },
        {
         "mode": "lines",
         "showlegend": false,
         "type": "scatter",
         "x": [
          "2023-08-28T00:00:00",
          "2023-08-25T00:00:00",
          "2023-08-24T00:00:00",
          "2023-08-23T00:00:00",
          "2023-08-22T00:00:00",
          "2023-08-21T00:00:00"
         ],
         "y": [
          262.05,
          262.05,
          262.05,
          262.05,
          262.05,
          262.05
         ]
        },
        {
         "mode": "lines",
         "showlegend": false,
         "type": "scatter",
         "x": [
          "2023-08-28T00:00:00",
          "2023-08-25T00:00:00",
          "2023-08-24T00:00:00",
          "2023-08-23T00:00:00",
          "2023-08-22T00:00:00",
          "2023-08-21T00:00:00"
         ],
         "y": [
          262.05,
          262.05,
          262.05,
          262.05,
          262.05,
          262.05
         ]
        },
        {
         "mode": "lines",
         "showlegend": false,
         "type": "scatter",
         "x": [
          "2023-08-28T00:00:00",
          "2023-08-25T00:00:00",
          "2023-08-24T00:00:00",
          "2023-08-23T00:00:00",
          "2023-08-22T00:00:00",
          "2023-08-21T00:00:00"
         ],
         "y": [
          262.05,
          262.05,
          262.05,
          262.05,
          262.05,
          262.05
         ]
        },
        {
         "mode": "lines",
         "showlegend": false,
         "type": "scatter",
         "x": [
          "2023-08-28T00:00:00",
          "2023-08-25T00:00:00",
          "2023-08-24T00:00:00",
          "2023-08-23T00:00:00",
          "2023-08-22T00:00:00",
          "2023-08-21T00:00:00"
         ],
         "y": [
          262.05,
          262.05,
          262.05,
          262.05,
          262.05,
          262.05
         ]
        },
        {
         "mode": "lines",
         "showlegend": false,
         "type": "scatter",
         "x": [
          "2023-08-28T00:00:00",
          "2023-08-25T00:00:00",
          "2023-08-24T00:00:00",
          "2023-08-23T00:00:00",
          "2023-08-22T00:00:00",
          "2023-08-21T00:00:00"
         ],
         "y": [
          202.8,
          202.8,
          213.45,
          224.65,
          236.45,
          248.9
         ]
        },
        {
         "mode": "lines",
         "showlegend": false,
         "type": "scatter",
         "x": [
          "2023-08-28T00:00:00",
          "2023-08-25T00:00:00",
          "2023-08-24T00:00:00",
          "2023-08-23T00:00:00",
          "2023-08-22T00:00:00",
          "2023-08-21T00:00:00"
         ],
         "y": [
          202.8,
          202.8,
          213.45,
          224.65,
          236.45,
          248.9
         ]
        },
        {
         "mode": "lines",
         "showlegend": false,
         "type": "scatter",
         "x": [
          "2023-08-28T00:00:00",
          "2023-08-25T00:00:00",
          "2023-08-24T00:00:00",
          "2023-08-23T00:00:00",
          "2023-08-22T00:00:00",
          "2023-08-21T00:00:00"
         ],
         "y": [
          202.8,
          202.8,
          213.45,
          224.65,
          236.45,
          248.9
         ]
        },
        {
         "mode": "lines",
         "showlegend": false,
         "type": "scatter",
         "x": [
          "2023-08-28T00:00:00",
          "2023-08-25T00:00:00",
          "2023-08-24T00:00:00",
          "2023-08-23T00:00:00",
          "2023-08-22T00:00:00",
          "2023-08-21T00:00:00"
         ],
         "y": [
          202.8,
          202.8,
          213.45,
          224.65,
          236.45,
          248.9
         ]
        },
        {
         "mode": "lines",
         "showlegend": false,
         "type": "scatter",
         "x": [
          "2023-08-28T00:00:00",
          "2023-08-25T00:00:00",
          "2023-08-24T00:00:00",
          "2023-08-23T00:00:00",
          "2023-08-22T00:00:00",
          "2023-08-21T00:00:00"
         ],
         "y": [
          202.8,
          202.8,
          213.45,
          224.65,
          236.45,
          248.9
         ]
        },
        {
         "mode": "lines",
         "showlegend": false,
         "type": "scatter",
         "x": [
          "2023-08-28T00:00:00",
          "2023-08-25T00:00:00",
          "2023-08-24T00:00:00",
          "2023-08-23T00:00:00",
          "2023-08-22T00:00:00",
          "2023-08-21T00:00:00"
         ],
         "y": [
          202.8,
          202.8,
          213.45,
          224.65,
          236.45,
          248.9
         ]
        },
        {
         "mode": "lines",
         "showlegend": false,
         "type": "scatter",
         "x": [
          "2023-08-28T00:00:00",
          "2023-08-25T00:00:00",
          "2023-08-24T00:00:00",
          "2023-08-23T00:00:00",
          "2023-08-22T00:00:00",
          "2023-08-21T00:00:00"
         ],
         "y": [
          202.8,
          202.8,
          213.45,
          224.65,
          236.45,
          248.9
         ]
        },
        {
         "mode": "lines",
         "showlegend": false,
         "type": "scatter",
         "x": [
          "2023-08-28T00:00:00",
          "2023-08-25T00:00:00",
          "2023-08-24T00:00:00",
          "2023-08-23T00:00:00",
          "2023-08-22T00:00:00",
          "2023-08-21T00:00:00"
         ],
         "y": [
          202.8,
          202.8,
          213.45,
          224.65,
          236.45,
          248.9
         ]
        },
        {
         "mode": "lines",
         "showlegend": false,
         "type": "scatter",
         "x": [
          "2023-08-28T00:00:00",
          "2023-08-25T00:00:00",
          "2023-08-24T00:00:00",
          "2023-08-23T00:00:00",
          "2023-08-22T00:00:00",
          "2023-08-21T00:00:00"
         ],
         "y": [
          202.8,
          202.8,
          213.45,
          224.65,
          236.45,
          248.9
         ]
        },
        {
         "mode": "lines",
         "showlegend": false,
         "type": "scatter",
         "x": [
          "2023-08-28T00:00:00",
          "2023-08-25T00:00:00",
          "2023-08-24T00:00:00",
          "2023-08-23T00:00:00",
          "2023-08-22T00:00:00",
          "2023-08-21T00:00:00"
         ],
         "y": [
          202.8,
          202.8,
          213.45,
          224.65,
          236.45,
          248.9
         ]
        },
        {
         "mode": "lines",
         "showlegend": false,
         "type": "scatter",
         "x": [
          "2023-08-28T00:00:00",
          "2023-08-25T00:00:00",
          "2023-08-24T00:00:00",
          "2023-08-23T00:00:00",
          "2023-08-22T00:00:00",
          "2023-08-21T00:00:00"
         ],
         "y": [
          202.8,
          202.8,
          213.45,
          224.65,
          236.45,
          248.9
         ]
        },
        {
         "mode": "lines",
         "showlegend": false,
         "type": "scatter",
         "x": [
          "2023-08-28T00:00:00",
          "2023-08-25T00:00:00",
          "2023-08-24T00:00:00",
          "2023-08-23T00:00:00",
          "2023-08-22T00:00:00",
          "2023-08-21T00:00:00"
         ],
         "y": [
          87522126,
          281040185,
          27673356,
          4289046,
          7281398,
          74715306
         ]
        },
        {
         "mode": "lines",
         "showlegend": false,
         "type": "scatter",
         "x": [
          "2023-08-28T00:00:00",
          "2023-08-25T00:00:00",
          "2023-08-24T00:00:00",
          "2023-08-23T00:00:00",
          "2023-08-22T00:00:00",
          "2023-08-21T00:00:00"
         ],
         "y": [
          87522126,
          281040185,
          27673356,
          4289046,
          7281398,
          74715306
         ]
        },
        {
         "mode": "lines",
         "showlegend": false,
         "type": "scatter",
         "x": [
          "2023-08-28T00:00:00",
          "2023-08-25T00:00:00",
          "2023-08-24T00:00:00",
          "2023-08-23T00:00:00",
          "2023-08-22T00:00:00",
          "2023-08-21T00:00:00"
         ],
         "y": [
          87522126,
          281040185,
          27673356,
          4289046,
          7281398,
          74715306
         ]
        },
        {
         "mode": "lines",
         "showlegend": false,
         "type": "scatter",
         "x": [
          "2023-08-28T00:00:00",
          "2023-08-25T00:00:00",
          "2023-08-24T00:00:00",
          "2023-08-23T00:00:00",
          "2023-08-22T00:00:00",
          "2023-08-21T00:00:00"
         ],
         "y": [
          87522126,
          281040185,
          27673356,
          4289046,
          7281398,
          74715306
         ]
        },
        {
         "mode": "lines",
         "showlegend": false,
         "type": "scatter",
         "x": [
          "2023-08-28T00:00:00",
          "2023-08-25T00:00:00",
          "2023-08-24T00:00:00",
          "2023-08-23T00:00:00",
          "2023-08-22T00:00:00",
          "2023-08-21T00:00:00"
         ],
         "y": [
          87522126,
          281040185,
          27673356,
          4289046,
          7281398,
          74715306
         ]
        },
        {
         "mode": "lines",
         "showlegend": false,
         "type": "scatter",
         "x": [
          "2023-08-28T00:00:00",
          "2023-08-25T00:00:00",
          "2023-08-24T00:00:00",
          "2023-08-23T00:00:00",
          "2023-08-22T00:00:00",
          "2023-08-21T00:00:00"
         ],
         "y": [
          87522126,
          281040185,
          27673356,
          4289046,
          7281398,
          74715306
         ]
        },
        {
         "mode": "lines",
         "showlegend": false,
         "type": "scatter",
         "x": [
          "2023-08-28T00:00:00",
          "2023-08-25T00:00:00",
          "2023-08-24T00:00:00",
          "2023-08-23T00:00:00",
          "2023-08-22T00:00:00",
          "2023-08-21T00:00:00"
         ],
         "y": [
          87522126,
          281040185,
          27673356,
          4289046,
          7281398,
          74715306
         ]
        },
        {
         "mode": "lines",
         "showlegend": false,
         "type": "scatter",
         "x": [
          "2023-08-28T00:00:00",
          "2023-08-25T00:00:00",
          "2023-08-24T00:00:00",
          "2023-08-23T00:00:00",
          "2023-08-22T00:00:00",
          "2023-08-21T00:00:00"
         ],
         "y": [
          87522126,
          281040185,
          27673356,
          4289046,
          7281398,
          74715306
         ]
        },
        {
         "mode": "lines",
         "showlegend": false,
         "type": "scatter",
         "x": [
          "2023-08-28T00:00:00",
          "2023-08-25T00:00:00",
          "2023-08-24T00:00:00",
          "2023-08-23T00:00:00",
          "2023-08-22T00:00:00",
          "2023-08-21T00:00:00"
         ],
         "y": [
          87522126,
          281040185,
          27673356,
          4289046,
          7281398,
          74715306
         ]
        },
        {
         "mode": "lines",
         "showlegend": false,
         "type": "scatter",
         "x": [
          "2023-08-28T00:00:00",
          "2023-08-25T00:00:00",
          "2023-08-24T00:00:00",
          "2023-08-23T00:00:00",
          "2023-08-22T00:00:00",
          "2023-08-21T00:00:00"
         ],
         "y": [
          87522126,
          281040185,
          27673356,
          4289046,
          7281398,
          74715306
         ]
        },
        {
         "mode": "lines",
         "showlegend": false,
         "type": "scatter",
         "x": [
          "2023-08-28T00:00:00",
          "2023-08-25T00:00:00",
          "2023-08-24T00:00:00",
          "2023-08-23T00:00:00",
          "2023-08-22T00:00:00",
          "2023-08-21T00:00:00"
         ],
         "y": [
          87522126,
          281040185,
          27673356,
          4289046,
          7281398,
          74715306
         ]
        },
        {
         "mode": "lines",
         "showlegend": false,
         "type": "scatter",
         "x": [
          "2023-08-28T00:00:00",
          "2023-08-25T00:00:00",
          "2023-08-24T00:00:00",
          "2023-08-23T00:00:00",
          "2023-08-22T00:00:00",
          "2023-08-21T00:00:00"
         ],
         "y": [
          18916412848.5,
          58486553466.05,
          5906877838.2,
          963534183.9,
          1721686557.1,
          18961288026.65
         ]
        },
        {
         "mode": "lines",
         "showlegend": false,
         "type": "scatter",
         "x": [
          "2023-08-28T00:00:00",
          "2023-08-25T00:00:00",
          "2023-08-24T00:00:00",
          "2023-08-23T00:00:00",
          "2023-08-22T00:00:00",
          "2023-08-21T00:00:00"
         ],
         "y": [
          18916412848.5,
          58486553466.05,
          5906877838.2,
          963534183.9,
          1721686557.1,
          18961288026.65
         ]
        },
        {
         "mode": "lines",
         "showlegend": false,
         "type": "scatter",
         "x": [
          "2023-08-28T00:00:00",
          "2023-08-25T00:00:00",
          "2023-08-24T00:00:00",
          "2023-08-23T00:00:00",
          "2023-08-22T00:00:00",
          "2023-08-21T00:00:00"
         ],
         "y": [
          18916412848.5,
          58486553466.05,
          5906877838.2,
          963534183.9,
          1721686557.1,
          18961288026.65
         ]
        },
        {
         "mode": "lines",
         "showlegend": false,
         "type": "scatter",
         "x": [
          "2023-08-28T00:00:00",
          "2023-08-25T00:00:00",
          "2023-08-24T00:00:00",
          "2023-08-23T00:00:00",
          "2023-08-22T00:00:00",
          "2023-08-21T00:00:00"
         ],
         "y": [
          18916412848.5,
          58486553466.05,
          5906877838.2,
          963534183.9,
          1721686557.1,
          18961288026.65
         ]
        },
        {
         "mode": "lines",
         "showlegend": false,
         "type": "scatter",
         "x": [
          "2023-08-28T00:00:00",
          "2023-08-25T00:00:00",
          "2023-08-24T00:00:00",
          "2023-08-23T00:00:00",
          "2023-08-22T00:00:00",
          "2023-08-21T00:00:00"
         ],
         "y": [
          18916412848.5,
          58486553466.05,
          5906877838.2,
          963534183.9,
          1721686557.1,
          18961288026.65
         ]
        },
        {
         "mode": "lines",
         "showlegend": false,
         "type": "scatter",
         "x": [
          "2023-08-28T00:00:00",
          "2023-08-25T00:00:00",
          "2023-08-24T00:00:00",
          "2023-08-23T00:00:00",
          "2023-08-22T00:00:00",
          "2023-08-21T00:00:00"
         ],
         "y": [
          18916412848.5,
          58486553466.05,
          5906877838.2,
          963534183.9,
          1721686557.1,
          18961288026.65
         ]
        },
        {
         "mode": "lines",
         "showlegend": false,
         "type": "scatter",
         "x": [
          "2023-08-28T00:00:00",
          "2023-08-25T00:00:00",
          "2023-08-24T00:00:00",
          "2023-08-23T00:00:00",
          "2023-08-22T00:00:00",
          "2023-08-21T00:00:00"
         ],
         "y": [
          18916412848.5,
          58486553466.05,
          5906877838.2,
          963534183.9,
          1721686557.1,
          18961288026.65
         ]
        },
        {
         "mode": "lines",
         "showlegend": false,
         "type": "scatter",
         "x": [
          "2023-08-28T00:00:00",
          "2023-08-25T00:00:00",
          "2023-08-24T00:00:00",
          "2023-08-23T00:00:00",
          "2023-08-22T00:00:00",
          "2023-08-21T00:00:00"
         ],
         "y": [
          18916412848.5,
          58486553466.05,
          5906877838.2,
          963534183.9,
          1721686557.1,
          18961288026.65
         ]
        },
        {
         "mode": "lines",
         "showlegend": false,
         "type": "scatter",
         "x": [
          "2023-08-28T00:00:00",
          "2023-08-25T00:00:00",
          "2023-08-24T00:00:00",
          "2023-08-23T00:00:00",
          "2023-08-22T00:00:00",
          "2023-08-21T00:00:00"
         ],
         "y": [
          18916412848.5,
          58486553466.05,
          5906877838.2,
          963534183.9,
          1721686557.1,
          18961288026.65
         ]
        },
        {
         "mode": "lines",
         "showlegend": false,
         "type": "scatter",
         "x": [
          "2023-08-28T00:00:00",
          "2023-08-25T00:00:00",
          "2023-08-24T00:00:00",
          "2023-08-23T00:00:00",
          "2023-08-22T00:00:00",
          "2023-08-21T00:00:00"
         ],
         "y": [
          18916412848.5,
          58486553466.05,
          5906877838.2,
          963534183.9,
          1721686557.1,
          18961288026.65
         ]
        },
        {
         "mode": "lines",
         "showlegend": false,
         "type": "scatter",
         "x": [
          "2023-08-28T00:00:00",
          "2023-08-25T00:00:00",
          "2023-08-24T00:00:00",
          "2023-08-23T00:00:00",
          "2023-08-22T00:00:00",
          "2023-08-21T00:00:00"
         ],
         "y": [
          18916412848.5,
          58486553466.05,
          5906877838.2,
          963534183.9,
          1721686557.1,
          18961288026.65
         ]
        },
        {
         "mode": "lines",
         "showlegend": false,
         "type": "scatter",
         "x": [
          "2023-08-28T00:00:00",
          "2023-08-25T00:00:00",
          "2023-08-24T00:00:00",
          "2023-08-23T00:00:00",
          "2023-08-22T00:00:00",
          "2023-08-21T00:00:00"
         ],
         "y": [
          614341,
          668251,
          85618,
          70571,
          88607,
          347015
         ]
        },
        {
         "mode": "lines",
         "showlegend": false,
         "type": "scatter",
         "x": [
          "2023-08-28T00:00:00",
          "2023-08-25T00:00:00",
          "2023-08-24T00:00:00",
          "2023-08-23T00:00:00",
          "2023-08-22T00:00:00",
          "2023-08-21T00:00:00"
         ],
         "y": [
          614341,
          668251,
          85618,
          70571,
          88607,
          347015
         ]
        },
        {
         "mode": "lines",
         "showlegend": false,
         "type": "scatter",
         "x": [
          "2023-08-28T00:00:00",
          "2023-08-25T00:00:00",
          "2023-08-24T00:00:00",
          "2023-08-23T00:00:00",
          "2023-08-22T00:00:00",
          "2023-08-21T00:00:00"
         ],
         "y": [
          614341,
          668251,
          85618,
          70571,
          88607,
          347015
         ]
        },
        {
         "mode": "lines",
         "showlegend": false,
         "type": "scatter",
         "x": [
          "2023-08-28T00:00:00",
          "2023-08-25T00:00:00",
          "2023-08-24T00:00:00",
          "2023-08-23T00:00:00",
          "2023-08-22T00:00:00",
          "2023-08-21T00:00:00"
         ],
         "y": [
          614341,
          668251,
          85618,
          70571,
          88607,
          347015
         ]
        },
        {
         "mode": "lines",
         "showlegend": false,
         "type": "scatter",
         "x": [
          "2023-08-28T00:00:00",
          "2023-08-25T00:00:00",
          "2023-08-24T00:00:00",
          "2023-08-23T00:00:00",
          "2023-08-22T00:00:00",
          "2023-08-21T00:00:00"
         ],
         "y": [
          614341,
          668251,
          85618,
          70571,
          88607,
          347015
         ]
        },
        {
         "mode": "lines",
         "showlegend": false,
         "type": "scatter",
         "x": [
          "2023-08-28T00:00:00",
          "2023-08-25T00:00:00",
          "2023-08-24T00:00:00",
          "2023-08-23T00:00:00",
          "2023-08-22T00:00:00",
          "2023-08-21T00:00:00"
         ],
         "y": [
          614341,
          668251,
          85618,
          70571,
          88607,
          347015
         ]
        },
        {
         "mode": "lines",
         "showlegend": false,
         "type": "scatter",
         "x": [
          "2023-08-28T00:00:00",
          "2023-08-25T00:00:00",
          "2023-08-24T00:00:00",
          "2023-08-23T00:00:00",
          "2023-08-22T00:00:00",
          "2023-08-21T00:00:00"
         ],
         "y": [
          614341,
          668251,
          85618,
          70571,
          88607,
          347015
         ]
        },
        {
         "mode": "lines",
         "showlegend": false,
         "type": "scatter",
         "x": [
          "2023-08-28T00:00:00",
          "2023-08-25T00:00:00",
          "2023-08-24T00:00:00",
          "2023-08-23T00:00:00",
          "2023-08-22T00:00:00",
          "2023-08-21T00:00:00"
         ],
         "y": [
          614341,
          668251,
          85618,
          70571,
          88607,
          347015
         ]
        },
        {
         "mode": "lines",
         "showlegend": false,
         "type": "scatter",
         "x": [
          "2023-08-28T00:00:00",
          "2023-08-25T00:00:00",
          "2023-08-24T00:00:00",
          "2023-08-23T00:00:00",
          "2023-08-22T00:00:00",
          "2023-08-21T00:00:00"
         ],
         "y": [
          614341,
          668251,
          85618,
          70571,
          88607,
          347015
         ]
        },
        {
         "mode": "lines",
         "showlegend": false,
         "type": "scatter",
         "x": [
          "2023-08-28T00:00:00",
          "2023-08-25T00:00:00",
          "2023-08-24T00:00:00",
          "2023-08-23T00:00:00",
          "2023-08-22T00:00:00",
          "2023-08-21T00:00:00"
         ],
         "y": [
          614341,
          668251,
          85618,
          70571,
          88607,
          347015
         ]
        },
        {
         "mode": "lines",
         "showlegend": false,
         "type": "scatter",
         "x": [
          "2023-08-28T00:00:00",
          "2023-08-25T00:00:00",
          "2023-08-24T00:00:00",
          "2023-08-23T00:00:00",
          "2023-08-22T00:00:00",
          "2023-08-21T00:00:00"
         ],
         "y": [
          614341,
          668251,
          85618,
          70571,
          88607,
          347015
         ]
        }
       ],
       "layout": {
        "template": {
         "data": {
          "bar": [
           {
            "error_x": {
             "color": "#2a3f5f"
            },
            "error_y": {
             "color": "#2a3f5f"
            },
            "marker": {
             "line": {
              "color": "#E5ECF6",
              "width": 0.5
             },
             "pattern": {
              "fillmode": "overlay",
              "size": 10,
              "solidity": 0.2
             }
            },
            "type": "bar"
           }
          ],
          "barpolar": [
           {
            "marker": {
             "line": {
              "color": "#E5ECF6",
              "width": 0.5
             },
             "pattern": {
              "fillmode": "overlay",
              "size": 10,
              "solidity": 0.2
             }
            },
            "type": "barpolar"
           }
          ],
          "carpet": [
           {
            "aaxis": {
             "endlinecolor": "#2a3f5f",
             "gridcolor": "white",
             "linecolor": "white",
             "minorgridcolor": "white",
             "startlinecolor": "#2a3f5f"
            },
            "baxis": {
             "endlinecolor": "#2a3f5f",
             "gridcolor": "white",
             "linecolor": "white",
             "minorgridcolor": "white",
             "startlinecolor": "#2a3f5f"
            },
            "type": "carpet"
           }
          ],
          "choropleth": [
           {
            "colorbar": {
             "outlinewidth": 0,
             "ticks": ""
            },
            "type": "choropleth"
           }
          ],
          "contour": [
           {
            "colorbar": {
             "outlinewidth": 0,
             "ticks": ""
            },
            "colorscale": [
             [
              0,
              "#0d0887"
             ],
             [
              0.1111111111111111,
              "#46039f"
             ],
             [
              0.2222222222222222,
              "#7201a8"
             ],
             [
              0.3333333333333333,
              "#9c179e"
             ],
             [
              0.4444444444444444,
              "#bd3786"
             ],
             [
              0.5555555555555556,
              "#d8576b"
             ],
             [
              0.6666666666666666,
              "#ed7953"
             ],
             [
              0.7777777777777778,
              "#fb9f3a"
             ],
             [
              0.8888888888888888,
              "#fdca26"
             ],
             [
              1,
              "#f0f921"
             ]
            ],
            "type": "contour"
           }
          ],
          "contourcarpet": [
           {
            "colorbar": {
             "outlinewidth": 0,
             "ticks": ""
            },
            "type": "contourcarpet"
           }
          ],
          "heatmap": [
           {
            "colorbar": {
             "outlinewidth": 0,
             "ticks": ""
            },
            "colorscale": [
             [
              0,
              "#0d0887"
             ],
             [
              0.1111111111111111,
              "#46039f"
             ],
             [
              0.2222222222222222,
              "#7201a8"
             ],
             [
              0.3333333333333333,
              "#9c179e"
             ],
             [
              0.4444444444444444,
              "#bd3786"
             ],
             [
              0.5555555555555556,
              "#d8576b"
             ],
             [
              0.6666666666666666,
              "#ed7953"
             ],
             [
              0.7777777777777778,
              "#fb9f3a"
             ],
             [
              0.8888888888888888,
              "#fdca26"
             ],
             [
              1,
              "#f0f921"
             ]
            ],
            "type": "heatmap"
           }
          ],
          "heatmapgl": [
           {
            "colorbar": {
             "outlinewidth": 0,
             "ticks": ""
            },
            "colorscale": [
             [
              0,
              "#0d0887"
             ],
             [
              0.1111111111111111,
              "#46039f"
             ],
             [
              0.2222222222222222,
              "#7201a8"
             ],
             [
              0.3333333333333333,
              "#9c179e"
             ],
             [
              0.4444444444444444,
              "#bd3786"
             ],
             [
              0.5555555555555556,
              "#d8576b"
             ],
             [
              0.6666666666666666,
              "#ed7953"
             ],
             [
              0.7777777777777778,
              "#fb9f3a"
             ],
             [
              0.8888888888888888,
              "#fdca26"
             ],
             [
              1,
              "#f0f921"
             ]
            ],
            "type": "heatmapgl"
           }
          ],
          "histogram": [
           {
            "marker": {
             "pattern": {
              "fillmode": "overlay",
              "size": 10,
              "solidity": 0.2
             }
            },
            "type": "histogram"
           }
          ],
          "histogram2d": [
           {
            "colorbar": {
             "outlinewidth": 0,
             "ticks": ""
            },
            "colorscale": [
             [
              0,
              "#0d0887"
             ],
             [
              0.1111111111111111,
              "#46039f"
             ],
             [
              0.2222222222222222,
              "#7201a8"
             ],
             [
              0.3333333333333333,
              "#9c179e"
             ],
             [
              0.4444444444444444,
              "#bd3786"
             ],
             [
              0.5555555555555556,
              "#d8576b"
             ],
             [
              0.6666666666666666,
              "#ed7953"
             ],
             [
              0.7777777777777778,
              "#fb9f3a"
             ],
             [
              0.8888888888888888,
              "#fdca26"
             ],
             [
              1,
              "#f0f921"
             ]
            ],
            "type": "histogram2d"
           }
          ],
          "histogram2dcontour": [
           {
            "colorbar": {
             "outlinewidth": 0,
             "ticks": ""
            },
            "colorscale": [
             [
              0,
              "#0d0887"
             ],
             [
              0.1111111111111111,
              "#46039f"
             ],
             [
              0.2222222222222222,
              "#7201a8"
             ],
             [
              0.3333333333333333,
              "#9c179e"
             ],
             [
              0.4444444444444444,
              "#bd3786"
             ],
             [
              0.5555555555555556,
              "#d8576b"
             ],
             [
              0.6666666666666666,
              "#ed7953"
             ],
             [
              0.7777777777777778,
              "#fb9f3a"
             ],
             [
              0.8888888888888888,
              "#fdca26"
             ],
             [
              1,
              "#f0f921"
             ]
            ],
            "type": "histogram2dcontour"
           }
          ],
          "mesh3d": [
           {
            "colorbar": {
             "outlinewidth": 0,
             "ticks": ""
            },
            "type": "mesh3d"
           }
          ],
          "parcoords": [
           {
            "line": {
             "colorbar": {
              "outlinewidth": 0,
              "ticks": ""
             }
            },
            "type": "parcoords"
           }
          ],
          "pie": [
           {
            "automargin": true,
            "type": "pie"
           }
          ],
          "scatter": [
           {
            "fillpattern": {
             "fillmode": "overlay",
             "size": 10,
             "solidity": 0.2
            },
            "type": "scatter"
           }
          ],
          "scatter3d": [
           {
            "line": {
             "colorbar": {
              "outlinewidth": 0,
              "ticks": ""
             }
            },
            "marker": {
             "colorbar": {
              "outlinewidth": 0,
              "ticks": ""
             }
            },
            "type": "scatter3d"
           }
          ],
          "scattercarpet": [
           {
            "marker": {
             "colorbar": {
              "outlinewidth": 0,
              "ticks": ""
             }
            },
            "type": "scattercarpet"
           }
          ],
          "scattergeo": [
           {
            "marker": {
             "colorbar": {
              "outlinewidth": 0,
              "ticks": ""
             }
            },
            "type": "scattergeo"
           }
          ],
          "scattergl": [
           {
            "marker": {
             "colorbar": {
              "outlinewidth": 0,
              "ticks": ""
             }
            },
            "type": "scattergl"
           }
          ],
          "scattermapbox": [
           {
            "marker": {
             "colorbar": {
              "outlinewidth": 0,
              "ticks": ""
             }
            },
            "type": "scattermapbox"
           }
          ],
          "scatterpolar": [
           {
            "marker": {
             "colorbar": {
              "outlinewidth": 0,
              "ticks": ""
             }
            },
            "type": "scatterpolar"
           }
          ],
          "scatterpolargl": [
           {
            "marker": {
             "colorbar": {
              "outlinewidth": 0,
              "ticks": ""
             }
            },
            "type": "scatterpolargl"
           }
          ],
          "scatterternary": [
           {
            "marker": {
             "colorbar": {
              "outlinewidth": 0,
              "ticks": ""
             }
            },
            "type": "scatterternary"
           }
          ],
          "surface": [
           {
            "colorbar": {
             "outlinewidth": 0,
             "ticks": ""
            },
            "colorscale": [
             [
              0,
              "#0d0887"
             ],
             [
              0.1111111111111111,
              "#46039f"
             ],
             [
              0.2222222222222222,
              "#7201a8"
             ],
             [
              0.3333333333333333,
              "#9c179e"
             ],
             [
              0.4444444444444444,
              "#bd3786"
             ],
             [
              0.5555555555555556,
              "#d8576b"
             ],
             [
              0.6666666666666666,
              "#ed7953"
             ],
             [
              0.7777777777777778,
              "#fb9f3a"
             ],
             [
              0.8888888888888888,
              "#fdca26"
             ],
             [
              1,
              "#f0f921"
             ]
            ],
            "type": "surface"
           }
          ],
          "table": [
           {
            "cells": {
             "fill": {
              "color": "#EBF0F8"
             },
             "line": {
              "color": "white"
             }
            },
            "header": {
             "fill": {
              "color": "#C8D4E3"
             },
             "line": {
              "color": "white"
             }
            },
            "type": "table"
           }
          ]
         },
         "layout": {
          "annotationdefaults": {
           "arrowcolor": "#2a3f5f",
           "arrowhead": 0,
           "arrowwidth": 1
          },
          "autotypenumbers": "strict",
          "coloraxis": {
           "colorbar": {
            "outlinewidth": 0,
            "ticks": ""
           }
          },
          "colorscale": {
           "diverging": [
            [
             0,
             "#8e0152"
            ],
            [
             0.1,
             "#c51b7d"
            ],
            [
             0.2,
             "#de77ae"
            ],
            [
             0.3,
             "#f1b6da"
            ],
            [
             0.4,
             "#fde0ef"
            ],
            [
             0.5,
             "#f7f7f7"
            ],
            [
             0.6,
             "#e6f5d0"
            ],
            [
             0.7,
             "#b8e186"
            ],
            [
             0.8,
             "#7fbc41"
            ],
            [
             0.9,
             "#4d9221"
            ],
            [
             1,
             "#276419"
            ]
           ],
           "sequential": [
            [
             0,
             "#0d0887"
            ],
            [
             0.1111111111111111,
             "#46039f"
            ],
            [
             0.2222222222222222,
             "#7201a8"
            ],
            [
             0.3333333333333333,
             "#9c179e"
            ],
            [
             0.4444444444444444,
             "#bd3786"
            ],
            [
             0.5555555555555556,
             "#d8576b"
            ],
            [
             0.6666666666666666,
             "#ed7953"
            ],
            [
             0.7777777777777778,
             "#fb9f3a"
            ],
            [
             0.8888888888888888,
             "#fdca26"
            ],
            [
             1,
             "#f0f921"
            ]
           ],
           "sequentialminus": [
            [
             0,
             "#0d0887"
            ],
            [
             0.1111111111111111,
             "#46039f"
            ],
            [
             0.2222222222222222,
             "#7201a8"
            ],
            [
             0.3333333333333333,
             "#9c179e"
            ],
            [
             0.4444444444444444,
             "#bd3786"
            ],
            [
             0.5555555555555556,
             "#d8576b"
            ],
            [
             0.6666666666666666,
             "#ed7953"
            ],
            [
             0.7777777777777778,
             "#fb9f3a"
            ],
            [
             0.8888888888888888,
             "#fdca26"
            ],
            [
             1,
             "#f0f921"
            ]
           ]
          },
          "colorway": [
           "#636efa",
           "#EF553B",
           "#00cc96",
           "#ab63fa",
           "#FFA15A",
           "#19d3f3",
           "#FF6692",
           "#B6E880",
           "#FF97FF",
           "#FECB52"
          ],
          "font": {
           "color": "#2a3f5f"
          },
          "geo": {
           "bgcolor": "white",
           "lakecolor": "white",
           "landcolor": "#E5ECF6",
           "showlakes": true,
           "showland": true,
           "subunitcolor": "white"
          },
          "hoverlabel": {
           "align": "left"
          },
          "hovermode": "closest",
          "mapbox": {
           "style": "light"
          },
          "paper_bgcolor": "white",
          "plot_bgcolor": "#E5ECF6",
          "polar": {
           "angularaxis": {
            "gridcolor": "white",
            "linecolor": "white",
            "ticks": ""
           },
           "bgcolor": "#E5ECF6",
           "radialaxis": {
            "gridcolor": "white",
            "linecolor": "white",
            "ticks": ""
           }
          },
          "scene": {
           "xaxis": {
            "backgroundcolor": "#E5ECF6",
            "gridcolor": "white",
            "gridwidth": 2,
            "linecolor": "white",
            "showbackground": true,
            "ticks": "",
            "zerolinecolor": "white"
           },
           "yaxis": {
            "backgroundcolor": "#E5ECF6",
            "gridcolor": "white",
            "gridwidth": 2,
            "linecolor": "white",
            "showbackground": true,
            "ticks": "",
            "zerolinecolor": "white"
           },
           "zaxis": {
            "backgroundcolor": "#E5ECF6",
            "gridcolor": "white",
            "gridwidth": 2,
            "linecolor": "white",
            "showbackground": true,
            "ticks": "",
            "zerolinecolor": "white"
           }
          },
          "shapedefaults": {
           "line": {
            "color": "#2a3f5f"
           }
          },
          "ternary": {
           "aaxis": {
            "gridcolor": "white",
            "linecolor": "white",
            "ticks": ""
           },
           "baxis": {
            "gridcolor": "white",
            "linecolor": "white",
            "ticks": ""
           },
           "bgcolor": "#E5ECF6",
           "caxis": {
            "gridcolor": "white",
            "linecolor": "white",
            "ticks": ""
           }
          },
          "title": {
           "x": 0.05
          },
          "xaxis": {
           "automargin": true,
           "gridcolor": "white",
           "linecolor": "white",
           "ticks": "",
           "title": {
            "standoff": 15
           },
           "zerolinecolor": "white",
           "zerolinewidth": 2
          },
          "yaxis": {
           "automargin": true,
           "gridcolor": "white",
           "linecolor": "white",
           "ticks": "",
           "title": {
            "standoff": 15
           },
           "zerolinecolor": "white",
           "zerolinewidth": 2
          }
         }
        },
        "title": {
         "text": "Stock Attributes Over Time"
        },
        "updatemenus": [
         {
          "buttons": [
           {
            "args": [
             {
              "name": "open vs high",
              "y": [
               [
                213.35,
                202.8,
                213.45,
                224.65,
                236.45,
                262
               ],
               [
                222.25,
                224.1,
                213.45,
                224.65,
                236.45,
                262.05
               ]
              ]
             }
            ],
            "label": "open vs high",
            "method": "update"
           },
           {
            "args": [
             {
              "name": "open vs low",
              "y": [
               [
                213.35,
                202.8,
                213.45,
                224.65,
                236.45,
                262
               ],
               [
                207.55,
                202.8,
                213.45,
                224.65,
                236.45,
                248.9
               ]
              ]
             }
            ],
            "label": "open vs low",
            "method": "update"
           },
           {
            "args": [
             {
              "name": "open vs prev_close",
              "y": [
               [
                213.35,
                202.8,
                213.45,
                224.65,
                236.45,
                262
               ],
               [
                214.5,
                213.45,
                224.65,
                236.45,
                248.9,
                261.85
               ]
              ]
             }
            ],
            "label": "open vs prev_close",
            "method": "update"
           },
           {
            "args": [
             {
              "name": "open vs ltp",
              "y": [
               [
                213.35,
                202.8,
                213.45,
                224.65,
                236.45,
                262
               ],
               [
                210.1,
                221.6,
                213.45,
                224.65,
                236.45,
                248.9
               ]
              ]
             }
            ],
            "label": "open vs ltp",
            "method": "update"
           },
           {
            "args": [
             {
              "name": "open vs close",
              "y": [
               [
                213.35,
                202.8,
                213.45,
                224.65,
                236.45,
                262
               ],
               [
                211.15,
                214.5,
                213.45,
                224.65,
                236.45,
                248.9
               ]
              ]
             }
            ],
            "label": "open vs close",
            "method": "update"
           },
           {
            "args": [
             {
              "name": "open vs vwap",
              "y": [
               [
                213.35,
                202.8,
                213.45,
                224.65,
                236.45,
                262
               ],
               [
                216.13,
                208.11,
                213.45,
                224.65,
                236.45,
                253.78
               ]
              ]
             }
            ],
            "label": "open vs vwap",
            "method": "update"
           },
           {
            "args": [
             {
              "name": "open vs 52w_high",
              "y": [
               [
                213.35,
                202.8,
                213.45,
                224.65,
                236.45,
                262
               ],
               [
                262.05,
                262.05,
                262.05,
                262.05,
                262.05,
                262.05
               ]
              ]
             }
            ],
            "label": "open vs 52w_high",
            "method": "update"
           },
           {
            "args": [
             {
              "name": "open vs 52w_low",
              "y": [
               [
                213.35,
                202.8,
                213.45,
                224.65,
                236.45,
                262
               ],
               [
                202.8,
                202.8,
                213.45,
                224.65,
                236.45,
                248.9
               ]
              ]
             }
            ],
            "label": "open vs 52w_low",
            "method": "update"
           },
           {
            "args": [
             {
              "name": "open vs volume",
              "y": [
               [
                213.35,
                202.8,
                213.45,
                224.65,
                236.45,
                262
               ],
               [
                87522126,
                281040185,
                27673356,
                4289046,
                7281398,
                74715306
               ]
              ]
             }
            ],
            "label": "open vs volume",
            "method": "update"
           },
           {
            "args": [
             {
              "name": "open vs value",
              "y": [
               [
                213.35,
                202.8,
                213.45,
                224.65,
                236.45,
                262
               ],
               [
                18916412848.5,
                58486553466.05,
                5906877838.2,
                963534183.9,
                1721686557.1,
                18961288026.65
               ]
              ]
             }
            ],
            "label": "open vs value",
            "method": "update"
           },
           {
            "args": [
             {
              "name": "open vs num_trades",
              "y": [
               [
                213.35,
                202.8,
                213.45,
                224.65,
                236.45,
                262
               ],
               [
                614341,
                668251,
                85618,
                70571,
                88607,
                347015
               ]
              ]
             }
            ],
            "label": "open vs num_trades",
            "method": "update"
           },
           {
            "args": [
             {
              "name": "high vs low",
              "y": [
               [
                222.25,
                224.1,
                213.45,
                224.65,
                236.45,
                262.05
               ],
               [
                207.55,
                202.8,
                213.45,
                224.65,
                236.45,
                248.9
               ]
              ]
             }
            ],
            "label": "high vs low",
            "method": "update"
           },
           {
            "args": [
             {
              "name": "high vs prev_close",
              "y": [
               [
                222.25,
                224.1,
                213.45,
                224.65,
                236.45,
                262.05
               ],
               [
                214.5,
                213.45,
                224.65,
                236.45,
                248.9,
                261.85
               ]
              ]
             }
            ],
            "label": "high vs prev_close",
            "method": "update"
           },
           {
            "args": [
             {
              "name": "high vs ltp",
              "y": [
               [
                222.25,
                224.1,
                213.45,
                224.65,
                236.45,
                262.05
               ],
               [
                210.1,
                221.6,
                213.45,
                224.65,
                236.45,
                248.9
               ]
              ]
             }
            ],
            "label": "high vs ltp",
            "method": "update"
           },
           {
            "args": [
             {
              "name": "high vs close",
              "y": [
               [
                222.25,
                224.1,
                213.45,
                224.65,
                236.45,
                262.05
               ],
               [
                211.15,
                214.5,
                213.45,
                224.65,
                236.45,
                248.9
               ]
              ]
             }
            ],
            "label": "high vs close",
            "method": "update"
           },
           {
            "args": [
             {
              "name": "high vs vwap",
              "y": [
               [
                222.25,
                224.1,
                213.45,
                224.65,
                236.45,
                262.05
               ],
               [
                216.13,
                208.11,
                213.45,
                224.65,
                236.45,
                253.78
               ]
              ]
             }
            ],
            "label": "high vs vwap",
            "method": "update"
           },
           {
            "args": [
             {
              "name": "high vs 52w_high",
              "y": [
               [
                222.25,
                224.1,
                213.45,
                224.65,
                236.45,
                262.05
               ],
               [
                262.05,
                262.05,
                262.05,
                262.05,
                262.05,
                262.05
               ]
              ]
             }
            ],
            "label": "high vs 52w_high",
            "method": "update"
           },
           {
            "args": [
             {
              "name": "high vs 52w_low",
              "y": [
               [
                222.25,
                224.1,
                213.45,
                224.65,
                236.45,
                262.05
               ],
               [
                202.8,
                202.8,
                213.45,
                224.65,
                236.45,
                248.9
               ]
              ]
             }
            ],
            "label": "high vs 52w_low",
            "method": "update"
           },
           {
            "args": [
             {
              "name": "high vs volume",
              "y": [
               [
                222.25,
                224.1,
                213.45,
                224.65,
                236.45,
                262.05
               ],
               [
                87522126,
                281040185,
                27673356,
                4289046,
                7281398,
                74715306
               ]
              ]
             }
            ],
            "label": "high vs volume",
            "method": "update"
           },
           {
            "args": [
             {
              "name": "high vs value",
              "y": [
               [
                222.25,
                224.1,
                213.45,
                224.65,
                236.45,
                262.05
               ],
               [
                18916412848.5,
                58486553466.05,
                5906877838.2,
                963534183.9,
                1721686557.1,
                18961288026.65
               ]
              ]
             }
            ],
            "label": "high vs value",
            "method": "update"
           },
           {
            "args": [
             {
              "name": "high vs num_trades",
              "y": [
               [
                222.25,
                224.1,
                213.45,
                224.65,
                236.45,
                262.05
               ],
               [
                614341,
                668251,
                85618,
                70571,
                88607,
                347015
               ]
              ]
             }
            ],
            "label": "high vs num_trades",
            "method": "update"
           },
           {
            "args": [
             {
              "name": "low vs prev_close",
              "y": [
               [
                207.55,
                202.8,
                213.45,
                224.65,
                236.45,
                248.9
               ],
               [
                214.5,
                213.45,
                224.65,
                236.45,
                248.9,
                261.85
               ]
              ]
             }
            ],
            "label": "low vs prev_close",
            "method": "update"
           },
           {
            "args": [
             {
              "name": "low vs ltp",
              "y": [
               [
                207.55,
                202.8,
                213.45,
                224.65,
                236.45,
                248.9
               ],
               [
                210.1,
                221.6,
                213.45,
                224.65,
                236.45,
                248.9
               ]
              ]
             }
            ],
            "label": "low vs ltp",
            "method": "update"
           },
           {
            "args": [
             {
              "name": "low vs close",
              "y": [
               [
                207.55,
                202.8,
                213.45,
                224.65,
                236.45,
                248.9
               ],
               [
                211.15,
                214.5,
                213.45,
                224.65,
                236.45,
                248.9
               ]
              ]
             }
            ],
            "label": "low vs close",
            "method": "update"
           },
           {
            "args": [
             {
              "name": "low vs vwap",
              "y": [
               [
                207.55,
                202.8,
                213.45,
                224.65,
                236.45,
                248.9
               ],
               [
                216.13,
                208.11,
                213.45,
                224.65,
                236.45,
                253.78
               ]
              ]
             }
            ],
            "label": "low vs vwap",
            "method": "update"
           },
           {
            "args": [
             {
              "name": "low vs 52w_high",
              "y": [
               [
                207.55,
                202.8,
                213.45,
                224.65,
                236.45,
                248.9
               ],
               [
                262.05,
                262.05,
                262.05,
                262.05,
                262.05,
                262.05
               ]
              ]
             }
            ],
            "label": "low vs 52w_high",
            "method": "update"
           },
           {
            "args": [
             {
              "name": "low vs 52w_low",
              "y": [
               [
                207.55,
                202.8,
                213.45,
                224.65,
                236.45,
                248.9
               ],
               [
                202.8,
                202.8,
                213.45,
                224.65,
                236.45,
                248.9
               ]
              ]
             }
            ],
            "label": "low vs 52w_low",
            "method": "update"
           },
           {
            "args": [
             {
              "name": "low vs volume",
              "y": [
               [
                207.55,
                202.8,
                213.45,
                224.65,
                236.45,
                248.9
               ],
               [
                87522126,
                281040185,
                27673356,
                4289046,
                7281398,
                74715306
               ]
              ]
             }
            ],
            "label": "low vs volume",
            "method": "update"
           },
           {
            "args": [
             {
              "name": "low vs value",
              "y": [
               [
                207.55,
                202.8,
                213.45,
                224.65,
                236.45,
                248.9
               ],
               [
                18916412848.5,
                58486553466.05,
                5906877838.2,
                963534183.9,
                1721686557.1,
                18961288026.65
               ]
              ]
             }
            ],
            "label": "low vs value",
            "method": "update"
           },
           {
            "args": [
             {
              "name": "low vs num_trades",
              "y": [
               [
                207.55,
                202.8,
                213.45,
                224.65,
                236.45,
                248.9
               ],
               [
                614341,
                668251,
                85618,
                70571,
                88607,
                347015
               ]
              ]
             }
            ],
            "label": "low vs num_trades",
            "method": "update"
           },
           {
            "args": [
             {
              "name": "prev_close vs ltp",
              "y": [
               [
                214.5,
                213.45,
                224.65,
                236.45,
                248.9,
                261.85
               ],
               [
                210.1,
                221.6,
                213.45,
                224.65,
                236.45,
                248.9
               ]
              ]
             }
            ],
            "label": "prev_close vs ltp",
            "method": "update"
           },
           {
            "args": [
             {
              "name": "prev_close vs close",
              "y": [
               [
                214.5,
                213.45,
                224.65,
                236.45,
                248.9,
                261.85
               ],
               [
                211.15,
                214.5,
                213.45,
                224.65,
                236.45,
                248.9
               ]
              ]
             }
            ],
            "label": "prev_close vs close",
            "method": "update"
           },
           {
            "args": [
             {
              "name": "prev_close vs vwap",
              "y": [
               [
                214.5,
                213.45,
                224.65,
                236.45,
                248.9,
                261.85
               ],
               [
                216.13,
                208.11,
                213.45,
                224.65,
                236.45,
                253.78
               ]
              ]
             }
            ],
            "label": "prev_close vs vwap",
            "method": "update"
           },
           {
            "args": [
             {
              "name": "prev_close vs 52w_high",
              "y": [
               [
                214.5,
                213.45,
                224.65,
                236.45,
                248.9,
                261.85
               ],
               [
                262.05,
                262.05,
                262.05,
                262.05,
                262.05,
                262.05
               ]
              ]
             }
            ],
            "label": "prev_close vs 52w_high",
            "method": "update"
           },
           {
            "args": [
             {
              "name": "prev_close vs 52w_low",
              "y": [
               [
                214.5,
                213.45,
                224.65,
                236.45,
                248.9,
                261.85
               ],
               [
                202.8,
                202.8,
                213.45,
                224.65,
                236.45,
                248.9
               ]
              ]
             }
            ],
            "label": "prev_close vs 52w_low",
            "method": "update"
           },
           {
            "args": [
             {
              "name": "prev_close vs volume",
              "y": [
               [
                214.5,
                213.45,
                224.65,
                236.45,
                248.9,
                261.85
               ],
               [
                87522126,
                281040185,
                27673356,
                4289046,
                7281398,
                74715306
               ]
              ]
             }
            ],
            "label": "prev_close vs volume",
            "method": "update"
           },
           {
            "args": [
             {
              "name": "prev_close vs value",
              "y": [
               [
                214.5,
                213.45,
                224.65,
                236.45,
                248.9,
                261.85
               ],
               [
                18916412848.5,
                58486553466.05,
                5906877838.2,
                963534183.9,
                1721686557.1,
                18961288026.65
               ]
              ]
             }
            ],
            "label": "prev_close vs value",
            "method": "update"
           },
           {
            "args": [
             {
              "name": "prev_close vs num_trades",
              "y": [
               [
                214.5,
                213.45,
                224.65,
                236.45,
                248.9,
                261.85
               ],
               [
                614341,
                668251,
                85618,
                70571,
                88607,
                347015
               ]
              ]
             }
            ],
            "label": "prev_close vs num_trades",
            "method": "update"
           },
           {
            "args": [
             {
              "name": "ltp vs close",
              "y": [
               [
                210.1,
                221.6,
                213.45,
                224.65,
                236.45,
                248.9
               ],
               [
                211.15,
                214.5,
                213.45,
                224.65,
                236.45,
                248.9
               ]
              ]
             }
            ],
            "label": "ltp vs close",
            "method": "update"
           },
           {
            "args": [
             {
              "name": "ltp vs vwap",
              "y": [
               [
                210.1,
                221.6,
                213.45,
                224.65,
                236.45,
                248.9
               ],
               [
                216.13,
                208.11,
                213.45,
                224.65,
                236.45,
                253.78
               ]
              ]
             }
            ],
            "label": "ltp vs vwap",
            "method": "update"
           },
           {
            "args": [
             {
              "name": "ltp vs 52w_high",
              "y": [
               [
                210.1,
                221.6,
                213.45,
                224.65,
                236.45,
                248.9
               ],
               [
                262.05,
                262.05,
                262.05,
                262.05,
                262.05,
                262.05
               ]
              ]
             }
            ],
            "label": "ltp vs 52w_high",
            "method": "update"
           },
           {
            "args": [
             {
              "name": "ltp vs 52w_low",
              "y": [
               [
                210.1,
                221.6,
                213.45,
                224.65,
                236.45,
                248.9
               ],
               [
                202.8,
                202.8,
                213.45,
                224.65,
                236.45,
                248.9
               ]
              ]
             }
            ],
            "label": "ltp vs 52w_low",
            "method": "update"
           },
           {
            "args": [
             {
              "name": "ltp vs volume",
              "y": [
               [
                210.1,
                221.6,
                213.45,
                224.65,
                236.45,
                248.9
               ],
               [
                87522126,
                281040185,
                27673356,
                4289046,
                7281398,
                74715306
               ]
              ]
             }
            ],
            "label": "ltp vs volume",
            "method": "update"
           },
           {
            "args": [
             {
              "name": "ltp vs value",
              "y": [
               [
                210.1,
                221.6,
                213.45,
                224.65,
                236.45,
                248.9
               ],
               [
                18916412848.5,
                58486553466.05,
                5906877838.2,
                963534183.9,
                1721686557.1,
                18961288026.65
               ]
              ]
             }
            ],
            "label": "ltp vs value",
            "method": "update"
           },
           {
            "args": [
             {
              "name": "ltp vs num_trades",
              "y": [
               [
                210.1,
                221.6,
                213.45,
                224.65,
                236.45,
                248.9
               ],
               [
                614341,
                668251,
                85618,
                70571,
                88607,
                347015
               ]
              ]
             }
            ],
            "label": "ltp vs num_trades",
            "method": "update"
           },
           {
            "args": [
             {
              "name": "close vs vwap",
              "y": [
               [
                211.15,
                214.5,
                213.45,
                224.65,
                236.45,
                248.9
               ],
               [
                216.13,
                208.11,
                213.45,
                224.65,
                236.45,
                253.78
               ]
              ]
             }
            ],
            "label": "close vs vwap",
            "method": "update"
           },
           {
            "args": [
             {
              "name": "close vs 52w_high",
              "y": [
               [
                211.15,
                214.5,
                213.45,
                224.65,
                236.45,
                248.9
               ],
               [
                262.05,
                262.05,
                262.05,
                262.05,
                262.05,
                262.05
               ]
              ]
             }
            ],
            "label": "close vs 52w_high",
            "method": "update"
           },
           {
            "args": [
             {
              "name": "close vs 52w_low",
              "y": [
               [
                211.15,
                214.5,
                213.45,
                224.65,
                236.45,
                248.9
               ],
               [
                202.8,
                202.8,
                213.45,
                224.65,
                236.45,
                248.9
               ]
              ]
             }
            ],
            "label": "close vs 52w_low",
            "method": "update"
           },
           {
            "args": [
             {
              "name": "close vs volume",
              "y": [
               [
                211.15,
                214.5,
                213.45,
                224.65,
                236.45,
                248.9
               ],
               [
                87522126,
                281040185,
                27673356,
                4289046,
                7281398,
                74715306
               ]
              ]
             }
            ],
            "label": "close vs volume",
            "method": "update"
           },
           {
            "args": [
             {
              "name": "close vs value",
              "y": [
               [
                211.15,
                214.5,
                213.45,
                224.65,
                236.45,
                248.9
               ],
               [
                18916412848.5,
                58486553466.05,
                5906877838.2,
                963534183.9,
                1721686557.1,
                18961288026.65
               ]
              ]
             }
            ],
            "label": "close vs value",
            "method": "update"
           },
           {
            "args": [
             {
              "name": "close vs num_trades",
              "y": [
               [
                211.15,
                214.5,
                213.45,
                224.65,
                236.45,
                248.9
               ],
               [
                614341,
                668251,
                85618,
                70571,
                88607,
                347015
               ]
              ]
             }
            ],
            "label": "close vs num_trades",
            "method": "update"
           },
           {
            "args": [
             {
              "name": "vwap vs 52w_high",
              "y": [
               [
                216.13,
                208.11,
                213.45,
                224.65,
                236.45,
                253.78
               ],
               [
                262.05,
                262.05,
                262.05,
                262.05,
                262.05,
                262.05
               ]
              ]
             }
            ],
            "label": "vwap vs 52w_high",
            "method": "update"
           },
           {
            "args": [
             {
              "name": "vwap vs 52w_low",
              "y": [
               [
                216.13,
                208.11,
                213.45,
                224.65,
                236.45,
                253.78
               ],
               [
                202.8,
                202.8,
                213.45,
                224.65,
                236.45,
                248.9
               ]
              ]
             }
            ],
            "label": "vwap vs 52w_low",
            "method": "update"
           },
           {
            "args": [
             {
              "name": "vwap vs volume",
              "y": [
               [
                216.13,
                208.11,
                213.45,
                224.65,
                236.45,
                253.78
               ],
               [
                87522126,
                281040185,
                27673356,
                4289046,
                7281398,
                74715306
               ]
              ]
             }
            ],
            "label": "vwap vs volume",
            "method": "update"
           },
           {
            "args": [
             {
              "name": "vwap vs value",
              "y": [
               [
                216.13,
                208.11,
                213.45,
                224.65,
                236.45,
                253.78
               ],
               [
                18916412848.5,
                58486553466.05,
                5906877838.2,
                963534183.9,
                1721686557.1,
                18961288026.65
               ]
              ]
             }
            ],
            "label": "vwap vs value",
            "method": "update"
           },
           {
            "args": [
             {
              "name": "vwap vs num_trades",
              "y": [
               [
                216.13,
                208.11,
                213.45,
                224.65,
                236.45,
                253.78
               ],
               [
                614341,
                668251,
                85618,
                70571,
                88607,
                347015
               ]
              ]
             }
            ],
            "label": "vwap vs num_trades",
            "method": "update"
           },
           {
            "args": [
             {
              "name": "52w_high vs 52w_low",
              "y": [
               [
                262.05,
                262.05,
                262.05,
                262.05,
                262.05,
                262.05
               ],
               [
                202.8,
                202.8,
                213.45,
                224.65,
                236.45,
                248.9
               ]
              ]
             }
            ],
            "label": "52w_high vs 52w_low",
            "method": "update"
           },
           {
            "args": [
             {
              "name": "52w_high vs volume",
              "y": [
               [
                262.05,
                262.05,
                262.05,
                262.05,
                262.05,
                262.05
               ],
               [
                87522126,
                281040185,
                27673356,
                4289046,
                7281398,
                74715306
               ]
              ]
             }
            ],
            "label": "52w_high vs volume",
            "method": "update"
           },
           {
            "args": [
             {
              "name": "52w_high vs value",
              "y": [
               [
                262.05,
                262.05,
                262.05,
                262.05,
                262.05,
                262.05
               ],
               [
                18916412848.5,
                58486553466.05,
                5906877838.2,
                963534183.9,
                1721686557.1,
                18961288026.65
               ]
              ]
             }
            ],
            "label": "52w_high vs value",
            "method": "update"
           },
           {
            "args": [
             {
              "name": "52w_high vs num_trades",
              "y": [
               [
                262.05,
                262.05,
                262.05,
                262.05,
                262.05,
                262.05
               ],
               [
                614341,
                668251,
                85618,
                70571,
                88607,
                347015
               ]
              ]
             }
            ],
            "label": "52w_high vs num_trades",
            "method": "update"
           },
           {
            "args": [
             {
              "name": "52w_low vs volume",
              "y": [
               [
                202.8,
                202.8,
                213.45,
                224.65,
                236.45,
                248.9
               ],
               [
                87522126,
                281040185,
                27673356,
                4289046,
                7281398,
                74715306
               ]
              ]
             }
            ],
            "label": "52w_low vs volume",
            "method": "update"
           },
           {
            "args": [
             {
              "name": "52w_low vs value",
              "y": [
               [
                202.8,
                202.8,
                213.45,
                224.65,
                236.45,
                248.9
               ],
               [
                18916412848.5,
                58486553466.05,
                5906877838.2,
                963534183.9,
                1721686557.1,
                18961288026.65
               ]
              ]
             }
            ],
            "label": "52w_low vs value",
            "method": "update"
           },
           {
            "args": [
             {
              "name": "52w_low vs num_trades",
              "y": [
               [
                202.8,
                202.8,
                213.45,
                224.65,
                236.45,
                248.9
               ],
               [
                614341,
                668251,
                85618,
                70571,
                88607,
                347015
               ]
              ]
             }
            ],
            "label": "52w_low vs num_trades",
            "method": "update"
           },
           {
            "args": [
             {
              "name": "volume vs value",
              "y": [
               [
                87522126,
                281040185,
                27673356,
                4289046,
                7281398,
                74715306
               ],
               [
                18916412848.5,
                58486553466.05,
                5906877838.2,
                963534183.9,
                1721686557.1,
                18961288026.65
               ]
              ]
             }
            ],
            "label": "volume vs value",
            "method": "update"
           },
           {
            "args": [
             {
              "name": "volume vs num_trades",
              "y": [
               [
                87522126,
                281040185,
                27673356,
                4289046,
                7281398,
                74715306
               ],
               [
                614341,
                668251,
                85618,
                70571,
                88607,
                347015
               ]
              ]
             }
            ],
            "label": "volume vs num_trades",
            "method": "update"
           },
           {
            "args": [
             {
              "name": "value vs num_trades",
              "y": [
               [
                18916412848.5,
                58486553466.05,
                5906877838.2,
                963534183.9,
                1721686557.1,
                18961288026.65
               ],
               [
                614341,
                668251,
                85618,
                70571,
                88607,
                347015
               ]
              ]
             }
            ],
            "label": "value vs num_trades",
            "method": "update"
           }
          ],
          "direction": "down",
          "showactive": true,
          "x": 0.15,
          "xanchor": "left",
          "y": 1.15,
          "yanchor": "top"
         }
        ],
        "xaxis": {
         "title": {
          "text": "Date"
         }
        },
        "yaxis": {
         "title": {
          "text": "Value"
         }
        }
       }
      }
     },
     "metadata": {},
     "output_type": "display_data"
    }
   ],
   "source": [
    "# Create layout with dropdown menu\n",
    "layout = go.Layout(\n",
    "    title='Stock Attributes Over Time',\n",
    "    xaxis=dict(title='Date'),\n",
    "    yaxis=dict(title='Value'),\n",
    "    updatemenus=[\n",
    "        {\n",
    "            'buttons': [\n",
    "                {'method': 'update', 'label': f'{col1} vs {col2}', 'args': [{'y': [share_data[col1], share_data[col2]], 'name': f'{col1} vs {col2}'}]}\n",
    "                for i, col1 in enumerate(share_data.columns[2:])\n",
    "                for col2 in share_data.columns[i+3:]\n",
    "            ],\n",
    "            'direction': 'down',\n",
    "            'showactive': True,\n",
    "            'x': 0.15,\n",
    "            'xanchor': 'left',\n",
    "            'y': 1.15,\n",
    "            'yanchor': 'top'\n",
    "        }\n",
    "    ]\n",
    ")\n",
    "\n",
    "# Create figure with Plotly graph objects\n",
    "fig = go.Figure(layout=layout)\n",
    "\n",
    "# Add initial plot data using 'high' and 'low' values\n",
    "for col1 in share_data.columns[2:]:\n",
    "    for col2 in share_data.columns[3:]:\n",
    "        fig.add_trace(go.Scatter(x=share_data['date'], y=share_data[col1], mode='lines',showlegend=False ))\n",
    "\n",
    "# Show the interactive plot\n",
    "fig.show()"
   ]
  },
  {
   "cell_type": "code",
   "execution_count": 33,
   "metadata": {},
   "outputs": [
    {
     "name": "stdout",
     "output_type": "stream",
     "text": [
      "        date series    open    high     low  prev_close     ltp   close  \\\n",
      "0 2023-08-28     BE  213.35  222.25  207.55      214.50  210.10  211.15   \n",
      "1 2023-08-25     BE  202.80  224.10  202.80      213.45  221.60  214.50   \n",
      "2 2023-08-24     BE  213.45  213.45  213.45      224.65  213.45  213.45   \n",
      "3 2023-08-23     BE  224.65  224.65  224.65      236.45  224.65  224.65   \n",
      "4 2023-08-22     BE  236.45  236.45  236.45      248.90  236.45  236.45   \n",
      "5 2023-08-21     BE  262.00  262.05  248.90      261.85  248.90  248.90   \n",
      "\n",
      "     vwap  52w_high  52w_low       volume         value  num_trades  \n",
      "0  216.13    262.05   202.80   87522126.0  1.891641e+10    614341.0  \n",
      "1  208.11    262.05   202.80  281040185.0  5.848655e+10    668251.0  \n",
      "2  213.45    262.05   213.45   27673356.0  5.906878e+09     85618.0  \n",
      "3  224.65    262.05   224.65    4289046.0  9.635342e+08     70571.0  \n",
      "4  236.45    262.05   236.45    7281398.0  1.721687e+09     88607.0  \n",
      "5  253.78    262.05   248.90   74715306.0  1.896129e+10    347015.0  \n"
     ]
    },
    {
     "data": {
      "image/png": "[encoded data removed]",
      "text/plain": [
       "<Figure size 640x480 with 1 Axes>"
      ]
     },
     "metadata": {},
     "output_type": "display_data"
    }
   ],
   "source": [
    "\n",
    "# Plot distribution of values in 'high' column\n",
    "share_data['high'].plot(kind='kde')\n",
    "print(share_data)\n"
   ]
  },
  {
   "cell_type": "code",
   "execution_count": 34,
   "metadata": {},
   "outputs": [
    {
     "name": "stdout",
     "output_type": "stream",
     "text": [
      "        date series    open    high     low  prev_close     ltp   close  \\\n",
      "0 2023-08-28     BE  213.35  222.25  207.55      214.50  210.10  211.15   \n",
      "1 2023-08-25     BE  202.80  224.10  202.80      213.45  221.60  214.50   \n",
      "2 2023-08-24     BE  213.45  213.45  213.45      224.65  213.45  213.45   \n",
      "3 2023-08-23     BE  224.65  224.65  224.65      236.45  224.65  224.65   \n",
      "4 2023-08-22     BE  236.45  236.45  236.45      248.90  236.45  236.45   \n",
      "5 2023-08-21     BE  262.00  262.05  248.90      261.85  248.90  248.90   \n",
      "\n",
      "     vwap  52w_high  52w_low       volume         value  num_trades  \n",
      "0  216.13    262.05   202.80   87522126.0  1.891641e+10    614341.0  \n",
      "1  208.11    262.05   202.80  281040185.0  5.848655e+10    668251.0  \n",
      "2  213.45    262.05   213.45   27673356.0  5.906878e+09     85618.0  \n",
      "3  224.65    262.05   224.65    4289046.0  9.635342e+08     70571.0  \n",
      "4  236.45    262.05   236.45    7281398.0  1.721687e+09     88607.0  \n",
      "5  253.78    262.05   248.90   74715306.0  1.896129e+10    347015.0  \n"
     ]
    },
    {
     "data": {
      "image/png": "[encoded data removed]",
      "text/plain": [
       "<Figure size 640x480 with 1 Axes>"
      ]
     },
     "metadata": {},
     "output_type": "display_data"
    }
   ],
   "source": [
    "# Plot distribution of values in 'low' column\n",
    "share_data['low'].plot(kind='kde')\n",
    "print(share_data)"
   ]
  },
  {
   "cell_type": "code",
   "execution_count": 35,
   "metadata": {},
   "outputs": [
    {
     "name": "stdout",
     "output_type": "stream",
     "text": [
      "        date series    open    high     low  prev_close     ltp   close  \\\n",
      "0 2023-08-28     BE  213.35  222.25  207.55      214.50  210.10  211.15   \n",
      "1 2023-08-25     BE  202.80  224.10  202.80      213.45  221.60  214.50   \n",
      "2 2023-08-24     BE  213.45  213.45  213.45      224.65  213.45  213.45   \n",
      "3 2023-08-23     BE  224.65  224.65  224.65      236.45  224.65  224.65   \n",
      "4 2023-08-22     BE  236.45  236.45  236.45      248.90  236.45  236.45   \n",
      "5 2023-08-21     BE  262.00  262.05  248.90      261.85  248.90  248.90   \n",
      "\n",
      "     vwap  52w_high  52w_low       volume         value  num_trades  \n",
      "0  216.13    262.05   202.80   87522126.0  1.891641e+10    614341.0  \n",
      "1  208.11    262.05   202.80  281040185.0  5.848655e+10    668251.0  \n",
      "2  213.45    262.05   213.45   27673356.0  5.906878e+09     85618.0  \n",
      "3  224.65    262.05   224.65    4289046.0  9.635342e+08     70571.0  \n",
      "4  236.45    262.05   236.45    7281398.0  1.721687e+09     88607.0  \n",
      "5  253.78    262.05   248.90   74715306.0  1.896129e+10    347015.0  \n"
     ]
    },
    {
     "data": {
      "image/png": "[encoded data removed]",
      "text/plain": [
       "<Figure size 640x480 with 1 Axes>"
      ]
     },
     "metadata": {},
     "output_type": "display_data"
    }
   ],
   "source": [
    "# Plot distribution of values in 'low' column\n",
    "share_data['open'].plot(kind='kde')\n",
    "print(share_data)"
   ]
  },
  {
   "cell_type": "code",
   "execution_count": 36,
   "metadata": {},
   "outputs": [
    {
     "data": {
      "image/png": "[encoded data removed]",
      "text/plain": [
       "<Figure size 1000x600 with 1 Axes>"
      ]
     },
     "metadata": {},
     "output_type": "display_data"
    }
   ],
   "source": [
    "# # Create a box plot before removing outliers\n",
    "# plt.figure(figsize=(10, 6))\n",
    "# sns.boxplot(data=share_data, x='high')\n",
    "# plt.title('Box Plot of High Prices (Before Removing Outliers)')\n",
    "# plt.xlabel('High Price')\n",
    "# plt.show()\n",
    "\n",
    "import matplotlib.pyplot as plt\n",
    "\n",
    "# Create a box plot before removing outliers\n",
    "plt.figure(figsize=(10, 6))\n",
    "sns.boxplot(data=share_data, x='high')\n",
    "plt.title('Box Plot of High Prices (Before Removing Outliers)')\n",
    "plt.xlabel('High Price')\n",
    "plt.show()"
   ]
  },
  {
   "cell_type": "code",
   "execution_count": 37,
   "metadata": {},
   "outputs": [
    {
     "name": "stdout",
     "output_type": "stream",
     "text": [
      "Outliers:\n",
      "        date series   open    high    low  prev_close    ltp  close    vwap  \\\n",
      "5 2023-08-21     BE  262.0  262.05  248.9      261.85  248.9  248.9  253.78   \n",
      "\n",
      "   52w_high  52w_low      volume         value  num_trades  \n",
      "5    262.05    248.9  74715306.0  1.896129e+10    347015.0  \n"
     ]
    }
   ],
   "source": [
    "# Calculate the IQR (Interquartile Range) for the 'high' column\n",
    "Q1 = share_data['high'].quantile(0.25)\n",
    "Q3 = share_data['high'].quantile(0.75)\n",
    "IQR = Q3 - Q1\n",
    "\n",
    "# Define the upper and lower bounds to identify outliers\n",
    "lower_bound = Q1 - 1.5 * IQR\n",
    "upper_bound = Q3 + 1.5 * IQR\n",
    "\n",
    "# Identify and print outliers\n",
    "outliers = share_data[(share_data['high'] < lower_bound) | (share_data['high'] > upper_bound)]\n",
    "print(\"Outliers:\")\n",
    "print(outliers)\n",
    "\n",
    "# Remove outliers\n",
    "share_data = share_data[(share_data['high'] >= lower_bound) & (share_data['high'] <= upper_bound)]"
   ]
  },
  {
   "cell_type": "code",
   "execution_count": 38,
   "metadata": {},
   "outputs": [
    {
     "data": {
      "image/png": "[encoded data removed]",
      "text/plain": [
       "<Figure size 1000x600 with 1 Axes>"
      ]
     },
     "metadata": {},
     "output_type": "display_data"
    }
   ],
   "source": [
    "# Create a box plot after removing outliers\n",
    "plt.figure(figsize=(10, 6))\n",
    "sns.boxplot(data=share_data, x='high')\n",
    "plt.title('Box Plot of High Prices (After Removing Outliers)')\n",
    "plt.xlabel('High Price')\n",
    "plt.show()"
   ]
  },
  {
   "cell_type": "code",
   "execution_count": 39,
   "metadata": {},
   "outputs": [
    {
     "name": "stderr",
     "output_type": "stream",
     "text": [
      "/var/folders/m3/04l7c9kj7734jvsqqbk38y48hc0kcx/T/ipykernel_20161/1045124226.py:2: FutureWarning:\n",
      "\n",
      "The default value of numeric_only in DataFrame.corr is deprecated. In a future version, it will default to False. Select only valid columns or specify the value of numeric_only to silence this warning.\n",
      "\n"
     ]
    },
    {
     "data": {
      "image/png": "[encoded data removed]",
      "text/plain": [
       "<Figure size 1000x800 with 2 Axes>"
      ]
     },
     "metadata": {},
     "output_type": "display_data"
    }
   ],
   "source": [
    "# Calculate correlations between numeric columns\n",
    "correlation_matrix = share_data.corr()\n",
    "\n",
    "# Visualize the correlation matrix using a heatmap\n",
    "plt.figure(figsize=(10, 8))\n",
    "sns.heatmap(data=correlation_matrix, annot=True, cmap='coolwarm', center=0)\n",
    "plt.title('Correlation Heatmap')\n",
    "plt.show()"
   ]
  },
  {
   "cell_type": "code",
   "execution_count": 40,
   "metadata": {},
   "outputs": [],
   "source": [
    "from sklearn.preprocessing import StandardScaler\n",
    "from sklearn.decomposition import PCA"
   ]
  },
  {
   "cell_type": "markdown",
   "metadata": {},
   "source": [
    "Applying Principal component analysis"
   ]
  },
  {
   "cell_type": "code",
   "execution_count": 41,
   "metadata": {},
   "outputs": [],
   "source": [
    "share_data.rename(columns=column_name_mapping, inplace=True)"
   ]
  },
  {
   "cell_type": "code",
   "execution_count": 42,
   "metadata": {},
   "outputs": [
    {
     "data": {
      "text/html": [
       "<div>\n",
       "<style scoped>\n",
       "    .dataframe tbody tr th:only-of-type {\n",
       "        vertical-align: middle;\n",
       "    }\n",
       "\n",
       "    .dataframe tbody tr th {\n",
       "        vertical-align: top;\n",
       "    }\n",
       "\n",
       "    .dataframe thead th {\n",
       "        text-align: right;\n",
       "    }\n",
       "</style>\n",
       "<table border=\"1\" class=\"dataframe\">\n",
       "  <thead>\n",
       "    <tr style=\"text-align: right;\">\n",
       "      <th></th>\n",
       "      <th>open</th>\n",
       "      <th>high</th>\n",
       "      <th>low</th>\n",
       "      <th>prev_close</th>\n",
       "      <th>ltp</th>\n",
       "      <th>close</th>\n",
       "      <th>vwap</th>\n",
       "      <th>52w_high</th>\n",
       "      <th>52w_low</th>\n",
       "      <th>volume</th>\n",
       "      <th>value</th>\n",
       "      <th>num_trades</th>\n",
       "    </tr>\n",
       "  </thead>\n",
       "  <tbody>\n",
       "    <tr>\n",
       "      <th>0</th>\n",
       "      <td>213.35</td>\n",
       "      <td>222.25</td>\n",
       "      <td>207.55</td>\n",
       "      <td>214.50</td>\n",
       "      <td>210.10</td>\n",
       "      <td>211.15</td>\n",
       "      <td>216.13</td>\n",
       "      <td>262.05</td>\n",
       "      <td>202.80</td>\n",
       "      <td>87522126.0</td>\n",
       "      <td>1.891641e+10</td>\n",
       "      <td>614341.0</td>\n",
       "    </tr>\n",
       "    <tr>\n",
       "      <th>1</th>\n",
       "      <td>202.80</td>\n",
       "      <td>224.10</td>\n",
       "      <td>202.80</td>\n",
       "      <td>213.45</td>\n",
       "      <td>221.60</td>\n",
       "      <td>214.50</td>\n",
       "      <td>208.11</td>\n",
       "      <td>262.05</td>\n",
       "      <td>202.80</td>\n",
       "      <td>281040185.0</td>\n",
       "      <td>5.848655e+10</td>\n",
       "      <td>668251.0</td>\n",
       "    </tr>\n",
       "    <tr>\n",
       "      <th>2</th>\n",
       "      <td>213.45</td>\n",
       "      <td>213.45</td>\n",
       "      <td>213.45</td>\n",
       "      <td>224.65</td>\n",
       "      <td>213.45</td>\n",
       "      <td>213.45</td>\n",
       "      <td>213.45</td>\n",
       "      <td>262.05</td>\n",
       "      <td>213.45</td>\n",
       "      <td>27673356.0</td>\n",
       "      <td>5.906878e+09</td>\n",
       "      <td>85618.0</td>\n",
       "    </tr>\n",
       "    <tr>\n",
       "      <th>3</th>\n",
       "      <td>224.65</td>\n",
       "      <td>224.65</td>\n",
       "      <td>224.65</td>\n",
       "      <td>236.45</td>\n",
       "      <td>224.65</td>\n",
       "      <td>224.65</td>\n",
       "      <td>224.65</td>\n",
       "      <td>262.05</td>\n",
       "      <td>224.65</td>\n",
       "      <td>4289046.0</td>\n",
       "      <td>9.635342e+08</td>\n",
       "      <td>70571.0</td>\n",
       "    </tr>\n",
       "    <tr>\n",
       "      <th>4</th>\n",
       "      <td>236.45</td>\n",
       "      <td>236.45</td>\n",
       "      <td>236.45</td>\n",
       "      <td>248.90</td>\n",
       "      <td>236.45</td>\n",
       "      <td>236.45</td>\n",
       "      <td>236.45</td>\n",
       "      <td>262.05</td>\n",
       "      <td>236.45</td>\n",
       "      <td>7281398.0</td>\n",
       "      <td>1.721687e+09</td>\n",
       "      <td>88607.0</td>\n",
       "    </tr>\n",
       "  </tbody>\n",
       "</table>\n",
       "</div>"
      ],
      "text/plain": [
       "     open    high     low  prev_close     ltp   close    vwap  52w_high  \\\n",
       "0  213.35  222.25  207.55      214.50  210.10  211.15  216.13    262.05   \n",
       "1  202.80  224.10  202.80      213.45  221.60  214.50  208.11    262.05   \n",
       "2  213.45  213.45  213.45      224.65  213.45  213.45  213.45    262.05   \n",
       "3  224.65  224.65  224.65      236.45  224.65  224.65  224.65    262.05   \n",
       "4  236.45  236.45  236.45      248.90  236.45  236.45  236.45    262.05   \n",
       "\n",
       "   52w_low       volume         value  num_trades  \n",
       "0   202.80   87522126.0  1.891641e+10    614341.0  \n",
       "1   202.80  281040185.0  5.848655e+10    668251.0  \n",
       "2   213.45   27673356.0  5.906878e+09     85618.0  \n",
       "3   224.65    4289046.0  9.635342e+08     70571.0  \n",
       "4   236.45    7281398.0  1.721687e+09     88607.0  "
      ]
     },
     "execution_count": 42,
     "metadata": {},
     "output_type": "execute_result"
    }
   ],
   "source": [
    "# Select the relevant numerical columns for PCA\n",
    "numeric_columns = ['open', 'high', 'low', 'prev_close', 'ltp', 'close', 'vwap', '52w_high', '52w_low', 'volume', 'value', 'num_trades']\n",
    "data_for_pca = share_data[numeric_columns]\n",
    "\n",
    "data_for_pca"
   ]
  },
  {
   "cell_type": "code",
   "execution_count": 43,
   "metadata": {},
   "outputs": [
    {
     "data": {
      "text/plain": [
       "array([[-0.41758339, -0.26281598, -0.77494856, -0.96894032, -1.20530328,\n",
       "        -0.9437261 , -0.36604149,  0.        , -1.01588875,  0.05724246,\n",
       "         0.07941635,  1.12398958],\n",
       "       [-1.33731298, -0.01089393, -1.16529911, -1.0466628 ,  0.03783463,\n",
       "        -0.58810378, -1.17520708,  0.        , -1.01588875,  1.91559307,\n",
       "         1.90922672,  1.3201743 ],\n",
       "       [-0.40886557, -1.46114789, -0.29009209, -0.21762296, -0.8431718 ,\n",
       "        -0.69956749, -0.63643598,  0.        , -0.19810982, -0.51748426,\n",
       "        -0.52217318, -0.80009447],\n",
       "       [ 0.56752982,  0.06400182,  0.63031341,  0.65582973,  0.36753643,\n",
       "         0.48937877,  0.49357083,  0.        ,  0.66190182, -0.74204339,\n",
       "        -0.75076427, -0.85485224],\n",
       "       [ 1.59623211,  1.67085598,  1.60002635,  1.57739635,  1.64310402,\n",
       "         1.74201859,  1.68411372,  0.        ,  1.56798551, -0.71330788,\n",
       "        -0.71570563, -0.78921716]])"
      ]
     },
     "execution_count": 43,
     "metadata": {},
     "output_type": "execute_result"
    }
   ],
   "source": [
    "# Standardize the data (important for PCA)\n",
    "scaler = StandardScaler()\n",
    "data_scaled = scaler.fit_transform(data_for_pca)\n",
    "\n",
    "data_scaled"
   ]
  },
  {
   "cell_type": "code",
   "execution_count": 44,
   "metadata": {},
   "outputs": [
    {
     "data": {
      "text/plain": [
       "5"
      ]
     },
     "execution_count": 44,
     "metadata": {},
     "output_type": "execute_result"
    }
   ],
   "source": [
    "# Determine the maximum number of components\n",
    "max_components = min(data_scaled.shape[0], data_scaled.shape[1])\n",
    "\n",
    "max_components"
   ]
  },
  {
   "cell_type": "code",
   "execution_count": 45,
   "metadata": {},
   "outputs": [
    {
     "data": {
      "text/plain": [
       "array([[-2.22488356e+00,  4.37109345e-01,  1.19331170e+00,\n",
       "        -1.40596933e-03,  2.42715513e-16],\n",
       "       [-3.45064445e+00, -1.97036271e+00, -5.20199522e-01,\n",
       "         2.94353090e-03,  2.42715513e-16],\n",
       "       [-8.90980730e-01,  2.02096556e+00, -6.15962621e-01,\n",
       "        -3.62840871e-02,  2.42715513e-16],\n",
       "       [ 1.89927229e+00,  6.32087036e-01, -2.08772811e-01,\n",
       "         6.77283744e-02,  2.42715513e-16],\n",
       "       [ 4.66723645e+00, -1.11979923e+00,  1.51623255e-01,\n",
       "        -3.29818488e-02,  2.42715513e-16]])"
      ]
     },
     "execution_count": 45,
     "metadata": {},
     "output_type": "execute_result"
    }
   ],
   "source": [
    "# Apply PCA with the number of components you want to retain\n",
    "num_components = 5  # Choose an appropriate number of components\n",
    "pca = PCA(n_components=num_components)\n",
    "principal_components = pca.fit_transform(data_scaled)\n",
    "\n",
    "principal_components"
   ]
  },
  {
   "cell_type": "code",
   "execution_count": 46,
   "metadata": {},
   "outputs": [
    {
     "name": "stdout",
     "output_type": "stream",
     "text": [
      "Explained Variance Ratio: [7.82567853e-01 1.78385090e-01 3.89197455e-02 1.27311112e-04\n",
      " 5.35552913e-33]\n"
     ]
    }
   ],
   "source": [
    "# Explained variance ratio\n",
    "explained_variance_ratio = pca.explained_variance_ratio_\n",
    "print(\"Explained Variance Ratio:\", explained_variance_ratio)"
   ]
  },
  {
   "cell_type": "code",
   "execution_count": 47,
   "metadata": {},
   "outputs": [
    {
     "data": {
      "image/png": "[encoded data removed]",
      "text/plain": [
       "<Figure size 640x480 with 1 Axes>"
      ]
     },
     "metadata": {},
     "output_type": "display_data"
    }
   ],
   "source": [
    "# Plot explained variance ratio\n",
    "plt.bar(range(1, num_components + 1), explained_variance_ratio, color='b', alpha=0.7)\n",
    "plt.xlabel('Principal Component')\n",
    "plt.ylabel('Explained Variance Ratio')\n",
    "plt.title('Explained Variance Ratio for Principal Components')\n",
    "plt.show()"
   ]
  },
  {
   "cell_type": "code",
   "execution_count": 48,
   "metadata": {},
   "outputs": [
    {
     "data": {
      "text/html": [
       "<div>\n",
       "<style scoped>\n",
       "    .dataframe tbody tr th:only-of-type {\n",
       "        vertical-align: middle;\n",
       "    }\n",
       "\n",
       "    .dataframe tbody tr th {\n",
       "        vertical-align: top;\n",
       "    }\n",
       "\n",
       "    .dataframe thead th {\n",
       "        text-align: right;\n",
       "    }\n",
       "</style>\n",
       "<table border=\"1\" class=\"dataframe\">\n",
       "  <thead>\n",
       "    <tr style=\"text-align: right;\">\n",
       "      <th></th>\n",
       "      <th>PC1</th>\n",
       "      <th>PC2</th>\n",
       "      <th>PC3</th>\n",
       "      <th>PC4</th>\n",
       "      <th>PC5</th>\n",
       "    </tr>\n",
       "  </thead>\n",
       "  <tbody>\n",
       "    <tr>\n",
       "      <th>0</th>\n",
       "      <td>-2.224884</td>\n",
       "      <td>0.437109</td>\n",
       "      <td>1.193312</td>\n",
       "      <td>-0.001406</td>\n",
       "      <td>2.427155e-16</td>\n",
       "    </tr>\n",
       "    <tr>\n",
       "      <th>1</th>\n",
       "      <td>-3.450644</td>\n",
       "      <td>-1.970363</td>\n",
       "      <td>-0.520200</td>\n",
       "      <td>0.002944</td>\n",
       "      <td>2.427155e-16</td>\n",
       "    </tr>\n",
       "    <tr>\n",
       "      <th>2</th>\n",
       "      <td>-0.890981</td>\n",
       "      <td>2.020966</td>\n",
       "      <td>-0.615963</td>\n",
       "      <td>-0.036284</td>\n",
       "      <td>2.427155e-16</td>\n",
       "    </tr>\n",
       "    <tr>\n",
       "      <th>3</th>\n",
       "      <td>1.899272</td>\n",
       "      <td>0.632087</td>\n",
       "      <td>-0.208773</td>\n",
       "      <td>0.067728</td>\n",
       "      <td>2.427155e-16</td>\n",
       "    </tr>\n",
       "    <tr>\n",
       "      <th>4</th>\n",
       "      <td>4.667236</td>\n",
       "      <td>-1.119799</td>\n",
       "      <td>0.151623</td>\n",
       "      <td>-0.032982</td>\n",
       "      <td>2.427155e-16</td>\n",
       "    </tr>\n",
       "  </tbody>\n",
       "</table>\n",
       "</div>"
      ],
      "text/plain": [
       "        PC1       PC2       PC3       PC4           PC5\n",
       "0 -2.224884  0.437109  1.193312 -0.001406  2.427155e-16\n",
       "1 -3.450644 -1.970363 -0.520200  0.002944  2.427155e-16\n",
       "2 -0.890981  2.020966 -0.615963 -0.036284  2.427155e-16\n",
       "3  1.899272  0.632087 -0.208773  0.067728  2.427155e-16\n",
       "4  4.667236 -1.119799  0.151623 -0.032982  2.427155e-16"
      ]
     },
     "execution_count": 48,
     "metadata": {},
     "output_type": "execute_result"
    }
   ],
   "source": [
    "# Create a DataFrame for principal components\n",
    "# principal_df = pd.DataFrame(data=principal_components, columns=[f'PC{i+1}' for i in range(data_scaled.shape[1])])\n",
    "\n",
    "# principal_df\n",
    "\n",
    "# Create a DataFrame for principal components\n",
    "principal_df = pd.DataFrame(data=principal_components, columns=[f'PC{i+1}' for i in range(num_components)])\n",
    "\n",
    "principal_df\n"
   ]
  },
  {
   "cell_type": "code",
   "execution_count": 49,
   "metadata": {},
   "outputs": [
    {
     "data": {
      "text/html": [
       "<div>\n",
       "<style scoped>\n",
       "    .dataframe tbody tr th:only-of-type {\n",
       "        vertical-align: middle;\n",
       "    }\n",
       "\n",
       "    .dataframe tbody tr th {\n",
       "        vertical-align: top;\n",
       "    }\n",
       "\n",
       "    .dataframe thead th {\n",
       "        text-align: right;\n",
       "    }\n",
       "</style>\n",
       "<table border=\"1\" class=\"dataframe\">\n",
       "  <thead>\n",
       "    <tr style=\"text-align: right;\">\n",
       "      <th></th>\n",
       "      <th>PC1</th>\n",
       "      <th>PC2</th>\n",
       "      <th>PC3</th>\n",
       "      <th>PC4</th>\n",
       "      <th>PC5</th>\n",
       "    </tr>\n",
       "  </thead>\n",
       "  <tbody>\n",
       "    <tr>\n",
       "      <th>PC1</th>\n",
       "      <td>1.000000e+00</td>\n",
       "      <td>7.652117e-17</td>\n",
       "      <td>3.037164e-16</td>\n",
       "      <td>-8.572272e-17</td>\n",
       "      <td>-0.029712</td>\n",
       "    </tr>\n",
       "    <tr>\n",
       "      <th>PC2</th>\n",
       "      <td>7.652117e-17</td>\n",
       "      <td>1.000000e+00</td>\n",
       "      <td>-1.973572e-17</td>\n",
       "      <td>-6.793549e-17</td>\n",
       "      <td>-0.006146</td>\n",
       "    </tr>\n",
       "    <tr>\n",
       "      <th>PC3</th>\n",
       "      <td>3.037164e-16</td>\n",
       "      <td>-1.973572e-17</td>\n",
       "      <td>1.000000e+00</td>\n",
       "      <td>1.198019e-16</td>\n",
       "      <td>-0.127292</td>\n",
       "    </tr>\n",
       "    <tr>\n",
       "      <th>PC4</th>\n",
       "      <td>-8.572272e-17</td>\n",
       "      <td>-6.793549e-17</td>\n",
       "      <td>1.198019e-16</td>\n",
       "      <td>1.000000e+00</td>\n",
       "      <td>0.987559</td>\n",
       "    </tr>\n",
       "    <tr>\n",
       "      <th>PC5</th>\n",
       "      <td>-2.971184e-02</td>\n",
       "      <td>-6.146183e-03</td>\n",
       "      <td>-1.272924e-01</td>\n",
       "      <td>9.875588e-01</td>\n",
       "      <td>1.000000</td>\n",
       "    </tr>\n",
       "  </tbody>\n",
       "</table>\n",
       "</div>"
      ],
      "text/plain": [
       "              PC1           PC2           PC3           PC4       PC5\n",
       "PC1  1.000000e+00  7.652117e-17  3.037164e-16 -8.572272e-17 -0.029712\n",
       "PC2  7.652117e-17  1.000000e+00 -1.973572e-17 -6.793549e-17 -0.006146\n",
       "PC3  3.037164e-16 -1.973572e-17  1.000000e+00  1.198019e-16 -0.127292\n",
       "PC4 -8.572272e-17 -6.793549e-17  1.198019e-16  1.000000e+00  0.987559\n",
       "PC5 -2.971184e-02 -6.146183e-03 -1.272924e-01  9.875588e-01  1.000000"
      ]
     },
     "execution_count": 49,
     "metadata": {},
     "output_type": "execute_result"
    }
   ],
   "source": [
    "# Calculate the correlation matrix between principal components\n",
    "correlation_matrix = principal_df.corr()\n",
    "\n",
    "correlation_matrix"
   ]
  },
  {
   "cell_type": "code",
   "execution_count": 50,
   "metadata": {},
   "outputs": [
    {
     "data": {
      "image/png": "[encoded data removed]",
      "text/plain": [
       "<Figure size 1000x800 with 2 Axes>"
      ]
     },
     "metadata": {},
     "output_type": "display_data"
    }
   ],
   "source": [
    "# Create a heatmap to visualize the correlations\n",
    "plt.figure(figsize=(10, 8))\n",
    "sns.heatmap(data=correlation_matrix, annot=True, cmap='coolwarm', center=0)\n",
    "plt.title('Correlation Heatmap of Principal Components')\n",
    "plt.show()"
   ]
  },
  {
   "cell_type": "code",
   "execution_count": 51,
   "metadata": {},
   "outputs": [],
   "source": [
    "principal_components_reduced = principal_components[:, :4]"
   ]
  },
  {
   "cell_type": "code",
   "execution_count": 52,
   "metadata": {},
   "outputs": [
    {
     "data": {
      "text/html": [
       "<div>\n",
       "<style scoped>\n",
       "    .dataframe tbody tr th:only-of-type {\n",
       "        vertical-align: middle;\n",
       "    }\n",
       "\n",
       "    .dataframe tbody tr th {\n",
       "        vertical-align: top;\n",
       "    }\n",
       "\n",
       "    .dataframe thead th {\n",
       "        text-align: right;\n",
       "    }\n",
       "</style>\n",
       "<table border=\"1\" class=\"dataframe\">\n",
       "  <thead>\n",
       "    <tr style=\"text-align: right;\">\n",
       "      <th></th>\n",
       "      <th>PC1</th>\n",
       "      <th>PC2</th>\n",
       "      <th>PC3</th>\n",
       "      <th>PC4</th>\n",
       "    </tr>\n",
       "  </thead>\n",
       "  <tbody>\n",
       "    <tr>\n",
       "      <th>0</th>\n",
       "      <td>-2.224884</td>\n",
       "      <td>0.437109</td>\n",
       "      <td>1.193312</td>\n",
       "      <td>-0.001406</td>\n",
       "    </tr>\n",
       "    <tr>\n",
       "      <th>1</th>\n",
       "      <td>-3.450644</td>\n",
       "      <td>-1.970363</td>\n",
       "      <td>-0.520200</td>\n",
       "      <td>0.002944</td>\n",
       "    </tr>\n",
       "    <tr>\n",
       "      <th>2</th>\n",
       "      <td>-0.890981</td>\n",
       "      <td>2.020966</td>\n",
       "      <td>-0.615963</td>\n",
       "      <td>-0.036284</td>\n",
       "    </tr>\n",
       "    <tr>\n",
       "      <th>3</th>\n",
       "      <td>1.899272</td>\n",
       "      <td>0.632087</td>\n",
       "      <td>-0.208773</td>\n",
       "      <td>0.067728</td>\n",
       "    </tr>\n",
       "    <tr>\n",
       "      <th>4</th>\n",
       "      <td>4.667236</td>\n",
       "      <td>-1.119799</td>\n",
       "      <td>0.151623</td>\n",
       "      <td>-0.032982</td>\n",
       "    </tr>\n",
       "  </tbody>\n",
       "</table>\n",
       "</div>"
      ],
      "text/plain": [
       "        PC1       PC2       PC3       PC4\n",
       "0 -2.224884  0.437109  1.193312 -0.001406\n",
       "1 -3.450644 -1.970363 -0.520200  0.002944\n",
       "2 -0.890981  2.020966 -0.615963 -0.036284\n",
       "3  1.899272  0.632087 -0.208773  0.067728\n",
       "4  4.667236 -1.119799  0.151623 -0.032982"
      ]
     },
     "execution_count": 52,
     "metadata": {},
     "output_type": "execute_result"
    }
   ],
   "source": [
    "# Create a DataFrame for the reduced principal components\n",
    "principal_df_reduced = pd.DataFrame(data=principal_components_reduced, columns=[f'PC{i+1}' for i in range(principal_components_reduced.shape[1])])\n",
    "\n",
    "principal_df_reduced"
   ]
  },
  {
   "cell_type": "code",
   "execution_count": 53,
   "metadata": {},
   "outputs": [
    {
     "data": {
      "text/html": [
       "<div>\n",
       "<style scoped>\n",
       "    .dataframe tbody tr th:only-of-type {\n",
       "        vertical-align: middle;\n",
       "    }\n",
       "\n",
       "    .dataframe tbody tr th {\n",
       "        vertical-align: top;\n",
       "    }\n",
       "\n",
       "    .dataframe thead th {\n",
       "        text-align: right;\n",
       "    }\n",
       "</style>\n",
       "<table border=\"1\" class=\"dataframe\">\n",
       "  <thead>\n",
       "    <tr style=\"text-align: right;\">\n",
       "      <th></th>\n",
       "      <th>PC1</th>\n",
       "      <th>PC2</th>\n",
       "      <th>PC3</th>\n",
       "      <th>PC4</th>\n",
       "    </tr>\n",
       "  </thead>\n",
       "  <tbody>\n",
       "    <tr>\n",
       "      <th>PC1</th>\n",
       "      <td>1.000000e+00</td>\n",
       "      <td>7.652117e-17</td>\n",
       "      <td>3.037164e-16</td>\n",
       "      <td>-8.572272e-17</td>\n",
       "    </tr>\n",
       "    <tr>\n",
       "      <th>PC2</th>\n",
       "      <td>7.652117e-17</td>\n",
       "      <td>1.000000e+00</td>\n",
       "      <td>-1.973572e-17</td>\n",
       "      <td>-6.793549e-17</td>\n",
       "    </tr>\n",
       "    <tr>\n",
       "      <th>PC3</th>\n",
       "      <td>3.037164e-16</td>\n",
       "      <td>-1.973572e-17</td>\n",
       "      <td>1.000000e+00</td>\n",
       "      <td>1.198019e-16</td>\n",
       "    </tr>\n",
       "    <tr>\n",
       "      <th>PC4</th>\n",
       "      <td>-8.572272e-17</td>\n",
       "      <td>-6.793549e-17</td>\n",
       "      <td>1.198019e-16</td>\n",
       "      <td>1.000000e+00</td>\n",
       "    </tr>\n",
       "  </tbody>\n",
       "</table>\n",
       "</div>"
      ],
      "text/plain": [
       "              PC1           PC2           PC3           PC4\n",
       "PC1  1.000000e+00  7.652117e-17  3.037164e-16 -8.572272e-17\n",
       "PC2  7.652117e-17  1.000000e+00 -1.973572e-17 -6.793549e-17\n",
       "PC3  3.037164e-16 -1.973572e-17  1.000000e+00  1.198019e-16\n",
       "PC4 -8.572272e-17 -6.793549e-17  1.198019e-16  1.000000e+00"
      ]
     },
     "execution_count": 53,
     "metadata": {},
     "output_type": "execute_result"
    }
   ],
   "source": [
    "# Calculate the correlation matrix between principal components\n",
    "correlation_matrix_reduced = principal_df_reduced.corr()\n",
    "\n",
    "correlation_matrix_reduced"
   ]
  },
  {
   "cell_type": "code",
   "execution_count": 54,
   "metadata": {},
   "outputs": [
    {
     "data": {
      "image/png": "[encoded data removed]",
      "text/plain": [
       "<Figure size 1000x800 with 2 Axes>"
      ]
     },
     "metadata": {},
     "output_type": "display_data"
    }
   ],
   "source": [
    "# Create a heatmap to visualize the correlations\n",
    "plt.figure(figsize=(10, 8))\n",
    "sns.heatmap(data=correlation_matrix_reduced, annot=True, cmap='coolwarm', center=0)\n",
    "plt.title('Correlation Heatmap of Reduced Principal Components')\n",
    "plt.show()"
   ]
  },
  {
   "cell_type": "markdown",
   "metadata": {},
   "source": [
    "Now we start with the modelling part and splitting data into test and train\n"
   ]
  },
  {
   "cell_type": "code",
   "execution_count": 55,
   "metadata": {},
   "outputs": [
    {
     "name": "stdout",
     "output_type": "stream",
     "text": [
      "This is X :         PC1       PC2       PC3       PC4\n",
      "0 -2.224884  0.437109  1.193312 -0.001406\n",
      "1 -3.450644 -1.970363 -0.520200  0.002944\n",
      "2 -0.890981  2.020966 -0.615963 -0.036284\n",
      "3  1.899272  0.632087 -0.208773  0.067728\n",
      "4  4.667236 -1.119799  0.151623 -0.032982\n",
      "This is y: 0    222.25\n",
      "1    224.10\n",
      "2    213.45\n",
      "3    224.65\n",
      "4    236.45\n",
      "Name: high, dtype: float64\n"
     ]
    }
   ],
   "source": [
    "from sklearn.model_selection import train_test_split\n",
    "\n",
    "# Define the features (X) and the target variable (y)\n",
    "X = principal_df_reduced  # Features (principal components)\n",
    "y = share_data['high']     # Target variable\n",
    "\n",
    "print('This is X :', X)\n",
    "print('This is y:' , y)"
   ]
  },
  {
   "cell_type": "code",
   "execution_count": 56,
   "metadata": {},
   "outputs": [],
   "source": [
    "# Split the data into training and testing sets\n",
    "X_train, X_test, y_train, y_test = train_test_split(X, y, test_size=0.2, random_state=42)"
   ]
  },
  {
   "cell_type": "code",
   "execution_count": 57,
   "metadata": {},
   "outputs": [
    {
     "name": "stdout",
     "output_type": "stream",
     "text": [
      "X_train shape: (4, 4)\n",
      "X_test shape: (1, 4)\n",
      "y_train shape: (4,)\n",
      "y_test shape: (1,)\n"
     ]
    }
   ],
   "source": [
    "# Print the shape of the resulting sets\n",
    "print(\"X_train shape:\", X_train.shape)\n",
    "print(\"X_test shape:\", X_test.shape)\n",
    "print(\"y_train shape:\", y_train.shape)\n",
    "print(\"y_test shape:\", y_test.shape)"
   ]
  },
  {
   "cell_type": "markdown",
   "metadata": {},
   "source": [
    "For adding Explainable AI we will move ahead with SHAP"
   ]
  },
  {
   "cell_type": "code",
   "execution_count": null,
   "metadata": {},
   "outputs": [],
   "source": [
    "pip install shap"
   ]
  },
  {
   "cell_type": "markdown",
   "metadata": {},
   "source": [
    "We will be moving forward with regression models"
   ]
  },
  {
   "cell_type": "markdown",
   "metadata": {},
   "source": [
    "  Linear Rgression"
   ]
  },
  {
   "cell_type": "code",
   "execution_count": 59,
   "metadata": {},
   "outputs": [
    {
     "name": "stdout",
     "output_type": "stream",
     "text": [
      "Linear Regression Mean Squared Error: 13.615401870454997\n"
     ]
    }
   ],
   "source": [
    "from sklearn.linear_model import LinearRegression\n",
    "from sklearn.metrics import mean_squared_error\n",
    "\n",
    "# Create a Linear Regression model\n",
    "linear_reg = LinearRegression()\n",
    "\n",
    "# Train the model\n",
    "linear_reg.fit(X_train, y_train)\n",
    "\n",
    "# Predict on the testing set\n",
    "y_pred_linear = linear_reg.predict(X_test)\n",
    "\n",
    "# Evaluate the model\n",
    "mse_linear = mean_squared_error(y_test, y_pred_linear)\n",
    "print(\"Linear Regression Mean Squared Error:\", mse_linear)\n"
   ]
  },
  {
   "cell_type": "code",
   "execution_count": 60,
   "metadata": {},
   "outputs": [
    {
     "name": "stderr",
     "output_type": "stream",
     "text": [
      "/Users/anurag13.pandey/anaconda3/lib/python3.10/site-packages/tqdm/auto.py:22: TqdmWarning:\n",
      "\n",
      "IProgress not found. Please update jupyter and ipywidgets. See https://ipywidgets.readthedocs.io/en/stable/user_install.html\n",
      "\n",
      "No data for colormapping provided via 'c'. Parameters 'vmin', 'vmax' will be ignored\n"
     ]
    },
    {
     "data": {
      "image/png": "[encoded data removed]",
      "text/plain": [
       "<Figure size 800x310 with 2 Axes>"
      ]
     },
     "metadata": {},
     "output_type": "display_data"
    }
   ],
   "source": [
    "import shap\n",
    "\n",
    "# Initialize the explainer\n",
    "explainer = shap.Explainer(linear_reg, X_train)\n",
    "\n",
    "# Explain the predictions on the testing set\n",
    "shap_values_linear = explainer(X_test)\n",
    "\n",
    "# Summarize the SHAP values\n",
    "shap.summary_plot(shap_values_linear, X_test)"
   ]
  },
  {
   "cell_type": "markdown",
   "metadata": {},
   "source": [
    "**Ridge Regression\n"
   ]
  },
  {
   "cell_type": "code",
   "execution_count": 61,
   "metadata": {},
   "outputs": [
    {
     "name": "stdout",
     "output_type": "stream",
     "text": [
      "Ridge Regression Mean Squared Error: 0.6650112762137609\n"
     ]
    }
   ],
   "source": [
    "from sklearn.linear_model import Ridge\n",
    "\n",
    "# Create a Ridge Regression model\n",
    "ridge_reg = Ridge(alpha=1.0)  # You can adjust the alpha value\n",
    "\n",
    "# Train the model\n",
    "ridge_reg.fit(X_train, y_train)\n",
    "\n",
    "# Predict on the testing set\n",
    "y_pred_ridge = ridge_reg.predict(X_test)\n",
    "\n",
    "# Evaluate the model\n",
    "mse_ridge = mean_squared_error(y_test, y_pred_ridge)\n",
    "print(\"Ridge Regression Mean Squared Error:\", mse_ridge)"
   ]
  },
  {
   "cell_type": "code",
   "execution_count": 62,
   "metadata": {},
   "outputs": [
    {
     "name": "stderr",
     "output_type": "stream",
     "text": [
      "No data for colormapping provided via 'c'. Parameters 'vmin', 'vmax' will be ignored\n"
     ]
    },
    {
     "data": {
      "image/png": "[encoded data removed]",
      "text/plain": [
       "<Figure size 800x310 with 2 Axes>"
      ]
     },
     "metadata": {},
     "output_type": "display_data"
    }
   ],
   "source": [
    "# Initialize the explainer\n",
    "explainer = shap.Explainer(ridge_reg, X_train)\n",
    "\n",
    "# Explain the predictions on the testing set\n",
    "shap_values_ridge = explainer(X_test)\n",
    "\n",
    "# Summarize the SHAP values\n",
    "shap.summary_plot(shap_values_ridge, X_test)"
   ]
  },
  {
   "cell_type": "markdown",
   "metadata": {},
   "source": [
    "Lasso Regression"
   ]
  },
  {
   "cell_type": "code",
   "execution_count": 63,
   "metadata": {},
   "outputs": [
    {
     "name": "stdout",
     "output_type": "stream",
     "text": [
      "Lasso Regression Mean Squared Error: 7.651283629537602\n"
     ]
    }
   ],
   "source": [
    "from sklearn.linear_model import Lasso\n",
    "\n",
    "# Create a Lasso Regression model\n",
    "lasso_reg = Lasso(alpha=0.01)  # You can adjust the alpha value\n",
    "\n",
    "# Train the model\n",
    "lasso_reg.fit(X_train, y_train)\n",
    "\n",
    "# Predict on the testing set\n",
    "y_pred_lasso = lasso_reg.predict(X_test)\n",
    "\n",
    "# Evaluate the model\n",
    "mse_lasso = mean_squared_error(y_test, y_pred_lasso)\n",
    "print(\"Lasso Regression Mean Squared Error:\", mse_lasso)\n"
   ]
  },
  {
   "cell_type": "code",
   "execution_count": 64,
   "metadata": {},
   "outputs": [
    {
     "name": "stderr",
     "output_type": "stream",
     "text": [
      "No data for colormapping provided via 'c'. Parameters 'vmin', 'vmax' will be ignored\n"
     ]
    },
    {
     "data": {
      "image/png": "[encoded data removed]",
      "text/plain": [
       "<Figure size 800x310 with 2 Axes>"
      ]
     },
     "metadata": {},
     "output_type": "display_data"
    }
   ],
   "source": [
    "# Initialize the explainer\n",
    "explainer = shap.Explainer(lasso_reg, X_train)\n",
    "\n",
    "# Explain the predictions on the testing set\n",
    "shap_values_lasso = explainer(X_test)\n",
    "\n",
    "# Summarize the SHAP values\n",
    "shap.summary_plot(shap_values_lasso, X_test)"
   ]
  },
  {
   "cell_type": "markdown",
   "metadata": {},
   "source": [
    "Adding Explainability to tree and RF"
   ]
  },
  {
   "cell_type": "code",
   "execution_count": 65,
   "metadata": {},
   "outputs": [
    {
     "name": "stdout",
     "output_type": "stream",
     "text": [
      "Requirement already satisfied: treeinterpreter in /Users/anurag13.pandey/anaconda3/lib/python3.10/site-packages (0.2.3)\n",
      "\n",
      "\u001b[1m[\u001b[0m\u001b[34;49mnotice\u001b[0m\u001b[1;39;49m]\u001b[0m\u001b[39;49m A new release of pip is available: \u001b[0m\u001b[31;49m23.2\u001b[0m\u001b[39;49m -> \u001b[0m\u001b[32;49m23.2.1\u001b[0m\n",
      "\u001b[1m[\u001b[0m\u001b[34;49mnotice\u001b[0m\u001b[1;39;49m]\u001b[0m\u001b[39;49m To update, run: \u001b[0m\u001b[32;49mpip install --upgrade pip\u001b[0m\n",
      "Note: you may need to restart the kernel to use updated packages.\n"
     ]
    }
   ],
   "source": [
    "pip install treeinterpreter"
   ]
  },
  {
   "cell_type": "code",
   "execution_count": 66,
   "metadata": {},
   "outputs": [],
   "source": [
    "# from treeinterpreter import treeinterpreter as ti\n",
    "\n",
    "# # Initialize the treeinterpreter explainer\n",
    "# explainer_rf = ti.ExtraTreesRegressor(rf_model)\n",
    "\n",
    "# # Explain the predictions on the testing set\n",
    "# prediction_rf, bias_rf, contributions_rf = explainer_rf.predict(X_test)\n",
    "\n",
    "# # Summarize the feature contributions\n",
    "# shap.summary_plot(contributions_rf, X_test)"
   ]
  },
  {
   "cell_type": "markdown",
   "metadata": {},
   "source": [
    "Applying decision Tree\n"
   ]
  },
  {
   "cell_type": "code",
   "execution_count": 67,
   "metadata": {},
   "outputs": [
    {
     "name": "stdout",
     "output_type": "stream",
     "text": [
      "Decision Tree Regression Mean Squared Error: 113.42250000000013\n"
     ]
    }
   ],
   "source": [
    "from sklearn.tree import DecisionTreeRegressor\n",
    "from sklearn.metrics import mean_squared_error\n",
    "\n",
    "# Create a Decision Tree Regression model\n",
    "decision_tree_reg = DecisionTreeRegressor(random_state=42)\n",
    "\n",
    "# Train the model\n",
    "decision_tree_reg.fit(X_train, y_train)\n",
    "\n",
    "# Predict on the testing set\n",
    "y_pred_tree = decision_tree_reg.predict(X_test)\n",
    "\n",
    "# Evaluate the model\n",
    "mse_tree = mean_squared_error(y_test, y_pred_tree)\n",
    "print(\"Decision Tree Regression Mean Squared Error:\", mse_tree)\n"
   ]
  },
  {
   "cell_type": "code",
   "execution_count": 68,
   "metadata": {},
   "outputs": [
    {
     "name": "stderr",
     "output_type": "stream",
     "text": [
      "No data for colormapping provided via 'c'. Parameters 'vmin', 'vmax' will be ignored\n"
     ]
    },
    {
     "data": {
      "image/png": "[encoded data removed]",
      "text/plain": [
       "<Figure size 800x310 with 2 Axes>"
      ]
     },
     "metadata": {},
     "output_type": "display_data"
    }
   ],
   "source": [
    "# Initialize the explainer\n",
    "explainer_tree = shap.Explainer(decision_tree_reg, X_train)\n",
    "\n",
    "# Explain the predictions on the testing set\n",
    "shap_values_tree = explainer_tree(X_test)\n",
    "\n",
    "# Visualize the SHAP values\n",
    "shap.summary_plot(shap_values_tree, X_test)\n"
   ]
  },
  {
   "cell_type": "markdown",
   "metadata": {},
   "source": [
    "Applying Random forest"
   ]
  },
  {
   "cell_type": "code",
   "execution_count": 69,
   "metadata": {},
   "outputs": [
    {
     "name": "stdout",
     "output_type": "stream",
     "text": [
      "Random Forest Regression Mean Squared Error: 1.6129000000006757\n"
     ]
    }
   ],
   "source": [
    "from sklearn.ensemble import RandomForestRegressor\n",
    "\n",
    "# Create a Random Forest Regression model\n",
    "random_forest_reg = RandomForestRegressor(random_state=42)\n",
    "\n",
    "# Train the model\n",
    "random_forest_reg.fit(X_train, y_train)\n",
    "\n",
    "# Predict on the testing set\n",
    "y_pred_rf = random_forest_reg.predict(X_test)\n",
    "\n",
    "# Evaluate the model\n",
    "mse_rf = mean_squared_error(y_test, y_pred_rf)\n",
    "print(\"Random Forest Regression Mean Squared Error:\", mse_rf)\n"
   ]
  },
  {
   "cell_type": "code",
   "execution_count": 70,
   "metadata": {},
   "outputs": [
    {
     "name": "stderr",
     "output_type": "stream",
     "text": [
      "No data for colormapping provided via 'c'. Parameters 'vmin', 'vmax' will be ignored\n"
     ]
    },
    {
     "data": {
      "image/png": "[encoded data removed]",
      "text/plain": [
       "<Figure size 800x310 with 2 Axes>"
      ]
     },
     "metadata": {},
     "output_type": "display_data"
    }
   ],
   "source": [
    "# Initialize the explainer\n",
    "explainer_tree = shap.Explainer(random_forest_reg, X_train)\n",
    "\n",
    "# Explain the predictions on the testing set\n",
    "shap_values_rf = explainer_tree(X_test)\n",
    "\n",
    "# Visualize the SHAP values\n",
    "shap.summary_plot(shap_values_rf, X_test)"
   ]
  },
  {
   "cell_type": "code",
   "execution_count": null,
   "metadata": {},
   "outputs": [],
   "source": []
  }
 ],
 "metadata": {
  "kernelspec": {
   "display_name": "Python 3",
   "language": "python",
   "name": "python3"
  },
  "language_info": {
   "codemirror_mode": {
    "name": "ipython",
    "version": 3
   },
   "file_extension": ".py",
   "mimetype": "text/x-python",
   "name": "python",
   "nbconvert_exporter": "python",
   "pygments_lexer": "ipython3",
   "version": "3.10.9"
  },
  "orig_nbformat": 4
 },
 "nbformat": 4,
 "nbformat_minor": 2
}
